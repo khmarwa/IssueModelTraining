{
 "cells": [
  {
   "cell_type": "code",
   "execution_count": 1,
   "metadata": {},
   "outputs": [
    {
     "name": "stderr",
     "output_type": "stream",
     "text": [
      "Using TensorFlow backend.\n"
     ]
    },
    {
     "name": "stdout",
     "output_type": "stream",
     "text": [
      "import done\n"
     ]
    }
   ],
   "source": [
    "import os\n",
    "import pandas as pd\n",
    "import numpy as np\n",
    "import warnings\n",
    "warnings.filterwarnings('ignore')\n",
    "from keras.preprocessing.text import Tokenizer\n",
    "from keras.preprocessing.sequence import pad_sequences\n",
    "from keras.models import Sequential\n",
    "from keras.layers import Dense, Embedding, LSTM\n",
    "from keras.utils.np_utils import to_categorical\n",
    "from keras.callbacks import ModelCheckpoint\n",
    "from keras.models import load_model\n",
    "from keras.optimizers import Adam\n",
    "print(\"import done\")"
   ]
  },
  {
   "cell_type": "code",
   "execution_count": 2,
   "metadata": {},
   "outputs": [],
   "source": [
    "#https://github.com/debadridtt/A-Review-of-Different-Word-Embeddings-for-Sentiment-Classification-using-Deep-Learning/blob/master/LSTM%20Experiment.ipynb"
   ]
  },
  {
   "cell_type": "code",
   "execution_count": 3,
   "metadata": {},
   "outputs": [
    {
     "name": "stdout",
     "output_type": "stream",
     "text": [
      "                                                text     label\n",
      "0  I had ordered a data cable, got a very well fi...  NOTISSUE\n",
      "1                                   Love This Phone.  NOTISSUE\n",
      "2                I get a very well finished product.  NOTISSUE\n",
      "3                            I could not be happier.  NOTISSUE\n",
      "4  I was looking for this headset for a long time...  NOTISSUE\n"
     ]
    }
   ],
   "source": [
    "DATA_FILE = 'C:/Users/khmar/git_repo/IssueModelTraining/DATA/DATA.csv'\n",
    "df = pd.read_csv(DATA_FILE,delimiter=';',encoding='UTF-8')\n",
    "print(df.head())"
   ]
  },
  {
   "cell_type": "code",
   "execution_count": 4,
   "metadata": {},
   "outputs": [
    {
     "data": {
      "text/plain": [
       "NOTISSUE    2030\n",
       "ISSUE       2025\n",
       "Name: label, dtype: int64"
      ]
     },
     "execution_count": 4,
     "metadata": {},
     "output_type": "execute_result"
    }
   ],
   "source": [
    "df['label'].value_counts() #imbalanced Dataset\n"
   ]
  },
  {
   "cell_type": "code",
   "execution_count": 5,
   "metadata": {},
   "outputs": [
    {
     "data": {
      "text/plain": [
       "(4055, 2)"
      ]
     },
     "execution_count": 5,
     "metadata": {},
     "output_type": "execute_result"
    }
   ],
   "source": [
    "df.shape"
   ]
  },
  {
   "cell_type": "markdown",
   "metadata": {},
   "source": [
    "### Preprocessing the Data "
   ]
  },
  {
   "cell_type": "code",
   "execution_count": 6,
   "metadata": {},
   "outputs": [
    {
     "name": "stderr",
     "output_type": "stream",
     "text": [
      "[nltk_data] Downloading package stopwords to\n",
      "[nltk_data]     C:\\Users\\khmar\\AppData\\Roaming\\nltk_data...\n",
      "[nltk_data]   Package stopwords is already up-to-date!\n"
     ]
    },
    {
     "data": {
      "text/plain": [
       "True"
      ]
     },
     "execution_count": 6,
     "metadata": {},
     "output_type": "execute_result"
    }
   ],
   "source": [
    "import nltk                      # the natural langauage toolkit, open-source NLP\n",
    "import gensim\n",
    "from nltk.corpus import stopwords  \n",
    "from gensim import parsing\n",
    "import re# Help in preprocessing the data, very efficiently\n",
    "from nltk.stem import WordNetLemmatizer\n",
    "from nltk.tokenize import word_tokenize\n",
    "from spellchecker import SpellChecker\n",
    "nltk.download('stopwords')"
   ]
  },
  {
   "cell_type": "code",
   "execution_count": 7,
   "metadata": {},
   "outputs": [],
   "source": [
    "STOP_WORDS ={\n",
    " 'a',\n",
    " 'about',\n",
    " 'above',\n",
    " 'across',\n",
    " 'after',\n",
    " 'afterwards',\n",
    " 'again',\n",
    " 'against',\n",
    " 'all',\n",
    " 'almost',\n",
    " 'alone',\n",
    " 'along',\n",
    " 'already',\n",
    " 'also',\n",
    " 'although',\n",
    " 'always',\n",
    " 'am',\n",
    " 'among',\n",
    " 'amongst',\n",
    " 'amount',\n",
    " 'an',\n",
    " 'and',\n",
    " 'another',\n",
    " 'any',\n",
    " 'anyhow',\n",
    " 'anyone',\n",
    " 'anything',\n",
    " 'anyway',\n",
    " 'anywhere',\n",
    " 'are',\n",
    " 'around',\n",
    " 'as',\n",
    " 'at',\n",
    " 'back',\n",
    " 'be',\n",
    " 'became',\n",
    " 'because',\n",
    " 'become',\n",
    " 'becomes',\n",
    " 'becoming',\n",
    " 'been',\n",
    " 'before',\n",
    " 'beforehand',\n",
    " 'behind',\n",
    " 'being',\n",
    " 'below',\n",
    " 'beside',\n",
    " 'besides',\n",
    " 'between',\n",
    " 'beyond',\n",
    " 'both',\n",
    " 'bottom',\n",
    " 'but',\n",
    " 'by',\n",
    " 'ca',\n",
    " 'call',\n",
    " 'can',\n",
    " 'cannot',\n",
    " 'could',\n",
    " 'did',\n",
    " 'do',\n",
    " 'does',\n",
    " 'doing',\n",
    " 'done',\n",
    " 'down',\n",
    " 'due',\n",
    " 'during',\n",
    " 'each',\n",
    " 'eight',\n",
    " 'either',\n",
    " 'eleven',\n",
    " 'else',\n",
    " 'elsewhere',\n",
    " 'empty',\n",
    " 'enough',\n",
    " 'even',\n",
    " 'ever',\n",
    " 'every',\n",
    " 'everyone',\n",
    " 'everything',\n",
    " 'everywhere',\n",
    " 'except',\n",
    " 'few',\n",
    " 'fifteen',\n",
    " 'fifty',\n",
    " 'first',\n",
    " 'five',\n",
    " 'for',\n",
    " 'former',\n",
    " 'formerly',\n",
    " 'forty',\n",
    " 'four',\n",
    " 'from',\n",
    " 'front',\n",
    " 'full',\n",
    " 'further',\n",
    " 'get',\n",
    " 'give',\n",
    " 'go',\n",
    " 'had',\n",
    " 'has',\n",
    " 'have',\n",
    " 'he',\n",
    " 'hence',\n",
    " 'her',\n",
    " 'here',\n",
    " 'hereafter',\n",
    " 'hereby',\n",
    " 'herein',\n",
    " 'hereupon',\n",
    " 'hers',\n",
    " 'herself',\n",
    " 'him',\n",
    " 'himself',\n",
    " 'his',\n",
    " 'how',\n",
    " 'however',\n",
    " 'hundred',\n",
    " 'i',\n",
    " 'if',\n",
    " 'in',\n",
    " 'indeed',\n",
    " 'into',\n",
    " 'is',\n",
    " 'it',\n",
    " 'its',\n",
    " 'itself',\n",
    " 'just',\n",
    " 'keep',\n",
    " 'last',\n",
    " 'latter',\n",
    " 'latterly',\n",
    " 'least',\n",
    " 'less',\n",
    " 'made',\n",
    " 'make',\n",
    " 'many',\n",
    " 'may',\n",
    " 'me',\n",
    " 'meanwhile',\n",
    " 'might',\n",
    " 'mine',\n",
    " 'more',\n",
    " 'moreover',\n",
    " 'most',\n",
    " 'mostly',\n",
    " 'move',\n",
    " 'much',\n",
    " 'must',\n",
    " 'my',\n",
    " 'myself',\n",
    " 'name',\n",
    " 'namely',\n",
    " 'neither',\n",
    " 'never',\n",
    " 'nevertheless',\n",
    " 'next',\n",
    " 'nine',\n",
    " 'nobody',\n",
    " 'none',\n",
    " 'noone',\n",
    " 'nor',\n",
    " 'nothing',\n",
    " 'now',\n",
    " 'nowhere',\n",
    " 'of',\n",
    " 'off',\n",
    " 'often',\n",
    " 'on',\n",
    " 'once',\n",
    " 'one',\n",
    " 'only',\n",
    " 'onto',\n",
    " 'or',\n",
    " 'other',\n",
    " 'others',\n",
    " 'otherwise',\n",
    " 'our',\n",
    " 'ours',\n",
    " 'ourselves',\n",
    " 'out',\n",
    " 'over',\n",
    " 'own',\n",
    " 'part',\n",
    " 'per',\n",
    " 'perhaps',\n",
    " 'please',\n",
    " 'put',\n",
    " 'quite',\n",
    " 'rather',\n",
    " 're',\n",
    " 'really',\n",
    " 'regarding',\n",
    " 'same',\n",
    " 'say',\n",
    " 'see',\n",
    " 'seem',\n",
    " 'seemed',\n",
    " 'seeming',\n",
    " 'seems',\n",
    " 'serious',\n",
    " 'several',\n",
    " 'she',\n",
    " 'should',\n",
    " 'show',\n",
    " 'side',\n",
    " 'since',\n",
    " 'six',\n",
    " 'sixty',\n",
    " 'so',\n",
    " 'some',\n",
    " 'somehow',\n",
    " 'someone',\n",
    " 'something',\n",
    " 'sometime',\n",
    " 'sometimes',\n",
    " 'somewhere',\n",
    " 'still',\n",
    " 'such',\n",
    " 'take',\n",
    " 'ten',\n",
    " 'than',\n",
    " 'that',\n",
    " 'the',\n",
    " 'their',\n",
    " 'them',\n",
    " 'themselves',\n",
    " 'then',\n",
    " 'thence',\n",
    " 'there',\n",
    " 'thereafter',\n",
    " 'thereby',\n",
    " 'therefore',\n",
    " 'therein',\n",
    " 'thereupon',\n",
    " 'these',\n",
    " 'they',\n",
    " 'third',\n",
    " 'this',\n",
    " 'those',\n",
    " 'though',\n",
    " 'three',\n",
    " 'through',\n",
    " 'throughout',\n",
    " 'thru',\n",
    " 'thus',\n",
    " 'to',\n",
    " 'together',\n",
    " 'too',\n",
    " 'top',\n",
    " 'toward',\n",
    " 'towards',\n",
    " 'twelve',\n",
    " 'twenty',\n",
    " 'two',\n",
    " 'under',\n",
    " 'unless',\n",
    " 'until',\n",
    " 'up',\n",
    " 'upon',\n",
    " 'us',\n",
    " 'used',\n",
    " 'using',\n",
    " 'various',\n",
    " 'very',\n",
    " 'via',\n",
    " 'was',\n",
    " 'we',\n",
    " 'well',\n",
    " 'were',\n",
    " 'what',\n",
    " 'whatever',\n",
    " 'when',\n",
    " 'whence',\n",
    " 'whenever',\n",
    " 'where',\n",
    " 'whereafter',\n",
    " 'whereas',\n",
    " 'whereby',\n",
    " 'wherein',\n",
    " 'whereupon',\n",
    " 'wherever',\n",
    " 'whether',\n",
    " 'which',\n",
    " 'while',\n",
    " 'whither',\n",
    " 'who',\n",
    " 'whoever',\n",
    " 'whole',\n",
    " 'whom',\n",
    " 'whose',\n",
    " 'why',\n",
    " 'will',\n",
    " 'with',\n",
    " 'within',\n",
    " 'without',\n",
    " 'would',\n",
    " 'yet',\n",
    " 'you',\n",
    " 'your',\n",
    " 'yours',\n",
    " 'yourself',\n",
    " 'yourselves'}"
   ]
  },
  {
   "cell_type": "code",
   "execution_count": 9,
   "metadata": {},
   "outputs": [],
   "source": [
    "def transformText(text):\n",
    "    #stops = set(stopwords.words(\"english\"))\n",
    "    # Convert text to lower\n",
    "    text = text.lower()\n",
    "    #print(text)\n",
    "    # Removing non ASCII chars    \n",
    "    text = re.sub(r'[^\\x00-\\x7f]',r' ',text)\n",
    "    # Strip multiple whitespaces\n",
    "    text = gensim.corpora.textcorpus.strip_multiple_whitespaces(text)\n",
    "    \n",
    "    # Removing all the stopwords\n",
    "    text = [word for word in text.split() if word not in STOP_WORDS]\n",
    "\n",
    "    ##Fixing Word Lengthening\n",
    "    #pattern = re.compile(r\"(.)\\1{2,}\")\n",
    "    #pattern.sub(r\"\\1\\1\", text)\n",
    "    #print(text)\n",
    "    \n",
    "    # Preprocessed text after stop words removal\n",
    "    text = \" \".join(text)\n",
    "    # Remove the punctuation\n",
    "    text = gensim.parsing.preprocessing.strip_punctuation2(text)\n",
    "    \n",
    "    # Strip all the numerics\n",
    "    text = gensim.parsing.preprocessing.strip_numeric(text)\n",
    "    \n",
    "    # Strip multiple whitespaces\n",
    "    text = gensim.corpora.textcorpus.strip_multiple_whitespaces(text)\n",
    "    \n",
    "    ##Lemmatisation\n",
    "    from nltk.stem.wordnet import WordNetLemmatizer\n",
    "    \n",
    "    # Stemming\n",
    "    text=gensim.parsing.preprocessing.stem_text(text)\n",
    "    #Spellchecker \n",
    "    #correcteur\n",
    "    # find those words that may be misspelled\n",
    "    spell = SpellChecker()\n",
    "    misspelled = text.split()\n",
    "    for i in range(len(misspelled)):\n",
    "    # Get the one `most likely` answer\n",
    "        word = spell.correction(misspelled[i])\n",
    "        misspelled[i]=word\n",
    "        text = \" \".join(misspelled)\n",
    "\n",
    "    # Reduce words to their root form\n",
    "    text = [WordNetLemmatizer().lemmatize(word) for word in text.split()]\n",
    "        \n",
    "    lemmatizer=WordNetLemmatizer()\n",
    "    #text=word_tokenize(text)\n",
    "    for word in text:\n",
    "        word=lemmatizer.lemmatize(word,pos='v')\n",
    "        word=lemmatizer.lemmatize(word,pos='n')\n",
    "    \n",
    "    return text"
   ]
  },
  {
   "cell_type": "code",
   "execution_count": 10,
   "metadata": {},
   "outputs": [
    {
     "data": {
      "text/plain": [
       "['good', 'service', 'group']"
      ]
     },
     "execution_count": 10,
     "metadata": {},
     "output_type": "execute_result"
    }
   ],
   "source": [
    "transformText(\"goud servic groop\")"
   ]
  },
  {
   "cell_type": "code",
   "execution_count": null,
   "metadata": {},
   "outputs": [],
   "source": [
    "df['text'] = df['text'].map(transformText)\n",
    "texts= df['text']\n",
    "tags= df['label']"
   ]
  },
  {
   "cell_type": "code",
   "execution_count": null,
   "metadata": {},
   "outputs": [],
   "source": [
    "df=df[texts,tags]"
   ]
  },
  {
   "cell_type": "code",
   "execution_count": null,
   "metadata": {},
   "outputs": [],
   "source": [
    "# dictionary of lists  \n",
    "dict = {'text': texts, 'label': tags } \n",
    "     \n",
    "df = pd.DataFrame(dict) \n",
    "  \n",
    "# saving the dataframe \n",
    "df.to_csv('C:/Users/khmar/git_repo/IssueModelTraining/DATA/DATA_text_preprocessing.csv')"
   ]
  },
  {
   "cell_type": "code",
   "execution_count": 11,
   "metadata": {},
   "outputs": [],
   "source": [
    "## open data preprocessing saved "
   ]
  },
  {
   "cell_type": "code",
   "execution_count": 12,
   "metadata": {},
   "outputs": [],
   "source": [
    "DATA_FILE = 'C:/Users/khmar/git_repo/IssueModelTraining/DATA/DATA_text_preprocessing.csv'\n",
    "df = pd.read_csv(DATA_FILE,delimiter=',',encoding='UTF-8')"
   ]
  },
  {
   "cell_type": "code",
   "execution_count": 13,
   "metadata": {},
   "outputs": [],
   "source": [
    "msk = np.random.rand(len(df)) < 0.7 # Splitting into train(70%) and test(30%) randomly"
   ]
  },
  {
   "cell_type": "code",
   "execution_count": 14,
   "metadata": {},
   "outputs": [],
   "source": [
    "train_df=df[msk]\n",
    "test_df=df[~msk]"
   ]
  },
  {
   "cell_type": "code",
   "execution_count": 15,
   "metadata": {},
   "outputs": [
    {
     "name": "stdout",
     "output_type": "stream",
     "text": [
      "(2814, 3)\n",
      "(1241, 3)\n"
     ]
    }
   ],
   "source": [
    "print(train_df.shape)\n",
    "print(test_df.shape)"
   ]
  },
  {
   "cell_type": "code",
   "execution_count": 16,
   "metadata": {},
   "outputs": [
    {
     "name": "stdout",
     "output_type": "stream",
     "text": [
      "Checking target values for train data:\n",
      "\n",
      "NOTISSUE    1424\n",
      "ISSUE       1390\n",
      "Name: label, dtype: int64 \n",
      "\n",
      "Checking target values for test data:\n",
      "\n",
      "ISSUE       635\n",
      "NOTISSUE    606\n",
      "Name: label, dtype: int64\n"
     ]
    }
   ],
   "source": [
    "print('Checking target values for train data:\\n')\n",
    "print(train_df['label'].value_counts(),'\\n')\n",
    "print('Checking target values for test data:\\n')\n",
    "print(test_df['label'].value_counts())"
   ]
  },
  {
   "cell_type": "code",
   "execution_count": 17,
   "metadata": {},
   "outputs": [
    {
     "data": {
      "text/plain": [
       "NOTISSUE    1424\n",
       "ISSUE       1390\n",
       "Name: label, dtype: int64"
      ]
     },
     "execution_count": 17,
     "metadata": {},
     "output_type": "execute_result"
    }
   ],
   "source": [
    "train_df['label'].value_counts()\n"
   ]
  },
  {
   "cell_type": "code",
   "execution_count": 18,
   "metadata": {},
   "outputs": [],
   "source": [
    "x_train=train_df['text']\n",
    "y_train=train_df['label']\n",
    "x_test=test_df['text']\n",
    "y_test=test_df['label']"
   ]
  },
  {
   "cell_type": "code",
   "execution_count": 19,
   "metadata": {},
   "outputs": [],
   "source": [
    "texts_train = x_train.astype(str)\n",
    "texts_test = x_test.astype(str)"
   ]
  },
  {
   "cell_type": "code",
   "execution_count": 20,
   "metadata": {},
   "outputs": [],
   "source": [
    "MAX_NB_WORDS = 20000\n",
    "maxlen = 120  # cut texts after this number of words (among top max_features most common words)\n",
    "batch_size = 32"
   ]
  },
  {
   "cell_type": "markdown",
   "metadata": {},
   "source": [
    "### Normal Embedding Method"
   ]
  },
  {
   "cell_type": "code",
   "execution_count": 21,
   "metadata": {},
   "outputs": [],
   "source": [
    "tokenizer = Tokenizer(nb_words=MAX_NB_WORDS, char_level=False)\n",
    "tokenizer.fit_on_texts(texts_train)\n",
    "sequences = tokenizer.texts_to_sequences(texts_train)\n",
    "sequences_test = tokenizer.texts_to_sequences(texts_test)"
   ]
  },
  {
   "cell_type": "code",
   "execution_count": 22,
   "metadata": {},
   "outputs": [],
   "source": [
    "#tok save\n",
    "import pickle\n",
    "tok_file = 'token_LSTM_Normal_Embedding_Methode_DATA.sav'\n",
    "pickle.dump(tokenizer, open(tok_file, 'wb'))"
   ]
  },
  {
   "cell_type": "code",
   "execution_count": 23,
   "metadata": {},
   "outputs": [
    {
     "name": "stdout",
     "output_type": "stream",
     "text": [
      "Found 3135 unique tokens.\n"
     ]
    }
   ],
   "source": [
    "word_index = tokenizer.word_index\n",
    "print('Found %s unique tokens.' % len(word_index))"
   ]
  },
  {
   "cell_type": "code",
   "execution_count": 24,
   "metadata": {},
   "outputs": [
    {
     "name": "stdout",
     "output_type": "stream",
     "text": [
      "Shape of data tensor: (2814, 200)\n",
      "Shape of data test tensor: (1241, 200)\n"
     ]
    }
   ],
   "source": [
    "MAX_SEQUENCE_LENGTH = 200\n",
    "#pad sequences are used to bring all sentences to same size.\n",
    "# pad sequences with 0s\n",
    "x_train = pad_sequences(sequences, maxlen=MAX_SEQUENCE_LENGTH)\n",
    "x_test = pad_sequences(sequences_test, maxlen=MAX_SEQUENCE_LENGTH)\n",
    "print('Shape of data tensor:', x_train.shape)\n",
    "print('Shape of data test tensor:', x_test.shape)"
   ]
  },
  {
   "cell_type": "code",
   "execution_count": 25,
   "metadata": {},
   "outputs": [],
   "source": [
    "y_train = y_train.map({\"NOTISSUE\": 1, \"ISSUE\" : 0 })\n",
    "y_test = y_test.map({\"NOTISSUE\": 1, \"ISSUE\" : 0 })"
   ]
  },
  {
   "cell_type": "code",
   "execution_count": 26,
   "metadata": {},
   "outputs": [
    {
     "name": "stdout",
     "output_type": "stream",
     "text": [
      "WARNING:tensorflow:From C:\\Users\\khmar\\ana\\lib\\site-packages\\tensorflow\\python\\framework\\op_def_library.py:263: colocate_with (from tensorflow.python.framework.ops) is deprecated and will be removed in a future version.\n",
      "Instructions for updating:\n",
      "Colocations handled automatically by placer.\n",
      "WARNING:tensorflow:From C:\\Users\\khmar\\ana\\lib\\site-packages\\keras\\backend\\tensorflow_backend.py:3445: calling dropout (from tensorflow.python.ops.nn_ops) with keep_prob is deprecated and will be removed in a future version.\n",
      "Instructions for updating:\n",
      "Please use `rate` instead of `keep_prob`. Rate should be set to `rate = 1 - keep_prob`.\n"
     ]
    }
   ],
   "source": [
    "model = Sequential()\n",
    "model.add(Embedding(MAX_NB_WORDS, 128))\n",
    "model.add(LSTM(128, dropout=0.2, recurrent_dropout=0.2,input_shape=(1,)))\n",
    "model.add(Dense(1, activation='sigmoid'))"
   ]
  },
  {
   "cell_type": "code",
   "execution_count": 27,
   "metadata": {},
   "outputs": [
    {
     "name": "stdout",
     "output_type": "stream",
     "text": [
      "WARNING:tensorflow:From C:\\Users\\khmar\\ana\\lib\\site-packages\\tensorflow\\python\\ops\\math_ops.py:3066: to_int32 (from tensorflow.python.ops.math_ops) is deprecated and will be removed in a future version.\n",
      "Instructions for updating:\n",
      "Use tf.cast instead.\n",
      "Train on 2814 samples, validate on 1241 samples\n",
      "Epoch 1/2\n",
      "2814/2814 [==============================] - 32s 11ms/step - loss: 0.6331 - acc: 0.6535 - val_loss: 0.4750 - val_acc: 0.8042\n",
      "Epoch 2/2\n",
      "2814/2814 [==============================] - 24s 8ms/step - loss: 0.3223 - acc: 0.8763 - val_loss: 0.4004 - val_acc: 0.8324\n",
      "Wall time: 57.8 s\n"
     ]
    }
   ],
   "source": [
    "%%time\n",
    "model.compile(loss='binary_crossentropy',\n",
    "              optimizer='adam',\n",
    "              metrics=['accuracy'])\n",
    "model.fit(x_train, y_train,\n",
    "          batch_size=batch_size,\n",
    "          epochs=2,\n",
    "          validation_data=(x_test, y_test))"
   ]
  },
  {
   "cell_type": "code",
   "execution_count": 28,
   "metadata": {},
   "outputs": [
    {
     "name": "stdout",
     "output_type": "stream",
     "text": [
      "_________________________________________________________________\n",
      "Layer (type)                 Output Shape              Param #   \n",
      "=================================================================\n",
      "embedding_1 (Embedding)      (None, None, 128)         2560000   \n",
      "_________________________________________________________________\n",
      "lstm_1 (LSTM)                (None, 128)               131584    \n",
      "_________________________________________________________________\n",
      "dense_1 (Dense)              (None, 1)                 129       \n",
      "=================================================================\n",
      "Total params: 2,691,713\n",
      "Trainable params: 2,691,713\n",
      "Non-trainable params: 0\n",
      "_________________________________________________________________\n"
     ]
    }
   ],
   "source": [
    "model.summary()"
   ]
  },
  {
   "cell_type": "code",
   "execution_count": 29,
   "metadata": {},
   "outputs": [
    {
     "name": "stdout",
     "output_type": "stream",
     "text": [
      "loss: 40.04%\n",
      "acc: 83.24%\n"
     ]
    }
   ],
   "source": [
    "scores= model.evaluate(x_test, y_test, verbose=0)\n",
    "print(\"%s: %.2f%%\" % (model.metrics_names[0], scores[0] * 100))\n",
    "print(\"%s: %.2f%%\" % (model.metrics_names[1], scores[1] * 100))"
   ]
  },
  {
   "cell_type": "code",
   "execution_count": 30,
   "metadata": {},
   "outputs": [],
   "source": [
    "model.save(\"LSTM_normal_Embeddings_DATA_with_text_processing.sav\")"
   ]
  },
  {
   "cell_type": "markdown",
   "metadata": {},
   "source": [
    "### Prediction"
   ]
  },
  {
   "cell_type": "code",
   "execution_count": 31,
   "metadata": {},
   "outputs": [],
   "source": [
    "#import pickle\n",
    "#model_file='lstm_model_glove_100_DATA_without_text_processing.sav'\n",
    "#token_file='C:/Users/khmar/model_file/LSTM_token_glove_300d_DATA.sav'\n",
    "##model = pickle.load(open(model_file,'rb'))\n",
    "#token = pickle.load(open(token_file,'rb'))\n",
    "#from keras.models import load_model # To save and load model\n",
    "\n",
    "## Load the model\n",
    "##my_model = load_model(model_file)\n",
    "#my_model= model_glove"
   ]
  },
  {
   "cell_type": "code",
   "execution_count": 79,
   "metadata": {},
   "outputs": [],
   "source": [
    "def prediction(input_file,output_file):\n",
    "    df= pd.DataFrame(columns=['label', 'text'])\n",
    "    data = pd.read_csv(input_file,delimiter=',')\n",
    "    inputt=data.text\n",
    "    x_input = inputt.values\n",
    "    for i in x_input:\n",
    "        seq = tokenizer.texts_to_sequences(i)\n",
    "        seqs = pad_sequences(seq, maxlen=MAX_SEQUENCE_LENGTH)\n",
    "        yhat = model.predict(seqs)\n",
    "        class_pred = model.predict_classes(seqs)\n",
    "        print(class_pred[0][0])\n",
    "        classe1 = prediction_classe1(class_pred[0][0])\n",
    "        df=df.append({'label':classe1,'text':i},ignore_index=True)\n",
    "    df.to_csv(output_file,sep=';')\n",
    "    return data,df"
   ]
  },
  {
   "cell_type": "code",
   "execution_count": 85,
   "metadata": {},
   "outputs": [],
   "source": [
    "def prediction_classe1(class_pred):\n",
    "    x=\"\"\n",
    "\n",
    "    if class_pred == 1:\n",
    "        x = 'ISSUE'\n",
    "    if class_pred== 0:\n",
    "        x = 'NOTISSUE'\n",
    "    return x"
   ]
  },
  {
   "cell_type": "code",
   "execution_count": 86,
   "metadata": {},
   "outputs": [],
   "source": [
    "def prediction_classe(prob):\n",
    "    x=\"\"\n",
    "    if prob > 0.6:\n",
    "          x = 'NOTISSUE'\n",
    "    if prob <= 0.6:\n",
    "          x = 'ISSUE'\n",
    "    return x"
   ]
  },
  {
   "cell_type": "code",
   "execution_count": 87,
   "metadata": {},
   "outputs": [],
   "source": [
    "## prediction of one word"
   ]
  },
  {
   "cell_type": "code",
   "execution_count": 88,
   "metadata": {},
   "outputs": [
    {
     "name": "stdout",
     "output_type": "stream",
     "text": [
      "\n"
     ]
    }
   ],
   "source": [
    "seq= tokenizer.texts_to_sequences(\"bad service\")\n",
    "seqs = pad_sequences(seq, maxlen=MAX_SEQUENCE_LENGTH)\n",
    "y = model.predict(seqs)\n",
    "print(prediction_classe1(y[0][0]))\n"
   ]
  },
  {
   "cell_type": "code",
   "execution_count": 71,
   "metadata": {},
   "outputs": [
    {
     "data": {
      "text/plain": [
       "(      Unnamed: 0                                               text     label\n",
       " 0              0  ['order', 'data', 'call', 'got', 'finish', 'wo...  NOTISSUE\n",
       " 1              1                                  ['love', 'phone']  NOTISSUE\n",
       " 2              2                              ['finish', 'product']  NOTISSUE\n",
       " 3              3                                 ['not', 'happier']  NOTISSUE\n",
       " 4              4         ['look', 'headset', 'long', 'time', 'got']  NOTISSUE\n",
       " 5              5       ['headset', 'start', 'ring', 'no', 'reason']     ISSUE\n",
       " 6              6     ['display', 'excel', 'camera', 'good', 'year']  NOTISSUE\n",
       " 7              7                       ['battery', 'life', 'great']  NOTISSUE\n",
       " 8              8                 ['worst', 'phone', 'had', 'month']     ISSUE\n",
       " 9              9  ['not', 'good', 'item', 'work', 'start', 'have...     ISSUE\n",
       " 10            10  ['embarrass', 'ear', 'hurt', 'try', 'push', 'e...     ISSUE\n",
       " 11            11                       ['protect', 'phone', 'side']  NOTISSUE\n",
       " 12            12  ['average', 'phone', 'bad', 'battery', 'life',...     ISSUE\n",
       " 13            13  ['clear', 'skye', 'call', 'long', 'battery', '...  NOTISSUE\n",
       " 14            14                     ['solo', 'technology', 'suck']     ISSUE\n",
       " 15            15                ['great', 'hand', 'free', 'device']  NOTISSUE\n",
       " 16            16  ['self', 'portrait', 'outside', 'exterior', 'd...  NOTISSUE\n",
       " 17            17                             ['problem', 'mention']     ISSUE\n",
       " 18            18  ['try', 'handsome', 'gadget', 'final', 'work',...  NOTISSUE\n",
       " 19            19                                  ['magic', 'help']  NOTISSUE\n",
       " 20            20  ['worst', 'piece', 'crap', 'version', 'custom'...     ISSUE\n",
       " 21            21                       ['poor', 'sound', 'quality']     ISSUE\n",
       " 22            22                        ['best', 'phone', 'market']  NOTISSUE\n",
       " 23            23                                   ['work', 'well']  NOTISSUE\n",
       " 24            24  ['company', 'ship', 'product', 'promptly', 'wo...  NOTISSUE\n",
       " 25            25                                ['exactly', 'want']  NOTISSUE\n",
       " 26            26  ['picture', 'resolute', 'far', 'compare', 'pri...     ISSUE\n",
       " 27            27                                  ['great', 'deal']  NOTISSUE\n",
       " 28            28         ['excel', 'product', 'satisfy', 'purchas']  NOTISSUE\n",
       " 29            29  ['highly', 'recommend', 'encourage', 'people',...  NOTISSUE\n",
       " ...          ...                                                ...       ...\n",
       " 4025        4025           ['flair', 'barend', 'absolute', 'amaze']  NOTISSUE\n",
       " 4026        4026    ['frozen', 'margarita', 'wai', 'sugar', 'last']     ISSUE\n",
       " 4027        4027                         ['good', 'order', 'twice']  NOTISSUE\n",
       " 4028        4028  ['nutshell', 'restaurant', 'smell', 'like', 'c...     ISSUE\n",
       " 4029        4029                      ['girlfriend', 'veal', 'bad']     ISSUE\n",
       " 4030        4030                        ['unfortun', 'not', 'good']     ISSUE\n",
       " 4031        4031                    ['pretty', 'satisfy', 'expert']  NOTISSUE\n",
       " 4032        4032      ['join', 'club', 'awesome', 'offer', 'email']  NOTISSUE\n",
       " 4033        4033  ['perfect', 'me', 'like', 'beer', 'ic', 'cold'...  NOTISSUE\n",
       " 4034        4034  ['bland', 'flavourless', 'good', 'wai', 'descr...     ISSUE\n",
       " 4035        4035  ['chain', 'no', 'fan', 'of', 'beat', 'place', ...     ISSUE\n",
       " 4036        4036                                  ['macho', 'have']  NOTISSUE\n",
       " 4037        4037                            ['not', 'come', 'back']     ISSUE\n",
       " 4038        4038      ['nathan', 'word', 'place', 'pretty', 'well']  NOTISSUE\n",
       " 4039        4039  ['staff', 'super', 'nice', 'quick', 'crazy', '...  NOTISSUE\n",
       " 4040        4040  ['great', 'atmosphere', 'friendly', 'fast', 's...  NOTISSUE\n",
       " 4041        4041  ['receive', 'pity', 'huge', 'lot', 'meat', 'th...  NOTISSUE\n",
       " 4042        4042                           ['food', 'arrive', 'me']     ISSUE\n",
       " 4043        4043  ['pai', 'hot', 'dog', 'fri', 'look', 'like', '...     ISSUE\n",
       " 4044        4044  ['classic', 'main', 'lobster', 'roll', 'fantasy']  NOTISSUE\n",
       " 4045        4045  ['brother', 'law', 'work', 'mall', 'at', 'dai'...     ISSUE\n",
       " 4046        4046         ['good', 'go', 'review', 'place', 'twice']  NOTISSUE\n",
       " 4047        4047        ['chip', 'salsa', 'good', 'salsa', 'fresh']  NOTISSUE\n",
       " 4048        4048                                 ['place', 'great']  NOTISSUE\n",
       " 4049        4049                               ['mediocre', 'food']     ISSUE\n",
       " 4050        4050                     ['inside', 'impress', 'place']  NOTISSUE\n",
       " 4051        4051                   ['service', 'super', 'friendly']  NOTISSUE\n",
       " 4052        4052             ['sad', 'little', 'beget', 'overcook']     ISSUE\n",
       " 4053        4053                      ['place', 'nice', 'surprise']  NOTISSUE\n",
       " 4054        4054                 ['live', 'music', 'total', 'blow']  NOTISSUE\n",
       " \n",
       " [4055 rows x 3 columns],\n",
       "          label                                               text\n",
       " 0     NOTISSUE  ['order', 'data', 'call', 'got', 'finish', 'wo...\n",
       " 1     NOTISSUE                                  ['love', 'phone']\n",
       " 2     NOTISSUE                              ['finish', 'product']\n",
       " 3     NOTISSUE                                 ['not', 'happier']\n",
       " 4     NOTISSUE         ['look', 'headset', 'long', 'time', 'got']\n",
       " 5     NOTISSUE       ['headset', 'start', 'ring', 'no', 'reason']\n",
       " 6     NOTISSUE     ['display', 'excel', 'camera', 'good', 'year']\n",
       " 7     NOTISSUE                       ['battery', 'life', 'great']\n",
       " 8     NOTISSUE                 ['worst', 'phone', 'had', 'month']\n",
       " 9     NOTISSUE  ['not', 'good', 'item', 'work', 'start', 'have...\n",
       " 10    NOTISSUE  ['embarrass', 'ear', 'hurt', 'try', 'push', 'e...\n",
       " 11    NOTISSUE                       ['protect', 'phone', 'side']\n",
       " 12    NOTISSUE  ['average', 'phone', 'bad', 'battery', 'life',...\n",
       " 13    NOTISSUE  ['clear', 'skye', 'call', 'long', 'battery', '...\n",
       " 14    NOTISSUE                     ['solo', 'technology', 'suck']\n",
       " 15    NOTISSUE                ['great', 'hand', 'free', 'device']\n",
       " 16    NOTISSUE  ['self', 'portrait', 'outside', 'exterior', 'd...\n",
       " 17    NOTISSUE                             ['problem', 'mention']\n",
       " 18    NOTISSUE  ['try', 'handsome', 'gadget', 'final', 'work',...\n",
       " 19    NOTISSUE                                  ['magic', 'help']\n",
       " 20    NOTISSUE  ['worst', 'piece', 'crap', 'version', 'custom'...\n",
       " 21    NOTISSUE                       ['poor', 'sound', 'quality']\n",
       " 22    NOTISSUE                        ['best', 'phone', 'market']\n",
       " 23    NOTISSUE                                   ['work', 'well']\n",
       " 24    NOTISSUE  ['company', 'ship', 'product', 'promptly', 'wo...\n",
       " 25    NOTISSUE                                ['exactly', 'want']\n",
       " 26    NOTISSUE  ['picture', 'resolute', 'far', 'compare', 'pri...\n",
       " 27    NOTISSUE                                  ['great', 'deal']\n",
       " 28    NOTISSUE         ['excel', 'product', 'satisfy', 'purchas']\n",
       " 29    NOTISSUE  ['highly', 'recommend', 'encourage', 'people',...\n",
       " ...        ...                                                ...\n",
       " 4025  NOTISSUE           ['flair', 'barend', 'absolute', 'amaze']\n",
       " 4026  NOTISSUE    ['frozen', 'margarita', 'wai', 'sugar', 'last']\n",
       " 4027  NOTISSUE                         ['good', 'order', 'twice']\n",
       " 4028  NOTISSUE  ['nutshell', 'restaurant', 'smell', 'like', 'c...\n",
       " 4029  NOTISSUE                      ['girlfriend', 'veal', 'bad']\n",
       " 4030  NOTISSUE                        ['unfortun', 'not', 'good']\n",
       " 4031  NOTISSUE                    ['pretty', 'satisfy', 'expert']\n",
       " 4032  NOTISSUE      ['join', 'club', 'awesome', 'offer', 'email']\n",
       " 4033  NOTISSUE  ['perfect', 'me', 'like', 'beer', 'ic', 'cold'...\n",
       " 4034  NOTISSUE  ['bland', 'flavourless', 'good', 'wai', 'descr...\n",
       " 4035  NOTISSUE  ['chain', 'no', 'fan', 'of', 'beat', 'place', ...\n",
       " 4036  NOTISSUE                                  ['macho', 'have']\n",
       " 4037  NOTISSUE                            ['not', 'come', 'back']\n",
       " 4038  NOTISSUE      ['nathan', 'word', 'place', 'pretty', 'well']\n",
       " 4039  NOTISSUE  ['staff', 'super', 'nice', 'quick', 'crazy', '...\n",
       " 4040  NOTISSUE  ['great', 'atmosphere', 'friendly', 'fast', 's...\n",
       " 4041  NOTISSUE  ['receive', 'pity', 'huge', 'lot', 'meat', 'th...\n",
       " 4042  NOTISSUE                           ['food', 'arrive', 'me']\n",
       " 4043  NOTISSUE  ['pai', 'hot', 'dog', 'fri', 'look', 'like', '...\n",
       " 4044  NOTISSUE  ['classic', 'main', 'lobster', 'roll', 'fantasy']\n",
       " 4045  NOTISSUE  ['brother', 'law', 'work', 'mall', 'at', 'dai'...\n",
       " 4046  NOTISSUE         ['good', 'go', 'review', 'place', 'twice']\n",
       " 4047  NOTISSUE        ['chip', 'salsa', 'good', 'salsa', 'fresh']\n",
       " 4048  NOTISSUE                                 ['place', 'great']\n",
       " 4049  NOTISSUE                               ['mediocre', 'food']\n",
       " 4050  NOTISSUE                     ['inside', 'impress', 'place']\n",
       " 4051  NOTISSUE                   ['service', 'super', 'friendly']\n",
       " 4052  NOTISSUE             ['sad', 'little', 'beget', 'overcook']\n",
       " 4053  NOTISSUE                      ['place', 'nice', 'surprise']\n",
       " 4054  NOTISSUE                 ['live', 'music', 'total', 'blow']\n",
       " \n",
       " [4055 rows x 2 columns])"
      ]
     },
     "execution_count": 71,
     "metadata": {},
     "output_type": "execute_result"
    }
   ],
   "source": [
    "### prediction of all data\n",
    "input_file ='C:/Users/khmar/git_repo/IssueModelTraining/LSTM/with_text_processing/DATA_preprocessing.csv'\n",
    "output_file ='C:/Users/khmar/git_repo/IssueModelTraining/DATA/DATA_predict_text_preprocessing.csv'\n",
    "#prediction(input_file,output_file,model,tokenizer)\n",
    "prediction(input_file,output_file)"
   ]
  },
  {
   "cell_type": "code",
   "execution_count": 72,
   "metadata": {},
   "outputs": [
    {
     "name": "stdout",
     "output_type": "stream",
     "text": [
      "   Unnamed: 0     label                                               text\n",
      "0           0  NOTISSUE  ['order', 'data', 'call', 'got', 'finish', 'wo...\n",
      "1           1  NOTISSUE                                  ['love', 'phone']\n",
      "2           2  NOTISSUE                              ['finish', 'product']\n",
      "3           3  NOTISSUE                                 ['not', 'happier']\n",
      "4           4  NOTISSUE         ['look', 'headset', 'long', 'time', 'got']\n"
     ]
    }
   ],
   "source": [
    "data_predict= pd.read_csv(output_file ,delimiter=';',encoding='latin-1')\n",
    "print(data_predict.head())"
   ]
  },
  {
   "cell_type": "code",
   "execution_count": 73,
   "metadata": {},
   "outputs": [
    {
     "data": {
      "text/plain": [
       "NOTISSUE    4055\n",
       "Name: label, dtype: int64"
      ]
     },
     "execution_count": 73,
     "metadata": {},
     "output_type": "execute_result"
    }
   ],
   "source": [
    "data_predict['label'].value_counts() #imbalanced Dataset"
   ]
  },
  {
   "cell_type": "code",
   "execution_count": null,
   "metadata": {},
   "outputs": [],
   "source": [
    "### confessin matrix"
   ]
  },
  {
   "cell_type": "code",
   "execution_count": 54,
   "metadata": {},
   "outputs": [],
   "source": [
    "#DATA_FILE_PREDICT = ''\n",
    "#data_predict= pd.read_csv(DATA_FILE_PREDICT ,delimiter=';',encoding='latin-1')\n",
    "#print(df.head())"
   ]
  },
  {
   "cell_type": "code",
   "execution_count": 55,
   "metadata": {},
   "outputs": [
    {
     "data": {
      "text/plain": [
       "ISSUE    4055\n",
       "Name: label, dtype: int64"
      ]
     },
     "execution_count": 55,
     "metadata": {},
     "output_type": "execute_result"
    }
   ],
   "source": [
    "data_predict['label'].value_counts() #imbalanced Dataset"
   ]
  },
  {
   "cell_type": "code",
   "execution_count": 56,
   "metadata": {},
   "outputs": [
    {
     "name": "stdout",
     "output_type": "stream",
     "text": [
      "[[2025    0]\n",
      " [2030    0]]\n"
     ]
    }
   ],
   "source": [
    "from sklearn.metrics import confusion_matrix\n",
    "cm=confusion_matrix(df.label,data_predict.label)\n",
    "print(cm)"
   ]
  },
  {
   "cell_type": "code",
   "execution_count": null,
   "metadata": {},
   "outputs": [],
   "source": [
    "from sklearn.metrics import confusion_matrix\n",
    "import matplotlib.pyplot as plt\n",
    "import itertools\n",
    "# This utility function is from the sklearn docs: http://scikit-learn.org/stable/auto_examples/model_selection/plot_confusion_matrix.html\n",
    "def plot_confusion_matrix(cm, classes,\n",
    "                          title='Confusion matrix',\n",
    "                          cmap=plt.cm.Blues):\n",
    "    \"\"\"\n",
    "    This function prints and plots the confusion matrix.\n",
    "    Normalization can be applied by setting `normalize=True`.\n",
    "    \"\"\"\n",
    "\n",
    "    cm = cm.astype('float') / cm.sum(axis=1)[:, np.newaxis]\n",
    "\n",
    "    plt.imshow(cm, interpolation='nearest', cmap=cmap)\n",
    "    plt.title(title, fontsize=30)\n",
    "    plt.colorbar()\n",
    "    tick_marks = np.arange(len(classes))\n",
    "    plt.xticks(tick_marks, classes, rotation=45, fontsize=22)\n",
    "    plt.yticks(tick_marks, classes, fontsize=22)\n",
    "\n",
    "    fmt = '.2f'\n",
    "    thresh = cm.max() / 2.\n",
    "    for i, j in itertools.product(range(cm.shape[0]), range(cm.shape[1])):\n",
    "        plt.text(j, i, format(cm[i, j], fmt),\n",
    "                 horizontalalignment=\"center\",\n",
    "                 color=\"white\" if cm[i, j] > thresh else \"black\")\n",
    "\n",
    "    plt.ylabel('True label', fontsize=25)\n",
    "    plt.xlabel('Predicted label', fontsize=25)"
   ]
  },
  {
   "cell_type": "code",
   "execution_count": null,
   "metadata": {},
   "outputs": [],
   "source": [
    "cnf_matrix = confusion_matrix(df.label, data_predict.label)\n",
    "plt.figure(figsize=(24,20))\n",
    "plot_confusion_matrix(cnf_matrix, classes=['ISSUE','NOTISSUE'], title=\"Confusion matrix\")\n",
    "plt.show()"
   ]
  },
  {
   "cell_type": "code",
   "execution_count": null,
   "metadata": {},
   "outputs": [],
   "source": [
    "import seaborn as sns\n",
    "import matplotlib.pyplot as plt\n",
    "%matplotlib inline"
   ]
  },
  {
   "cell_type": "code",
   "execution_count": null,
   "metadata": {},
   "outputs": [],
   "source": [
    "plt.figure(figsize=(20,10))\n",
    "ax = sns.heatmap(cf, annot=True, fmt=\"d\",linewidths=.5, center = 90, vmax = 200)"
   ]
  },
  {
   "cell_type": "code",
   "execution_count": null,
   "metadata": {},
   "outputs": [],
   "source": [
    "from sklearn.metrics import classification_report, accuracy_score\n",
    "\n",
    "print('accuracy %s' % accuracy_score(data_predict.label, df.label))\n",
    "print(classification_report(df.label, data_predict.label,target_names=['ISSUE','NOTISSUE']))"
   ]
  },
  {
   "cell_type": "code",
   "execution_count": null,
   "metadata": {},
   "outputs": [],
   "source": [
    "def false(input_file,output_file,falses_file):\n",
    "    diff= pd.DataFrame(columns=['Label1','Label2', 'Text'])\n",
    "    data = pd.read_csv(input_file,delimiter=';')\n",
    "    data_pred = pd.read_csv(output_file,delimiter=';')\n",
    "    input1 = data.label\n",
    "    input2 = data_pred.label\n",
    "    x=data.text.values\n",
    "    x_input1 = input1.values\n",
    "    x_input2 = input2.values\n",
    "    for i in range(len(x_input1)):\n",
    "        if x_input1[i]!=x_input2[i]:\n",
    "            diff = diff.append({'Label1':x_input1[i],'Label2':x_input2[i], 'Text':x[i]},ignore_index=True)\n",
    "    diff.to_csv(falses_file,sep=';')\n",
    "    return diff"
   ]
  },
  {
   "cell_type": "code",
   "execution_count": null,
   "metadata": {},
   "outputs": [],
   "source": [
    "falses_file='C:/Users/khmar/Desktop/ISSUE/dataset/CSV/DATA_pred_normal_embeddings.csv'\n",
    "diff=false(input_file,output_file,falses_file)\n",
    "print(diff)"
   ]
  }
 ],
 "metadata": {
  "kernelspec": {
   "display_name": "Python 3",
   "language": "python",
   "name": "python3"
  },
  "language_info": {
   "codemirror_mode": {
    "name": "ipython",
    "version": 3
   },
   "file_extension": ".py",
   "mimetype": "text/x-python",
   "name": "python",
   "nbconvert_exporter": "python",
   "pygments_lexer": "ipython3",
   "version": "3.6.8"
  }
 },
 "nbformat": 4,
 "nbformat_minor": 2
}
