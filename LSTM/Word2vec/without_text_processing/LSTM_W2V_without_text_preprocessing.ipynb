{
 "cells": [
  {
   "cell_type": "code",
   "execution_count": 2,
   "metadata": {},
   "outputs": [],
   "source": [
    "import itertools\n",
    "import re\n",
    "from collections import Counter\n",
    "import numpy as np\n",
    "import pandas as pd"
   ]
  },
  {
   "cell_type": "code",
   "execution_count": 3,
   "metadata": {},
   "outputs": [
    {
     "name": "stdout",
     "output_type": "stream",
     "text": [
      "                                                text     label\n",
      "0  I had ordered a data cable, got a very well fi...  NOTISSUE\n",
      "1                                   Love This Phone.  NOTISSUE\n",
      "2                I get a very well finished product.  NOTISSUE\n",
      "3                            I could not be happier.  NOTISSUE\n",
      "4  I was looking for this headset for a long time...  NOTISSUE\n"
     ]
    }
   ],
   "source": [
    "DATA_FILE = 'C:/Users/khmar/Desktop/ISSUE/dataset/CSV/data_ameliorate/data.csv'\n",
    "df = pd.read_csv(DATA_FILE,delimiter=';',encoding='UTF-8')\n",
    "print(df.head())"
   ]
  },
  {
   "cell_type": "code",
   "execution_count": 4,
   "metadata": {},
   "outputs": [],
   "source": [
    "#https://github.com/Harsh24893/EmotionRecognition/blob/master/data_helper.py"
   ]
  },
  {
   "cell_type": "code",
   "execution_count": 5,
   "metadata": {},
   "outputs": [],
   "source": [
    "def load_data_and_labels(filename):\n",
    "    \"\"\"Load sentences and labels\"\"\"\n",
    "    df = pd.read_csv(filename,delimiter=';',encoding='UTF-8')\n",
    "    selected = ['label', 'text']\n",
    "    non_selected = list(set(df.columns) - set(selected))\n",
    "\n",
    "    df = df.drop(non_selected, axis=1)  # Drop non selected columns\n",
    "    df = df.dropna(axis=0, how='any', subset=selected)  # Drop null rows\n",
    "    df = df.reindex(np.random.permutation(df.index))  # Shuffle the dataframe\n",
    "    df = df[0:100000]\n",
    "    print (len(df))\n",
    "    # Map the actual labels to one hot labels\n",
    "    labels = sorted(list(set(df[selected[0]].tolist())))\n",
    "    one_hot = np.zeros((len(labels), len(labels)), int)\n",
    "    np.fill_diagonal(one_hot, 1)\n",
    "    label_dict = dict(zip(labels, one_hot))\n",
    "\n",
    "    x_raw = df[selected[1]].apply(lambda x: x).tolist()\n",
    "    y_raw = df[selected[0]].apply(lambda y: label_dict[y]).tolist()\n",
    "\n",
    "    vocabulary, vocabulary_inv = build_vocab(x_raw)\n",
    "\n",
    "    word2vec = vocab_to_word2vec(\"C:/Users/khmar/Desktop/w2vec/GoogleNews-vectors-negative300/GoogleNews-vectors-negative300.bin\", vocabulary)\n",
    "\n",
    "    embedding_mat = build_word_embedding_mat(word2vec, vocabulary_inv)\n",
    "\n",
    "    return x_raw, y_raw, df, labels, embedding_mat\n"
   ]
  },
  {
   "cell_type": "code",
   "execution_count": 6,
   "metadata": {},
   "outputs": [],
   "source": [
    "def build_word_embedding_mat(word_vecs, vocabulary_inv, k=300):\n",
    "    \"\"\"\n",
    "    Get the word embedding matrix, of size(vocabulary_size, word_vector_size)\n",
    "    ith row is the embedding of ith word in vocabulary\n",
    "    \"\"\"\n",
    "    vocab_size = len(vocabulary_inv)\n",
    "    embedding_mat = np.zeros(shape=(9000, k), dtype='float32')\n",
    "    for idx in range(len(vocabulary_inv)):\n",
    "        embedding_mat[idx + 1] = word_vecs[vocabulary_inv[idx]]\n",
    "    print (\"Embedding matrix of size \" + str(np.shape(embedding_mat)))\n",
    "    # initialize the first row,\n",
    "    embedding_mat[0] = np.random.uniform(-0.25, 0.25, k)\n",
    "    return embedding_mat\n"
   ]
  },
  {
   "cell_type": "code",
   "execution_count": 7,
   "metadata": {},
   "outputs": [],
   "source": [
    "def build_input_data(sentences, labels, vocabulary):\n",
    "    \"\"\"\n",
    "    Maps sentencs and labels to vectors based on a vocabulary.\n",
    "    \"\"\"\n",
    "    x = [[vocabulary[word] for word in sentence] for sentence in sentences]\n",
    "    y = np.array(labels)\n",
    "    return [x, y]"
   ]
  },
  {
   "cell_type": "code",
   "execution_count": 8,
   "metadata": {},
   "outputs": [],
   "source": [
    "def build_vocab(sentences):\n",
    "    \"\"\"\n",
    "    Builds a vocabulary mapping from word to index based on the sentences.\n",
    "    Returns vocabulary mapping and inverse vocabulary mapping.\n",
    "    \"\"\"\n",
    "    # Build vocabulary\n",
    "    word_counts = Counter(itertools.chain(*sentences))\n",
    "    # Mapping from index to word\n",
    "    vocabulary_inv = [x[0] for x in word_counts.most_common()]\n",
    "    # Mapping from word to index\n",
    "    vocabulary = {x: i + 1 for i, x in enumerate(vocabulary_inv)}\n",
    "    return [vocabulary, vocabulary_inv]"
   ]
  },
  {
   "cell_type": "code",
   "execution_count": 9,
   "metadata": {},
   "outputs": [],
   "source": [
    "def vocab_to_word2vec(fname, vocab, k=300):\n",
    "    \"\"\"\n",
    "    Load word2vec from Mikolov\n",
    "    \"\"\"\n",
    "    word_vecs = {}\n",
    "    with open(fname, \"rb\") as f:\n",
    "        header = f.readline()\n",
    "        vocab_size, layer1_size = map(int, header.split())\n",
    "        binary_len = np.dtype('float32').itemsize * layer1_size\n",
    "        for line in range(vocab_size):\n",
    "            word = []\n",
    "            while True:\n",
    "                ch = f.read(1)\n",
    "                if ch == ' ':\n",
    "                    word = ''.join(word)\n",
    "                    break\n",
    "                if ch != '\\n':\n",
    "                    word.append(ch)\n",
    "            if word in vocab:\n",
    "                word_vecs[word] = np.fromstring(f.read(binary_len), dtype='float32')\n",
    "            else:\n",
    "                f.read(binary_len)\n",
    "    print (str(len(word_vecs)) + \" words found in word2vec.\")\n",
    "\n",
    "    # add unknown words by generating random word vectors\n",
    "    count_missing = 0\n",
    "    for word in vocab:\n",
    "        if word not in word_vecs:\n",
    "            word_vecs[word] = np.random.uniform(-0.25, 0.25, k)\n",
    "            count_missing += 1\n",
    "    print (str(count_missing) + \" words not found, generated by random.\")\n",
    "    return word_vecs\n"
   ]
  },
  {
   "cell_type": "code",
   "execution_count": 10,
   "metadata": {},
   "outputs": [],
   "source": [
    "def batch_iter(data, batch_size, num_epochs, shuffle=True):\n",
    "    \"\"\"Iterate the data batch by batch\"\"\"\n",
    "    data = np.array(data)\n",
    "    data_size = len(data)\n",
    "    num_batches_per_epoch = int(data_size / batch_size) + 1\n",
    "\n",
    "    for epoch in range(num_epochs):\n",
    "        if shuffle:\n",
    "            shuffle_indices = np.random.permutation(np.arange(data_size))\n",
    "            shuffled_data = data[shuffle_indices]\n",
    "        else:\n",
    "            shuffled_data = data\n",
    "\n",
    "        for batch_num in range(num_batches_per_epoch):\n",
    "            start_index = batch_num * batch_size\n",
    "            end_index = min((batch_num + 1) * batch_size, data_size)\n",
    "            yield shuffled_data[start_index:end_index]"
   ]
  },
  {
   "cell_type": "code",
   "execution_count": 11,
   "metadata": {},
   "outputs": [],
   "source": [
    "def load_embedding_vectors(vocabulary):\n",
    "    # load embedding_vectors from the word2vec\n",
    "    filename = 'C:/Users/khmar/Desktop/w2vec/GoogleNews-vectors-negative300/GoogleNews-vectors-negative300.bin'\n",
    "    encoding = 'utf-8'\n",
    "    with open(filename, \"rb\") as f:\n",
    "        header = f.readline()\n",
    "        vocab_size, vector_size = map(int, header.split())\n",
    "        # initial matrix with random uniform\n",
    "        embedding_vectors = np.random.uniform(-0.25, 0.25, (len(vocabulary), vector_size))\n",
    "        if True:\n",
    "            binary_len = np.dtype('float32').itemsize * vector_size\n",
    "            for line_no in range(vocab_size):\n",
    "                word = []\n",
    "                while True:\n",
    "                    ch = f.read(1)\n",
    "                    if ch == b' ':\n",
    "                        break\n",
    "                    if ch == b'':\n",
    "                        raise EOFError(\"unexpected end of input; is count incorrect or file otherwise damaged?\")\n",
    "                    if ch != b'\\n':\n",
    "                        word.append(ch)\n",
    "                word = str(b''.join(word))\n",
    "                idx = vocabulary.get(word)\n",
    "                if idx != 0:\n",
    "                    embedding_vectors[idx] = np.fromstring(f.read(binary_len), dtype='float32')\n",
    "                else:\n",
    "\n",
    "                    f.seek(binary_len, 1)\n",
    "        f.close()\n",
    "        return embedding_vectors"
   ]
  },
  {
   "cell_type": "code",
   "execution_count": null,
   "metadata": {},
   "outputs": [
    {
     "name": "stdout",
     "output_type": "stream",
     "text": [
      "4055\n"
     ]
    }
   ],
   "source": [
    "filename ='C:/Users/khmar/Desktop/ISSUE/dataset/CSV/data_ameliorate/data.csv'\n",
    "x_raw, y_raw, df, labels, embedding_mat = load_data_and_labels(filename)"
   ]
  },
  {
   "cell_type": "code",
   "execution_count": null,
   "metadata": {},
   "outputs": [],
   "source": []
  }
 ],
 "metadata": {
  "kernelspec": {
   "display_name": "Python 3",
   "language": "python",
   "name": "python3"
  },
  "language_info": {
   "codemirror_mode": {
    "name": "ipython",
    "version": 3
   },
   "file_extension": ".py",
   "mimetype": "text/x-python",
   "name": "python",
   "nbconvert_exporter": "python",
   "pygments_lexer": "ipython3",
   "version": "3.6.8"
  }
 },
 "nbformat": 4,
 "nbformat_minor": 2
}
