{
 "cells": [
  {
   "cell_type": "code",
   "execution_count": null,
   "metadata": {},
   "outputs": [],
   "source": [
    "Beyond the standard Python libraries, we are also using the following:\n",
    "\n",
    "NLTK - The Natural Language ToolKit is one of the best-known and most-used NLP libraries in the Python ecosystem, useful for all sorts of tasks from tokenization, to stemming, to part of speech tagging, and beyond\n",
    "BeautifulSoup - BeautifulSoup is a useful library for extracting data from HTML and XML documents\n",
    "Inflect - This is a simple library for accomplishing the natural language related tasks of generating plurals, singular nouns, ordinals, and indefinite articles, and (of most interest to us) converting numbers to words\n",
    "Contractions - Another simple library, solely for expanding contractions\n",
    "If you have NLTK installed, yet require the download of its any additional data, see here."
   ]
  },
  {
   "cell_type": "code",
   "execution_count": 3,
   "metadata": {},
   "outputs": [],
   "source": [
    "import re, string, unicodedata\n",
    "import nltk\n",
    "import contractions\n",
    "import inflect\n",
    "from bs4 import BeautifulSoup\n",
    "from nltk import word_tokenize, sent_tokenize\n",
    "from nltk.corpus import stopwords\n",
    "from nltk.stem import LancasterStemmer, WordNetLemmatizer"
   ]
  },
  {
   "cell_type": "code",
   "execution_count": 6,
   "metadata": {},
   "outputs": [
    {
     "name": "stdout",
     "output_type": "stream",
     "text": [
      "thsi is \n"
     ]
    }
   ],
   "source": [
    "def strip_html(text):\n",
    "    soup = BeautifulSoup(text, \"html.parser\")\n",
    "    return soup.get_text()\n",
    "\n",
    "def remove_between_square_brackets(text):\n",
    "    return re.sub('\\[[^]]*\\]', '', text)\n",
    "\n",
    "def denoise_text(text):\n",
    "    text = strip_html(text)\n",
    "    text = remove_between_square_brackets(text)\n",
    "    return text\n",
    "#sample = denoise_text(sample)\n",
    "#print(sample)"
   ]
  },
  {
   "cell_type": "code",
   "execution_count": 7,
   "metadata": {},
   "outputs": [],
   "source": [
    "#Normalization\n"
   ]
  },
  {
   "cell_type": "code",
   "execution_count": 11,
   "metadata": {},
   "outputs": [
    {
     "name": "stdout",
     "output_type": "stream",
     "text": [
      "['t', 'h', 'i', 's', ' ', ' ', '2', ' ', 's', 'e', 'r', 'v', 'i', 'c', ' ', 'i', 's', 's', ' ', ' ', 'b', 'a', 'a', 'a', 'd', ' ']\n",
      "['t', 'h', 'i', 's', ' ', ' ', '2', ' ', 's', 'e', 'r', 'v', 'i', 'c', ' ', 'i', 's', 's', ' ', ' ', 'b', 'a', 'a', 'a', 'd', ' ']\n",
      "['t', 'h', 'i', 's', ' ', ' ', '2', ' ', 's', 'e', 'r', 'v', 'i', 'c', ' ', 'i', 's', 's', ' ', ' ', 'b', 'a', 'a', 'a', 'd', ' ']\n",
      "['t', 'h', 'i', 's', ' ', ' ', 'two', ' ', 's', 'e', 'r', 'v', 'i', 'c', ' ', 'i', 's', 's', ' ', ' ', 'b', 'a', 'a', 'a', 'd', ' ']\n",
      "['h', ' ', ' ', 'two', ' ', 'e', 'r', 'v', 'c', ' ', ' ', ' ', 'b', ' ']\n",
      "['h', ' ', ' ', 'two', ' ', 'e', 'r', 'v', 'c', ' ', ' ', ' ', 'b', ' ']\n"
     ]
    }
   ],
   "source": [
    "words=\"this  2 servic iss  baaad \"\n",
    "def remove_non_ascii(words):\n",
    "    \"\"\"Remove non-ASCII characters from list of tokenized words\"\"\"\n",
    "    new_words = []\n",
    "    for word in words:\n",
    "        new_word = unicodedata.normalize('NFKD', word).encode('ascii', 'ignore').decode('utf-8', 'ignore')\n",
    "        new_words.append(new_word)\n",
    "    return new_words\n",
    "\n",
    "def to_lowercase(words):\n",
    "    \"\"\"Convert all characters to lowercase from list of tokenized words\"\"\"\n",
    "    new_words = []\n",
    "    for word in words:\n",
    "        new_word = word.lower()\n",
    "        new_words.append(new_word)\n",
    "    return new_words\n",
    "\n",
    "def remove_punctuation(words):\n",
    "    \"\"\"Remove punctuation from list of tokenized words\"\"\"\n",
    "    new_words = []\n",
    "    for word in words:\n",
    "        new_word = re.sub(r'[^\\w\\s]', '', word)\n",
    "        if new_word != '':\n",
    "            new_words.append(new_word)\n",
    "    return new_words\n",
    "\n",
    "def replace_numbers(words):\n",
    "    \"\"\"Replace all interger occurrences in list of tokenized words with textual representation\"\"\"\n",
    "    p = inflect.engine()\n",
    "    new_words = []\n",
    "    for word in words:\n",
    "        if word.isdigit():\n",
    "            new_word = p.number_to_words(word)\n",
    "            new_words.append(new_word)\n",
    "        else:\n",
    "            new_words.append(word)\n",
    "    return new_words\n",
    "\n",
    "def remove_stopwords(words):\n",
    "    \"\"\"Remove stop words from list of tokenized words\"\"\"\n",
    "    new_words = []\n",
    "    for word in words:\n",
    "        if word not in stopwords.words('english'):\n",
    "            new_words.append(word)\n",
    "    return new_words\n",
    "\n",
    "def stem_words(words):\n",
    "    \"\"\"Stem words in list of tokenized words\"\"\"\n",
    "    stemmer = LancasterStemmer()\n",
    "    stems = []\n",
    "    for word in words:\n",
    "        stem = stemmer.stem(word)\n",
    "        stems.append(stem)\n",
    "    return stems\n",
    "\n",
    "def lemmatize_verbs(words):\n",
    "    \"\"\"Lemmatize verbs in list of tokenized words\"\"\"\n",
    "    lemmatizer = WordNetLemmatizer()\n",
    "    lemmas = []\n",
    "    for word in words:\n",
    "        lemma = lemmatizer.lemmatize(word, pos='v')\n",
    "        lemmas.append(lemma)\n",
    "    return lemmas\n",
    "\n",
    "def normalize(words):\n",
    "    words = remove_non_ascii(words)\n",
    "    print(words)\n",
    "    words = to_lowercase(words)\n",
    "    print(words)\n",
    "    words = remove_punctuation(words)\n",
    "    print(words)\n",
    "    words = replace_numbers(words)\n",
    "    print(words)\n",
    "    words = remove_stopwords(words)\n",
    "    print(words)\n",
    "    return words\n",
    "\n",
    "words = normalize(words)\n",
    "print(words)"
   ]
  },
  {
   "cell_type": "code",
   "execution_count": 12,
   "metadata": {},
   "outputs": [],
   "source": [
    "# stemming and lemming functions"
   ]
  },
  {
   "cell_type": "code",
   "execution_count": 13,
   "metadata": {},
   "outputs": [
    {
     "name": "stdout",
     "output_type": "stream",
     "text": [
      "Stemmed:\n",
      " ['t', 'h', 's', 'i', ' ', 's', 'e', 'r', 'v', 'i', 'c', 'e', ' ', 'i', 's', ' ', 'g', 'o', 'i', 'n', 'g', ' ', '2', ' ', 'w', 'e', 'l', 'l']\n",
      "\n",
      "Lemmatized:\n",
      " ['t', 'h', 's', 'i', ' ', 's', 'e', 'r', 'v', 'i', 'c', 'e', ' ', 'i', 's', ' ', 'g', 'o', 'i', 'n', 'g', ' ', '2', ' ', 'w', 'e', 'l', 'l']\n"
     ]
    }
   ],
   "source": [
    "words=\"thsi service is going 2 well\"\n",
    "def stem_and_lemmatize(words):\n",
    "    stems = stem_words(words)\n",
    "    lemmas = lemmatize_verbs(words)\n",
    "    return stems, lemmas\n",
    "\n",
    "stems, lemmas = stem_and_lemmatize(words)\n",
    "print('Stemmed:\\n', stems)\n",
    "print('\\nLemmatized:\\n', lemmas)\n"
   ]
  },
  {
   "cell_type": "code",
   "execution_count": null,
   "metadata": {},
   "outputs": [],
   "source": []
  }
 ],
 "metadata": {
  "kernelspec": {
   "display_name": "Python 3",
   "language": "python",
   "name": "python3"
  }
 },
 "nbformat": 4,
 "nbformat_minor": 2
}
