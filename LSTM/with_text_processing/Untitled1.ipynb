{
 "cells": [
  {
   "cell_type": "code",
   "execution_count": 1,
   "metadata": {},
   "outputs": [],
   "source": [
    "import re, string, unicodedata\n",
    "import nltk\n",
    "import contractions\n",
    "import inflect\n",
    "from bs4 import BeautifulSoup\n",
    "from nltk import word_tokenize, sent_tokenize\n",
    "from nltk.corpus import stopwords\n",
    "from nltk.stem import LancasterStemmer, WordNetLemmatizer"
   ]
  },
  {
   "cell_type": "code",
   "execution_count": 2,
   "metadata": {},
   "outputs": [],
   "source": [
    "text=\"This service is  2 good groop\""
   ]
  },
  {
   "cell_type": "code",
   "execution_count": 4,
   "metadata": {},
   "outputs": [
    {
     "data": {
      "text/plain": [
       "'This service is  2 good groop'"
      ]
     },
     "execution_count": 4,
     "metadata": {},
     "output_type": "execute_result"
    }
   ],
   "source": [
    "soup = BeautifulSoup(text, \"html.parser\")\n",
    "soup.get_text(text)"
   ]
  },
  {
   "cell_type": "code",
   "execution_count": 5,
   "metadata": {},
   "outputs": [
    {
     "data": {
      "text/plain": [
       "'This service is  2 good groop'"
      ]
     },
     "execution_count": 5,
     "metadata": {},
     "output_type": "execute_result"
    }
   ],
   "source": [
    "#remove_between_square_brackets(text):\n",
    "re.sub('\\[[^]]*\\]', '', text)\n"
   ]
  },
  {
   "cell_type": "code",
   "execution_count": 23,
   "metadata": {},
   "outputs": [
    {
     "name": "stdout",
     "output_type": "stream",
     "text": [
      "t\n",
      "['t']\n",
      "h\n",
      "['t', 'h']\n",
      "i\n",
      "['t', 'h', 'i']\n",
      "s\n",
      "['t', 'h', 'i', 's']\n",
      " \n",
      "['t', 'h', 'i', 's', ' ']\n",
      " \n",
      "['t', 'h', 'i', 's', ' ', ' ']\n",
      "2\n",
      "['t', 'h', 'i', 's', ' ', ' ', '2']\n",
      " \n",
      "['t', 'h', 'i', 's', ' ', ' ', '2', ' ']\n",
      "s\n",
      "['t', 'h', 'i', 's', ' ', ' ', '2', ' ', 's']\n",
      "e\n",
      "['t', 'h', 'i', 's', ' ', ' ', '2', ' ', 's', 'e']\n",
      "r\n",
      "['t', 'h', 'i', 's', ' ', ' ', '2', ' ', 's', 'e', 'r']\n",
      "v\n",
      "['t', 'h', 'i', 's', ' ', ' ', '2', ' ', 's', 'e', 'r', 'v']\n",
      "i\n",
      "['t', 'h', 'i', 's', ' ', ' ', '2', ' ', 's', 'e', 'r', 'v', 'i']\n",
      "c\n",
      "['t', 'h', 'i', 's', ' ', ' ', '2', ' ', 's', 'e', 'r', 'v', 'i', 'c']\n",
      " \n",
      "['t', 'h', 'i', 's', ' ', ' ', '2', ' ', 's', 'e', 'r', 'v', 'i', 'c', ' ']\n",
      "i\n",
      "['t', 'h', 'i', 's', ' ', ' ', '2', ' ', 's', 'e', 'r', 'v', 'i', 'c', ' ', 'i']\n",
      "s\n",
      "['t', 'h', 'i', 's', ' ', ' ', '2', ' ', 's', 'e', 'r', 'v', 'i', 'c', ' ', 'i', 's']\n",
      "s\n",
      "['t', 'h', 'i', 's', ' ', ' ', '2', ' ', 's', 'e', 'r', 'v', 'i', 'c', ' ', 'i', 's', 's']\n",
      " \n",
      "['t', 'h', 'i', 's', ' ', ' ', '2', ' ', 's', 'e', 'r', 'v', 'i', 'c', ' ', 'i', 's', 's', ' ']\n",
      " \n",
      "['t', 'h', 'i', 's', ' ', ' ', '2', ' ', 's', 'e', 'r', 'v', 'i', 'c', ' ', 'i', 's', 's', ' ', ' ']\n",
      "b\n",
      "['t', 'h', 'i', 's', ' ', ' ', '2', ' ', 's', 'e', 'r', 'v', 'i', 'c', ' ', 'i', 's', 's', ' ', ' ', 'b']\n",
      "a\n",
      "['t', 'h', 'i', 's', ' ', ' ', '2', ' ', 's', 'e', 'r', 'v', 'i', 'c', ' ', 'i', 's', 's', ' ', ' ', 'b', 'a']\n",
      "a\n",
      "['t', 'h', 'i', 's', ' ', ' ', '2', ' ', 's', 'e', 'r', 'v', 'i', 'c', ' ', 'i', 's', 's', ' ', ' ', 'b', 'a', 'a']\n",
      "a\n",
      "['t', 'h', 'i', 's', ' ', ' ', '2', ' ', 's', 'e', 'r', 'v', 'i', 'c', ' ', 'i', 's', 's', ' ', ' ', 'b', 'a', 'a', 'a']\n",
      "d\n",
      "['t', 'h', 'i', 's', ' ', ' ', '2', ' ', 's', 'e', 'r', 'v', 'i', 'c', ' ', 'i', 's', 's', ' ', ' ', 'b', 'a', 'a', 'a', 'd']\n",
      " \n",
      "['t', 'h', 'i', 's', ' ', ' ', '2', ' ', 's', 'e', 'r', 'v', 'i', 'c', ' ', 'i', 's', 's', ' ', ' ', 'b', 'a', 'a', 'a', 'd', ' ']\n",
      "this  2 servic iss  baaad \n"
     ]
    }
   ],
   "source": [
    "#denoise_text(text):\n",
    "soup = BeautifulSoup(text, \"html.parser\")\n",
    "soup.get_text(text)\n",
    "re.sub('\\[[^]]*\\]', '', text)\n",
    "\n",
    "words=\"this  2 servic iss  baaad \"\n",
    "#remove_non_ascii\n",
    "    #\"\"\"Remove non-ASCII characters from list of tokenized words\"\"\"\n",
    "new_words = []\n",
    "for word in words:\n",
    "    print(word)\n",
    "    new_word = unicodedata.normalize('NFKD', word).encode('ascii', 'ignore').decode('utf-8', 'ignore')\n",
    "    new_words.append(new_word)\n",
    "    print(new_words)\n",
    "#to_lowercase(words):\n",
    "   # \"\"\"Convert all characters to lowercase from list of tokenized words\"\"\"\n",
    "new_words = []\n",
    "for word in words:\n",
    "    new_word = word.lower()\n",
    "    new_words.append(new_word)\n",
    "\n",
    "#remove_punctuation(words):\n",
    "   # \"\"\"Remove punctuation from list of tokenized words\"\"\"\n",
    "new_words = []\n",
    "for word in words:\n",
    "    new_word = re.sub(r'[^\\w\\s]', '', word)\n",
    "    if new_word != '':\n",
    "        new_words.append(new_word)\n",
    "\n",
    "#replace_numbers(words):\n",
    "   # \"\"\"Replace all interger occurrences in list of tokenized words with textual representation\"\"\"\n",
    "p = inflect.engine()\n",
    "new_words = []\n",
    "for word in words:\n",
    "    if word.isdigit():\n",
    "        new_word = p.number_to_words(word)\n",
    "        new_words.append(new_word)\n",
    "    else:\n",
    "        new_words.append(word)\n",
    "\n",
    "#remove_stopwords(words):\n",
    "    #\"\"\"Remove stop words from list of tokenized words\"\"\"\n",
    "new_words = []\n",
    "for word in words:\n",
    "    if word not in stopwords.words('english'):\n",
    "        new_words.append(word)\n",
    "\n",
    "#stem_words(words):\n",
    "   # \"\"\"Stem words in list of tokenized words\"\"\"\n",
    "stemmer = LancasterStemmer()\n",
    "stems = []\n",
    "for word in words:\n",
    "    stem = stemmer.stem(word)\n",
    "    stems.append(stem)\n",
    "\n",
    "#lemmatize_verbs(words):\n",
    "    #\"\"\"Lemmatize verbs in list of tokenized words\"\"\"\n",
    "lemmatizer = WordNetLemmatizer()\n",
    "lemmas = []\n",
    "for word in words:\n",
    "    lemma = lemmatizer.lemmatize(word, pos='v')\n",
    "    lemmas.append(lemma)\n",
    "print(words)"
   ]
  },
  {
   "cell_type": "code",
   "execution_count": null,
   "metadata": {},
   "outputs": [],
   "source": []
  }
 ],
 "metadata": {
  "kernelspec": {
   "display_name": "Python 3",
   "language": "python",
   "name": "python3"
  },
  "language_info": {
   "codemirror_mode": {
    "name": "ipython",
    "version": 3
   },
   "file_extension": ".py",
   "mimetype": "text/x-python",
   "name": "python",
   "nbconvert_exporter": "python",
   "pygments_lexer": "ipython3",
   "version": "3.6.8"
  }
 },
 "nbformat": 4,
 "nbformat_minor": 2
}
