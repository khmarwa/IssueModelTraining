{
 "cells": [
  {
   "cell_type": "code",
   "execution_count": 2,
   "metadata": {},
   "outputs": [
    {
     "name": "stdout",
     "output_type": "stream",
     "text": [
      "import done\n"
     ]
    }
   ],
   "source": [
    "import os\n",
    "import pandas as pd\n",
    "import numpy as np\n",
    "import warnings\n",
    "warnings.filterwarnings('ignore')\n",
    "from keras.preprocessing.text import Tokenizer\n",
    "from keras.preprocessing.sequence import pad_sequences\n",
    "from keras.models import Sequential\n",
    "from keras.layers import Dense, Embedding, LSTM\n",
    "from keras.utils.np_utils import to_categorical\n",
    "from keras.callbacks import ModelCheckpoint\n",
    "from keras.models import load_model\n",
    "from keras.optimizers import Adam\n",
    "print(\"import done\")"
   ]
  },
  {
   "cell_type": "code",
   "execution_count": 3,
   "metadata": {},
   "outputs": [],
   "source": [
    "#https://github.com/debadridtt/A-Review-of-Different-Word-Embeddings-for-Sentiment-Classification-using-Deep-Learning/blob/master/LSTM%20Experiment.ipynb"
   ]
  },
  {
   "cell_type": "code",
   "execution_count": 4,
   "metadata": {},
   "outputs": [
    {
     "name": "stdout",
     "output_type": "stream",
     "text": [
      "                                                text     label\n",
      "0  I had ordered a data cable, got a very well fi...  NOTISSUE\n",
      "1                                   Love This Phone.  NOTISSUE\n",
      "2                I get a very well finished product.  NOTISSUE\n",
      "3                            I could not be happier.  NOTISSUE\n",
      "4  I was looking for this headset for a long time...  NOTISSUE\n"
     ]
    }
   ],
   "source": [
    "DATA_FILE = 'C:/Users/khmar/Desktop/ISSUE/dataset/CSV/data_ameliorate/data.csv'\n",
    "df = pd.read_csv(DATA_FILE,delimiter=';',encoding='UTF-8')\n",
    "print(df.head())"
   ]
  },
  {
   "cell_type": "code",
   "execution_count": 5,
   "metadata": {},
   "outputs": [
    {
     "data": {
      "text/plain": [
       "NOTISSUE    2030\n",
       "ISSUE       2025\n",
       "Name: label, dtype: int64"
      ]
     },
     "execution_count": 5,
     "metadata": {},
     "output_type": "execute_result"
    }
   ],
   "source": [
    "df['label'].value_counts() #imbalanced Dataset\n"
   ]
  },
  {
   "cell_type": "code",
   "execution_count": 6,
   "metadata": {},
   "outputs": [
    {
     "data": {
      "text/plain": [
       "(4055, 2)"
      ]
     },
     "execution_count": 6,
     "metadata": {},
     "output_type": "execute_result"
    }
   ],
   "source": [
    "df.shape"
   ]
  },
  {
   "cell_type": "code",
   "execution_count": 7,
   "metadata": {},
   "outputs": [],
   "source": [
    "msk = np.random.rand(len(df)) < 0.7 # Splitting into train(70%) and test(30%) randomly"
   ]
  },
  {
   "cell_type": "code",
   "execution_count": 8,
   "metadata": {},
   "outputs": [],
   "source": [
    "train_df=df[msk]\n",
    "test_df=df[~msk]"
   ]
  },
  {
   "cell_type": "code",
   "execution_count": 9,
   "metadata": {},
   "outputs": [
    {
     "name": "stdout",
     "output_type": "stream",
     "text": [
      "(2831, 2)\n",
      "(1224, 2)\n"
     ]
    }
   ],
   "source": [
    "print(train_df.shape)\n",
    "print(test_df.shape)"
   ]
  },
  {
   "cell_type": "code",
   "execution_count": 10,
   "metadata": {},
   "outputs": [
    {
     "name": "stdout",
     "output_type": "stream",
     "text": [
      "Checking target values for train data:\n",
      "\n",
      "NOTISSUE    1420\n",
      "ISSUE       1411\n",
      "Name: label, dtype: int64 \n",
      "\n",
      "Checking target values for test data:\n",
      "\n",
      "ISSUE       614\n",
      "NOTISSUE    610\n",
      "Name: label, dtype: int64\n"
     ]
    }
   ],
   "source": [
    "print('Checking target values for train data:\\n')\n",
    "print(train_df['label'].value_counts(),'\\n')\n",
    "print('Checking target values for test data:\\n')\n",
    "print(test_df['label'].value_counts())"
   ]
  },
  {
   "cell_type": "code",
   "execution_count": 11,
   "metadata": {},
   "outputs": [
    {
     "data": {
      "text/plain": [
       "NOTISSUE    1420\n",
       "ISSUE       1411\n",
       "Name: label, dtype: int64"
      ]
     },
     "execution_count": 11,
     "metadata": {},
     "output_type": "execute_result"
    }
   ],
   "source": [
    "train_df['label'].value_counts()\n"
   ]
  },
  {
   "cell_type": "code",
   "execution_count": 12,
   "metadata": {},
   "outputs": [],
   "source": [
    "x_train=train_df['text']\n",
    "y_train=train_df['label']\n",
    "x_test=test_df['text']\n",
    "y_test=test_df['label']"
   ]
  },
  {
   "cell_type": "code",
   "execution_count": 13,
   "metadata": {},
   "outputs": [],
   "source": [
    "texts_train = x_train.astype(str)\n",
    "texts_test = x_test.astype(str)"
   ]
  },
  {
   "cell_type": "code",
   "execution_count": 14,
   "metadata": {},
   "outputs": [],
   "source": [
    "MAX_NB_WORDS = 20000\n",
    "maxlen = 120  # cut texts after this number of words (among top max_features most common words)\n",
    "batch_size = 32"
   ]
  },
  {
   "cell_type": "markdown",
   "metadata": {},
   "source": [
    "### GLoVe Embedding 100 "
   ]
  },
  {
   "cell_type": "code",
   "execution_count": 51,
   "metadata": {},
   "outputs": [],
   "source": [
    "x_train=train_df['text']\n",
    "y_train=train_df['label']\n",
    "x_test=test_df['text']\n",
    "y_test=test_df['label']"
   ]
  },
  {
   "cell_type": "code",
   "execution_count": 52,
   "metadata": {},
   "outputs": [],
   "source": [
    "MAX_NB_WORDS = 20000\n",
    "maxlen = 120  # cut texts after this number of words (among top max_features most common words)\n",
    "batch_size = 32"
   ]
  },
  {
   "cell_type": "code",
   "execution_count": 53,
   "metadata": {},
   "outputs": [],
   "source": [
    "texts_train = x_train.astype(str)\n",
    "texts_test = x_test.astype(str)"
   ]
  },
  {
   "cell_type": "code",
   "execution_count": 54,
   "metadata": {},
   "outputs": [],
   "source": [
    "tokenizer = Tokenizer(nb_words=MAX_NB_WORDS, char_level=False)\n",
    "tokenizer.fit_on_texts(texts_train)\n",
    "sequences = tokenizer.texts_to_sequences(texts_train)\n",
    "sequences_test = tokenizer.texts_to_sequences(texts_test)"
   ]
  },
  {
   "cell_type": "code",
   "execution_count": 55,
   "metadata": {},
   "outputs": [],
   "source": [
    "file_tok = 'C:/Users/khmar/model_file/LSTM_token_glove_DATA.sav'\n",
    "pickle.dump(tokenizer, open(file_tok, 'wb'))"
   ]
  },
  {
   "cell_type": "code",
   "execution_count": 56,
   "metadata": {},
   "outputs": [
    {
     "name": "stdout",
     "output_type": "stream",
     "text": [
      "Found 4177 unique tokens.\n"
     ]
    }
   ],
   "source": [
    "word_index = tokenizer.word_index\n",
    "print('Found %s unique tokens.' % len(word_index))"
   ]
  },
  {
   "cell_type": "code",
   "execution_count": 57,
   "metadata": {},
   "outputs": [
    {
     "name": "stdout",
     "output_type": "stream",
     "text": [
      "Shape of data tensor: (2831, 200)\n",
      "Shape of data test tensor: (1224, 200)\n"
     ]
    }
   ],
   "source": [
    "MAX_SEQUENCE_LENGTH = 200\n",
    "#pad sequences are used to bring all sentences to same size.\n",
    "# pad sequences with 0s\n",
    "x_train = pad_sequences(sequences, maxlen=MAX_SEQUENCE_LENGTH)\n",
    "x_test = pad_sequences(sequences_test, maxlen=MAX_SEQUENCE_LENGTH)\n",
    "print('Shape of data tensor:', x_train.shape)\n",
    "print('Shape of data test tensor:', x_test.shape)"
   ]
  },
  {
   "cell_type": "code",
   "execution_count": 58,
   "metadata": {},
   "outputs": [],
   "source": [
    "y_train = y_train.map({\"NOTISSUE\": 1, \"ISSUE\" : 0 })\n",
    "y_test = y_test.map({\"NOTISSUE\": 1, \"ISSUE\" : 0 })"
   ]
  },
  {
   "cell_type": "code",
   "execution_count": 59,
   "metadata": {},
   "outputs": [
    {
     "name": "stdout",
     "output_type": "stream",
     "text": [
      "Loaded 399999 word vectors.\n"
     ]
    }
   ],
   "source": [
    "# load the whole embedding into memory\n",
    "embeddings_index = {}\n",
    "f = open('C:/Users/khmar/Desktop/GLoVE/glove.6B.100d.txt', encoding=\"utf8\")\n",
    "for line in f:\n",
    "    values = line.split()\n",
    "    word = values[0]\n",
    "    coefs = np.asarray(values[1:], dtype='float32')\n",
    "    embeddings_index[word] = coefs\n",
    "f.close()\n",
    "print('Loaded %s word vectors.' % len(embeddings_index))"
   ]
  },
  {
   "cell_type": "code",
   "execution_count": 60,
   "metadata": {},
   "outputs": [],
   "source": [
    "embedding_matrix = np.zeros((len(word_index) + 1, 100))\n",
    "#Found 1489 unique tokens : word_index\n",
    "#print(len(word_index) + 1) #### 1490 \n",
    "#print(word_index.items()) ### unique tokens : words :word_index\n",
    "#print('embedding_matrix',embedding_matrix)\n",
    "out_of_vocab={}\n",
    "for word, i in word_index.items():\n",
    "    #print(i)\n",
    "    embedding_vector = embeddings_index.get(word)\n",
    "    #print('embedding_vector' ,embedding_vector )\n",
    "    if embedding_vector is not None:\n",
    "        # words not found in embedding index will be all-zeros.\n",
    "        #print('word: ', word)\n",
    "        embedding_matrix[i] = embedding_vector\n",
    "        #print('embedding_matrix :',embedding_matrix[i] )\n",
    "        # words not found in embedding index will be all-zeros.\n",
    "    if embedding_vector is  None:\n",
    "        #print('word not found :',word)\n",
    "        out_of_vocab[i] = word"
   ]
  },
  {
   "cell_type": "code",
   "execution_count": 61,
   "metadata": {},
   "outputs": [
    {
     "name": "stdout",
     "output_type": "stream",
     "text": [
      "notbe\n",
      "notthink\n",
      "nothave\n",
      "notwork\n",
      "notknow\n",
      "notwaste\n",
      "notrecommend\n",
      "notget\n",
      "noteven\n",
      "notgo\n",
      "notmake\n",
      "delish\n",
      "notuse\n",
      "notexpect\n",
      "notbuy\n",
      "notreally\n",
      "notwait\n",
      "notalways\n",
      "notask\n",
      "notseen\n",
      "notsave\n",
      "vinegrette\n",
      "there's\n",
      "notit\n",
      "notthe\n",
      "notdo\n",
      "notlike\n",
      "notunderstand\n",
      "notwrite\n",
      "notneed\n",
      "notsay\n",
      "notthat\n",
      "nothold\n",
      "notbelieve\n",
      "notpay\n",
      "'cover\n",
      "girl'\n",
      "notlook\n",
      "notbother\n",
      "notshare\n",
      "notfall\n",
      "notenjoy\n",
      "notreturn\n",
      "notwant\n",
      "nothelp\n",
      "notcoming\n",
      "notbad\n",
      "flavourful\n",
      "ayce\n",
      "notbeat\n",
      "yelpers\n",
      "notmind\n",
      "nottake\n",
      "notfood\n",
      "4ths\n",
      "gooodd\n",
      "nargile\n",
      "profiterole\n",
      "notbring\n",
      "cavier\n",
      "notvery\n",
      "noca\n",
      "noteach\n",
      "nottry\n",
      "perpared\n",
      "crumby\n",
      "notdisappoint\n",
      "auju\n",
      "restaraunt\n",
      "satifying\n",
      "d807\n",
      "excelent\n",
      "cingulair\n",
      "hoursthe\n",
      "thereplacement\n",
      "awsome\n",
      "earpad\n",
      "gx2\n",
      "accessoryone\n",
      "tmobile\n",
      "vx9900\n",
      "notregret\n",
      "bt250v\n",
      "incrediable\n",
      "wirefly\n",
      "wire's\n",
      "plantronincs\n",
      "disapointing\n",
      "i'd\n",
      "possesed\n",
      "deffinitely\n",
      "cent's\n",
      "5020\n",
      "comfortible\n",
      "e715\n",
      "seeen\n",
      "buyit\n",
      "dissapointing\n",
      "notproduce\n",
      "refurb\n",
      "flipphones\n",
      "notcare\n",
      "nottell\n",
      "notexplain\n",
      "v325i\n",
      "notslide\n",
      "5320\n",
      "blueant\n",
      "supertooth\n",
      "reccommend\n",
      "securly\n",
      "notgreat\n",
      "grtting\n",
      "v3c\n",
      "dieing\n",
      "travled\n",
      "8125\n",
      "nottrust\n",
      "accessable\n",
      "notcharge\n",
      "s710a\n",
      "z500a\n",
      "notwake\n",
      "notbeen\n",
      "notreceived\n",
      "destraction\n",
      "everyones\n",
      "wondeful\n",
      "standards'\n",
      "notfigured\n",
      "experinced\n",
      "notalready\n",
      "notclick\n",
      "notfind\n",
      "soooooooo\n",
      "areselling\n",
      "tallents\n",
      "notconvert\n",
      "m4p\n",
      "notprocess\n",
      "notspend\n",
      "convertor\n",
      "glichy\n",
      "notsend\n",
      "reccomend\n",
      "nottranslate\n",
      "notquite\n",
      "nothandle\n",
      "unrecommended\n",
      "notsee\n",
      "notspent\n",
      "sappiest\n",
      "notwitty\n",
      "notrise\n",
      "istagey'\n",
      "notlaugh\n",
      "notall\n",
      "underacting\n",
      "problems—the\n",
      "notmean\n",
      "notseem\n",
      "baaaaaad\n",
      "kitchy\n",
      "rpger\n",
      "notact\n",
      "notdeath\n",
      "notchoked\n",
      "notmiss\n",
      "notuntil\n",
      "notrealize\n",
      "seeing…\n",
      "honeslty\n",
      "nottaste\n",
      "wayyy\n",
      "ravoli\n",
      "burrittos\n",
      "bloddy\n",
      "tigerlilly\n",
      "notcomplain\n",
      "nothelpful\n",
      "notfit\n",
      "h500\n",
      "good7\n",
      "notmess\n",
      "w810i\n",
      "excrutiatingly\n",
      "absolutel\n",
      "contstruct\n",
      "v3i\n",
      "ngage\n",
      "frequentyly\n",
      "wortks\n",
      "synmatec\n",
      "relill\n",
      "resperate\n",
      "notclear\n",
      "problèmes\n",
      "surtout\n",
      "extenseur\n",
      "lombaire\n",
      "notgrip\n",
      "notfigure\n",
      "hydrabrush\n",
      "notdefective\n",
      "maxiumum\n",
      "shawarrrrrrma\n",
      "absolutley\n",
      "cheesecurds\n",
      "notgone\n",
      "soooooo\n",
      "somethat\n",
      "smashburger\n",
      "pissd\n",
      "notmuch\n",
      "notclosed\n",
      "incramming\n",
      "notworth\n",
      "notwasted\n",
      "notfresh\n",
      "ya'all\n",
      "douchebaggery\n",
      "notbusy\n",
      "notproperly\n",
      "notones\n",
      "albondigas\n",
      "unacceptible\n",
      "highy\n",
      "2mp\n",
      "bluetooths\n",
      "jabra350\n",
      "disapoinment\n",
      "definitly\n",
      "8530\n",
      "bougth\n",
      "l7c\n",
      "notlast\n",
      "bluetoooth\n",
      "serivce\n",
      "beateous\n",
      "veggitarian\n",
      "notskimp\n",
      "saganaki\n",
      "andddd\n",
      "transcendant\n",
      "macarons\n",
      "notcold\n",
      "notover\n",
      "whelm\n"
     ]
    }
   ],
   "source": [
    "#file_output= \"C:/Users/khmar/Desktop/out_of_vocab_glove_100_without_text_processing.txt\"\n",
    "#with open(file_output, \"w\") as f1:\n",
    "    #for word, i in out_of_vocab.items():\n",
    "        print(out_of_vocab.get(word))\n",
    "        f1.write(out_of_vocab.get(word))"
   ]
  },
  {
   "cell_type": "code",
   "execution_count": 62,
   "metadata": {},
   "outputs": [
    {
     "data": {
      "text/plain": [
       "'There are 248 out of vocab '"
      ]
     },
     "execution_count": 62,
     "metadata": {},
     "output_type": "execute_result"
    }
   ],
   "source": [
    "f'There are {len(out_of_vocab)} out of vocab '"
   ]
  },
  {
   "cell_type": "code",
   "execution_count": 63,
   "metadata": {},
   "outputs": [],
   "source": [
    "model_glove= Sequential()\n",
    "model_glove.add(Embedding(len(word_index) + 1,\n",
    "                            100,\n",
    "                            weights=[embedding_matrix],\n",
    "                            input_length=MAX_SEQUENCE_LENGTH,\n",
    "                            trainable=False))\n",
    "model_glove.add(LSTM(128, dropout=0.2, recurrent_dropout=0.2,input_shape=(1,)))\n",
    "model_glove.add(Dense(1, activation='sigmoid'))"
   ]
  },
  {
   "cell_type": "code",
   "execution_count": 64,
   "metadata": {},
   "outputs": [],
   "source": [
    "model_glove.compile(loss='binary_crossentropy',\n",
    "              optimizer='adam',\n",
    "              metrics=['accuracy'])"
   ]
  },
  {
   "cell_type": "code",
   "execution_count": 65,
   "metadata": {},
   "outputs": [
    {
     "name": "stdout",
     "output_type": "stream",
     "text": [
      "Train on 2831 samples, validate on 1224 samples\n",
      "Epoch 1/2\n",
      "2831/2831 [==============================] - 28s 10ms/step - loss: 0.6153 - acc: 0.6637 - val_loss: 0.5136 - val_acc: 0.7606\n",
      "Epoch 2/2\n",
      "2831/2831 [==============================] - 23s 8ms/step - loss: 0.5319 - acc: 0.7439 - val_loss: 0.4738 - val_acc: 0.7868\n",
      "Wall time: 51.7 s\n"
     ]
    },
    {
     "data": {
      "text/plain": [
       "<keras.callbacks.History at 0x2683470f470>"
      ]
     },
     "execution_count": 65,
     "metadata": {},
     "output_type": "execute_result"
    }
   ],
   "source": [
    "%%time\n",
    "model_glove.fit(data, y_train,\n",
    "          batch_size=batch_size,\n",
    "          epochs=2,\n",
    "          validation_data=(test_data, y_test))"
   ]
  },
  {
   "cell_type": "code",
   "execution_count": 66,
   "metadata": {},
   "outputs": [
    {
     "name": "stdout",
     "output_type": "stream",
     "text": [
      "1224/1224 [==============================] - 3s 2ms/step\n",
      "loss: 47.38%\n",
      "acc: 78.68%\n"
     ]
    }
   ],
   "source": [
    "scores = model_glove.evaluate(x_test, y_test,\n",
    "                            batch_size=batch_size)\n",
    "print(\"%s: %.2f%%\" % (model_glove.metrics_names[0], scores[0] * 100))\n",
    "print(\"%s: %.2f%%\" % (model_glove.metrics_names[1], scores[1] * 100))"
   ]
  },
  {
   "cell_type": "code",
   "execution_count": 67,
   "metadata": {},
   "outputs": [],
   "source": [
    "file_model = 'C:/Users/khmar/model_file/LSTM_model_glove_DATA.sav'\n",
    "pickle.dump(model_glove, open(file_model, 'wb'))"
   ]
  },
  {
   "cell_type": "code",
   "execution_count": 68,
   "metadata": {},
   "outputs": [],
   "source": [
    "# Save the model\n",
    "model_glove.save('lstm_model_glove_100_DATA_without_text_processing.sav')"
   ]
  },
  {
   "cell_type": "markdown",
   "metadata": {},
   "source": [
    "### Prediction"
   ]
  },
  {
   "cell_type": "code",
   "execution_count": 111,
   "metadata": {},
   "outputs": [],
   "source": [
    "#import pickle\n",
    "#model_file='lstm_model_glove_200_DATA_without_text_processing.sav'\n",
    "#token_file='C:/Users/khmar/model_file/LSTM_token_glove_200d_DATA.sav'\n",
    "#model = pickle.load(open(model_file,'rb'))\n",
    "#token = pickle.load(open(token_file,'rb'))\n",
    "\n",
    "#import numpy as np \n",
    "#from keras.models import load_model # To save and load model\n",
    "\n",
    "# Load the model\n",
    "#my_model = load_model(model_file)\n",
    "#my_model= model_glove"
   ]
  },
  {
   "cell_type": "code",
   "execution_count": null,
   "metadata": {},
   "outputs": [],
   "source": [
    "def prediction(input_file,output_file):\n",
    "    df= pd.DataFrame(columns=['label', 'text'])\n",
    "    data = pd.read_csv(input_file,delimiter=';')\n",
    "    inputt=data.text\n",
    "    x_input = inputt.values\n",
    "    for i in x_input:\n",
    "        seq = tokenizer.texts_to_sequences(i)\n",
    "        seqs = pad_sequences(seq, maxlen=MAX_SEQUENCE_LENGTH)\n",
    "        yhat = model.predict(seqs)\n",
    "        class_pred = model.predict_classes(seqs)\n",
    "        classe1 = prediction_classe(class_pred[0])\n",
    "        df=df.append({'label':classe1,'text':i},ignore_index=True)\n",
    "    df.to_csv(output_file,sep=';')\n",
    "    return data,df"
   ]
  },
  {
   "cell_type": "code",
   "execution_count": 164,
   "metadata": {},
   "outputs": [],
   "source": [
    "def prediction_classe(prob):\n",
    "    x=\"\"\n",
    "    if prob > 0.5:\n",
    "          x = 'NOTISSUE'\n",
    "    if prob <= 0.5:\n",
    "          x = 'ISSUE'\n",
    "    return x"
   ]
  },
  {
   "cell_type": "code",
   "execution_count": 133,
   "metadata": {},
   "outputs": [],
   "source": [
    "## prediction of one word"
   ]
  },
  {
   "cell_type": "code",
   "execution_count": 167,
   "metadata": {},
   "outputs": [
    {
     "name": "stdout",
     "output_type": "stream",
     "text": [
      "\n"
     ]
    }
   ],
   "source": [
    "seq= token.texts_to_sequences(\"good service\")\n",
    "seqs = pad_sequences(seq, maxlen=MAX_SEQUENCE_LENGTH)\n",
    "y = model.predict(seqs)\n",
    "print(prediction_classe(y[0][0]))"
   ]
  },
  {
   "cell_type": "code",
   "execution_count": 109,
   "metadata": {},
   "outputs": [],
   "source": [
    "### prediction of all data"
   ]
  },
  {
   "cell_type": "code",
   "execution_count": 72,
   "metadata": {},
   "outputs": [
    {
     "data": {
      "text/plain": [
       "(                                                   text     label\n",
       " 0     I had ordered a data cable, got a very well fi...  NOTISSUE\n",
       " 1                                      Love This Phone.  NOTISSUE\n",
       " 2                   I get a very well finished product.  NOTISSUE\n",
       " 3                                I couldn't be happier.  NOTISSUE\n",
       " 4     I was looking for this headset for a long time...  NOTISSUE\n",
       " 5              my headset starts ringing for no reason.     ISSUE\n",
       " 6     Display is excellent and camera is as good as ...  NOTISSUE\n",
       " 7                           Battery life is also great!  NOTISSUE\n",
       " 8     The worst phone I've ever had.... Only had it ...     ISSUE\n",
       " 9     Not a good item.. It worked for a while then s...     ISSUE\n",
       " 10    This is so embarassing and also my ears hurt i...     ISSUE\n",
       " 11                     Protects the phone on all sides.  NOTISSUE\n",
       " 12    This is a VERY average phone with bad battery ...     ISSUE\n",
       " 13    Clear Skype Calls, Long Battery Life, Long Range.  NOTISSUE\n",
       " 14                               Soyo technology sucks.     ISSUE\n",
       " 15                             Great Hands Free Device.  NOTISSUE\n",
       " 16    you can even take self portraits with the outs...  NOTISSUE\n",
       " 17               Same problem as others have mentioned.     ISSUE\n",
       " 18    After trying many many handsfree gadgets this ...  NOTISSUE\n",
       " 19                                        Magical Help.  NOTISSUE\n",
       " 20    The worst piece of crap ever along with the Ve...     ISSUE\n",
       " 21                                  Poor sound quality.     ISSUE\n",
       " 22                         The best phone in market :).  NOTISSUE\n",
       " 23                                 It worked very well.  NOTISSUE\n",
       " 24    The company shipped my product very promptly a...  NOTISSUE\n",
       " 25                               Exactly what I wanted.  NOTISSUE\n",
       " 26    The picture resolution is far below what other...     ISSUE\n",
       " 27                                This is a great deal.  NOTISSUE\n",
       " 28    Excellent product, I am very satisfied with th...  NOTISSUE\n",
       " 29    I highly recommend these and encourage people ...  NOTISSUE\n",
       " ...                                                 ...       ...\n",
       " 4027                 My girlfriend's veal was very bad.     ISSUE\n",
       " 4028                    Unfortunately, it was not good.     ISSUE\n",
       " 4029               I had a pretty satifying experience.  NOTISSUE\n",
       " 4030    Join the club and get awesome offers via email.  NOTISSUE\n",
       " 4031  Perfect for someone (me) who only likes beer i...  NOTISSUE\n",
       " 4032  Bland and flavorless is a good way of describi...     ISSUE\n",
       " 4033  The chains, which I'm no fan of, beat this pla...     ISSUE\n",
       " 4034                        The nachos are a MUST HAVE!  NOTISSUE\n",
       " 4035                        We will not be coming back.     ISSUE\n",
       " 4036  I don't have very many words to say about this...  NOTISSUE\n",
       " 4037  The staff is super nice and very quick even wi...  NOTISSUE\n",
       " 4038       Great atmosphere, friendly and fast service.  NOTISSUE\n",
       " 4039  When I received my Pita it was huge it did hav...  NOTISSUE\n",
       " 4040                   Once your food arrives it's meh.     ISSUE\n",
       " 4041  Paying $7.85 for a hot dog and fries that look...     ISSUE\n",
       " 4042      The classic Maine Lobster Roll was fantastic.  NOTISSUE\n",
       " 4043  My brother in law who works at the mall ate he...     ISSUE\n",
       " 4044  So good I am going to have to review this plac...  NOTISSUE\n",
       " 4045  The chips and salsa were really good, the sals...  NOTISSUE\n",
       " 4046                  This place is great!!!!!!!!!!!!!!  NOTISSUE\n",
       " 4047                                     Mediocre food.     ISSUE\n",
       " 4048  Once you get inside you'll be impressed with t...  NOTISSUE\n",
       " 4049                                   I'm super pissd.     ISSUE\n",
       " 4050                    And service was super friendly.  NOTISSUE\n",
       " 4051  Why are these sad little vegetables so overcoo...     ISSUE\n",
       " 4052               This place was such a nice surprise!  NOTISSUE\n",
       " 4053                     The live music  totally blows.  NOTISSUE\n",
       " 4054                   I have a problem can you help me     ISSUE\n",
       " 4055                                    can you help me  NOTISSUE\n",
       " 4056                             can you help me please  NOTISSUE\n",
       " \n",
       " [4057 rows x 2 columns],\n",
       "          label                                               text\n",
       " 0     NOTISSUE  I had ordered a data cable, got a very well fi...\n",
       " 1        ISSUE                                   Love This Phone.\n",
       " 2     NOTISSUE                I get a very well finished product.\n",
       " 3     NOTISSUE                             I couldn't be happier.\n",
       " 4     NOTISSUE  I was looking for this headset for a long time...\n",
       " 5        ISSUE           my headset starts ringing for no reason.\n",
       " 6        ISSUE  Display is excellent and camera is as good as ...\n",
       " 7     NOTISSUE                        Battery life is also great!\n",
       " 8     NOTISSUE  The worst phone I've ever had.... Only had it ...\n",
       " 9        ISSUE  Not a good item.. It worked for a while then s...\n",
       " 10    NOTISSUE  This is so embarassing and also my ears hurt i...\n",
       " 11       ISSUE                   Protects the phone on all sides.\n",
       " 12    NOTISSUE  This is a VERY average phone with bad battery ...\n",
       " 13       ISSUE  Clear Skype Calls, Long Battery Life, Long Range.\n",
       " 14       ISSUE                             Soyo technology sucks.\n",
       " 15       ISSUE                           Great Hands Free Device.\n",
       " 16       ISSUE  you can even take self portraits with the outs...\n",
       " 17       ISSUE             Same problem as others have mentioned.\n",
       " 18    NOTISSUE  After trying many many handsfree gadgets this ...\n",
       " 19       ISSUE                                      Magical Help.\n",
       " 20    NOTISSUE  The worst piece of crap ever along with the Ve...\n",
       " 21       ISSUE                                Poor sound quality.\n",
       " 22    NOTISSUE                       The best phone in market :).\n",
       " 23    NOTISSUE                               It worked very well.\n",
       " 24    NOTISSUE  The company shipped my product very promptly a...\n",
       " 25       ISSUE                             Exactly what I wanted.\n",
       " 26    NOTISSUE  The picture resolution is far below what other...\n",
       " 27    NOTISSUE                              This is a great deal.\n",
       " 28       ISSUE  Excellent product, I am very satisfied with th...\n",
       " 29    NOTISSUE  I highly recommend these and encourage people ...\n",
       " ...        ...                                                ...\n",
       " 4027     ISSUE                 My girlfriend's veal was very bad.\n",
       " 4028  NOTISSUE                    Unfortunately, it was not good.\n",
       " 4029  NOTISSUE               I had a pretty satifying experience.\n",
       " 4030     ISSUE    Join the club and get awesome offers via email.\n",
       " 4031     ISSUE  Perfect for someone (me) who only likes beer i...\n",
       " 4032  NOTISSUE  Bland and flavorless is a good way of describi...\n",
       " 4033  NOTISSUE  The chains, which I'm no fan of, beat this pla...\n",
       " 4034  NOTISSUE                        The nachos are a MUST HAVE!\n",
       " 4035     ISSUE                        We will not be coming back.\n",
       " 4036  NOTISSUE  I don't have very many words to say about this...\n",
       " 4037  NOTISSUE  The staff is super nice and very quick even wi...\n",
       " 4038     ISSUE       Great atmosphere, friendly and fast service.\n",
       " 4039     ISSUE  When I received my Pita it was huge it did hav...\n",
       " 4040     ISSUE                   Once your food arrives it's meh.\n",
       " 4041     ISSUE  Paying $7.85 for a hot dog and fries that look...\n",
       " 4042  NOTISSUE      The classic Maine Lobster Roll was fantastic.\n",
       " 4043     ISSUE  My brother in law who works at the mall ate he...\n",
       " 4044     ISSUE  So good I am going to have to review this plac...\n",
       " 4045  NOTISSUE  The chips and salsa were really good, the sals...\n",
       " 4046  NOTISSUE                  This place is great!!!!!!!!!!!!!!\n",
       " 4047     ISSUE                                     Mediocre food.\n",
       " 4048     ISSUE  Once you get inside you'll be impressed with t...\n",
       " 4049  NOTISSUE                                   I'm super pissd.\n",
       " 4050  NOTISSUE                    And service was super friendly.\n",
       " 4051     ISSUE  Why are these sad little vegetables so overcoo...\n",
       " 4052  NOTISSUE               This place was such a nice surprise!\n",
       " 4053  NOTISSUE                     The live music  totally blows.\n",
       " 4054  NOTISSUE                   I have a problem can you help me\n",
       " 4055     ISSUE                                    can you help me\n",
       " 4056     ISSUE                             can you help me please\n",
       " \n",
       " [4057 rows x 2 columns])"
      ]
     },
     "execution_count": 72,
     "metadata": {},
     "output_type": "execute_result"
    }
   ],
   "source": [
    "input_file ='C:/Users/khmar/Desktop/ISSUE/dataset/CSV/DATA.csv'\n",
    "output_file ='C:/Users/khmar/Desktop/ISSUE/dataset/CSV/DATA_pred_glove.csv'\n",
    "prediction(input_file,output_file,my_model,token)"
   ]
  },
  {
   "cell_type": "code",
   "execution_count": null,
   "metadata": {},
   "outputs": [],
   "source": [
    "data_predict= pd.read_csv(output_file ,delimiter=';',encoding='latin-1')\n",
    "print(data_predict.head())"
   ]
  },
  {
   "cell_type": "code",
   "execution_count": 110,
   "metadata": {},
   "outputs": [
    {
     "data": {
      "text/plain": [
       "NOTISSUE    2459\n",
       "ISSUE       1598\n",
       "Name: label, dtype: int64"
      ]
     },
     "execution_count": 110,
     "metadata": {},
     "output_type": "execute_result"
    }
   ],
   "source": [
    "data_predict['label'].value_counts() #imbalanced Dataset"
   ]
  },
  {
   "cell_type": "code",
   "execution_count": 168,
   "metadata": {},
   "outputs": [],
   "source": [
    "### confessin matrix"
   ]
  },
  {
   "cell_type": "code",
   "execution_count": 73,
   "metadata": {},
   "outputs": [
    {
     "name": "stdout",
     "output_type": "stream",
     "text": [
      "                                                 text     label\n",
      "1                                    Love This Phone.  NOTISSUE\n",
      "2                 I get a very well finished product.  NOTISSUE\n",
      "3                              I couldn't be happier.  NOTISSUE\n",
      "4   I was looking for this headset for a long time...  NOTISSUE\n",
      "11                   Protects the phone on all sides.  NOTISSUE\n"
     ]
    }
   ],
   "source": [
    "DATA_FILE_PREDICT = 'C:/Users/khmar/Desktop/ISSUE/dataset/CSV/DATA_pred_glove.csv'\n",
    "data_predict= pd.read_csv(DATA_FILE_PREDICT ,delimiter=';',encoding='latin-1')\n",
    "print(df.head())"
   ]
  },
  {
   "cell_type": "code",
   "execution_count": 74,
   "metadata": {},
   "outputs": [
    {
     "name": "stdout",
     "output_type": "stream",
     "text": [
      "[[ 804 1224]\n",
      " [ 794 1235]]\n"
     ]
    }
   ],
   "source": [
    "from sklearn.metrics import confusion_matrix\n",
    "cm=confusion_matrix(df.label,data_predict.label)\n",
    "print(cm)"
   ]
  },
  {
   "cell_type": "code",
   "execution_count": 75,
   "metadata": {},
   "outputs": [],
   "source": [
    "from sklearn.metrics import confusion_matrix\n",
    "import matplotlib.pyplot as plt\n",
    "import itertools\n",
    "# This utility function is from the sklearn docs: http://scikit-learn.org/stable/auto_examples/model_selection/plot_confusion_matrix.html\n",
    "def plot_confusion_matrix(cm, classes,\n",
    "                          title='Confusion matrix',\n",
    "                          cmap=plt.cm.Blues):\n",
    "    \"\"\"\n",
    "    This function prints and plots the confusion matrix.\n",
    "    Normalization can be applied by setting `normalize=True`.\n",
    "    \"\"\"\n",
    "\n",
    "    cm = cm.astype('float') / cm.sum(axis=1)[:, np.newaxis]\n",
    "\n",
    "    plt.imshow(cm, interpolation='nearest', cmap=cmap)\n",
    "    plt.title(title, fontsize=30)\n",
    "    plt.colorbar()\n",
    "    tick_marks = np.arange(len(classes))\n",
    "    plt.xticks(tick_marks, classes, rotation=45, fontsize=22)\n",
    "    plt.yticks(tick_marks, classes, fontsize=22)\n",
    "\n",
    "    fmt = '.2f'\n",
    "    thresh = cm.max() / 2.\n",
    "    for i, j in itertools.product(range(cm.shape[0]), range(cm.shape[1])):\n",
    "        plt.text(j, i, format(cm[i, j], fmt),\n",
    "                 horizontalalignment=\"center\",\n",
    "                 color=\"white\" if cm[i, j] > thresh else \"black\")\n",
    "\n",
    "    plt.ylabel('True label', fontsize=25)\n",
    "    plt.xlabel('Predicted label', fontsize=25)"
   ]
  },
  {
   "cell_type": "code",
   "execution_count": 76,
   "metadata": {},
   "outputs": [
    {
     "data": {
      "image/png": "[encoded data removed]",
      "text/plain": [
       "<Figure size 1728x1440 with 2 Axes>"
      ]
     },
     "metadata": {
      "needs_background": "light"
     },
     "output_type": "display_data"
    }
   ],
   "source": [
    "cnf_matrix = confusion_matrix(df.label, data_predict.label)\n",
    "plt.figure(figsize=(24,20))\n",
    "plot_confusion_matrix(cnf_matrix, classes=['ISSUE','NOTISSUE'], title=\"Confusion matrix\")\n",
    "plt.show()"
   ]
  },
  {
   "cell_type": "code",
   "execution_count": 77,
   "metadata": {},
   "outputs": [],
   "source": [
    "#######"
   ]
  },
  {
   "cell_type": "code",
   "execution_count": 78,
   "metadata": {},
   "outputs": [],
   "source": [
    "########"
   ]
  },
  {
   "cell_type": "code",
   "execution_count": 79,
   "metadata": {},
   "outputs": [],
   "source": [
    "from sklearn.metrics import confusion_matrix\n",
    "cf = confusion_matrix(y_true = df.label, y_pred = data_predict.label)"
   ]
  },
  {
   "cell_type": "code",
   "execution_count": 80,
   "metadata": {},
   "outputs": [
    {
     "name": "stdout",
     "output_type": "stream",
     "text": [
      "[\n",
      "  [\n",
      "    804,\n",
      "    1224\n",
      "  ],\n",
      "  [\n",
      "    794,\n",
      "    1235\n",
      "  ]\n",
      "]\n"
     ]
    }
   ],
   "source": [
    "import json\n",
    "print(json.dumps(cf.tolist(), indent=2))"
   ]
  },
  {
   "cell_type": "code",
   "execution_count": 81,
   "metadata": {},
   "outputs": [],
   "source": [
    "import seaborn as sns\n",
    "import matplotlib.pyplot as plt\n",
    "%matplotlib inline"
   ]
  },
  {
   "cell_type": "code",
   "execution_count": 82,
   "metadata": {},
   "outputs": [
    {
     "data": {
      "image/png": "[encoded data removed]",
      "text/plain": [
       "<Figure size 1440x720 with 2 Axes>"
      ]
     },
     "metadata": {
      "needs_background": "light"
     },
     "output_type": "display_data"
    }
   ],
   "source": [
    "plt.figure(figsize=(20,10))\n",
    "ax = sns.heatmap(cf, annot=True, fmt=\"d\",linewidths=.5, center = 90, vmax = 200)"
   ]
  },
  {
   "cell_type": "code",
   "execution_count": 83,
   "metadata": {},
   "outputs": [
    {
     "name": "stdout",
     "output_type": "stream",
     "text": [
      "accuracy 0.5025881192999754\n",
      "              precision    recall  f1-score   support\n",
      "\n",
      "       ISSUE       0.50      0.40      0.44      2028\n",
      "    NOTISSUE       0.50      0.61      0.55      2029\n",
      "\n",
      "   micro avg       0.50      0.50      0.50      4057\n",
      "   macro avg       0.50      0.50      0.50      4057\n",
      "weighted avg       0.50      0.50      0.50      4057\n",
      "\n"
     ]
    }
   ],
   "source": [
    "from sklearn.metrics import classification_report, accuracy_score\n",
    "\n",
    "print('accuracy %s' % accuracy_score(data_predict.label, df.label))\n",
    "print(classification_report(df.label, data_predict.label,target_names=['ISSUE','NOTISSUE']))"
   ]
  },
  {
   "cell_type": "code",
   "execution_count": null,
   "metadata": {},
   "outputs": [],
   "source": [
    "def false(input_file,output_file,falses_file):\n",
    "    diff= pd.DataFrame(columns=['Label1','Label2', 'Text'])\n",
    "    data = pd.read_csv(input_file,delimiter=';')\n",
    "    data_pred = pd.read_csv(output_file,delimiter=';')\n",
    "    input1 = data.label\n",
    "    input2 = data_pred.label\n",
    "    x=data.text.values\n",
    "    x_input1 = input1.values\n",
    "    x_input2 = input2.values\n",
    "    for i in range(len(x_input1)):\n",
    "        if x_input1[i]!=x_input2[i]:\n",
    "            diff = diff.append({'Label1':x_input1[i],'Label2':x_input2[i], 'Text':x[i]},ignore_index=True)\n",
    "    diff.to_csv(falses_file,sep=';')\n",
    "    return diff\n"
   ]
  },
  {
   "cell_type": "code",
   "execution_count": null,
   "metadata": {},
   "outputs": [],
   "source": [
    "falses_file='C:/Users/khmar/Desktop/ISSUE/dataset/CSV/DATA_pred_glove.csv'\n",
    "diff=false(input_file,output_file,falses_file)\n",
    "print(diff)"
   ]
  },
  {
   "cell_type": "code",
   "execution_count": null,
   "metadata": {},
   "outputs": [],
   "source": []
  },
  {
   "cell_type": "code",
   "execution_count": null,
   "metadata": {},
   "outputs": [],
   "source": [
    "#from sklearn.metrics import confusion_matrix,classification_report\n",
    "#print('\\n*Classification LSTM Word2Vec:\\n', classification_report(y_test, model_glove.predict(x_test)))"
   ]
  }
 ],
 "metadata": {
  "kernelspec": {
   "display_name": "Python 3",
   "language": "python",
   "name": "python3"
  },
  "language_info": {
   "codemirror_mode": {
    "name": "ipython",
    "version": 3
   },
   "file_extension": ".py",
   "mimetype": "text/x-python",
   "name": "python",
   "nbconvert_exporter": "python",
   "pygments_lexer": "ipython3",
   "version": "3.6.8"
  }
 },
 "nbformat": 4,
 "nbformat_minor": 2
}
