{
 "cells": [
  {
   "cell_type": "code",
   "execution_count": 1,
   "metadata": {},
   "outputs": [
    {
     "name": "stderr",
     "output_type": "stream",
     "text": [
      "Using TensorFlow backend.\n"
     ]
    },
    {
     "name": "stdout",
     "output_type": "stream",
     "text": [
      "import done\n"
     ]
    }
   ],
   "source": [
    "import os\n",
    "import pandas as pd\n",
    "import numpy as np\n",
    "import warnings\n",
    "warnings.filterwarnings('ignore')\n",
    "from keras.preprocessing.text import Tokenizer\n",
    "from keras.preprocessing.sequence import pad_sequences\n",
    "from keras.models import Sequential\n",
    "from keras.layers import Dense, Embedding, LSTM\n",
    "from keras.utils.np_utils import to_categorical\n",
    "from keras.callbacks import ModelCheckpoint\n",
    "from keras.models import load_model\n",
    "from keras.optimizers import Adam\n",
    "print(\"import done\")"
   ]
  },
  {
   "cell_type": "code",
   "execution_count": 2,
   "metadata": {},
   "outputs": [],
   "source": [
    "#https://github.com/debadridtt/A-Review-of-Different-Word-Embeddings-for-Sentiment-Classification-using-Deep-Learning/blob/master/LSTM%20Experiment.ipynb"
   ]
  },
  {
   "cell_type": "code",
   "execution_count": 3,
   "metadata": {},
   "outputs": [
    {
     "name": "stdout",
     "output_type": "stream",
     "text": [
      "                                                text     label\n",
      "0  I had ordered a data cable, got a very well fi...  NOTISSUE\n",
      "1                                   Love This Phone.  NOTISSUE\n",
      "2                I get a very well finished product.  NOTISSUE\n",
      "3                            I could not be happier.  NOTISSUE\n",
      "4  I was looking for this headset for a long time...  NOTISSUE\n"
     ]
    }
   ],
   "source": [
    "DATA_FILE = 'C:/Users/khmar/Desktop/ISSUE/dataset/CSV/data_ameliorate/data.csv'\n",
    "df = pd.read_csv(DATA_FILE,delimiter=';',encoding='UTF-8')\n",
    "print(df.head())"
   ]
  },
  {
   "cell_type": "code",
   "execution_count": 4,
   "metadata": {},
   "outputs": [
    {
     "data": {
      "text/plain": [
       "NOTISSUE    2030\n",
       "ISSUE       2025\n",
       "Name: label, dtype: int64"
      ]
     },
     "execution_count": 4,
     "metadata": {},
     "output_type": "execute_result"
    }
   ],
   "source": [
    "df['label'].value_counts() #imbalanced Dataset\n"
   ]
  },
  {
   "cell_type": "code",
   "execution_count": 5,
   "metadata": {},
   "outputs": [
    {
     "data": {
      "text/plain": [
       "(4055, 2)"
      ]
     },
     "execution_count": 5,
     "metadata": {},
     "output_type": "execute_result"
    }
   ],
   "source": [
    "df.shape"
   ]
  },
  {
   "cell_type": "code",
   "execution_count": 6,
   "metadata": {},
   "outputs": [],
   "source": [
    "msk = np.random.rand(len(df)) < 0.7 # Splitting into train(70%) and test(30%) randomly"
   ]
  },
  {
   "cell_type": "code",
   "execution_count": 7,
   "metadata": {},
   "outputs": [],
   "source": [
    "train_df=df[msk]\n",
    "test_df=df[~msk]"
   ]
  },
  {
   "cell_type": "code",
   "execution_count": 8,
   "metadata": {},
   "outputs": [
    {
     "name": "stdout",
     "output_type": "stream",
     "text": [
      "(2870, 2)\n",
      "(1185, 2)\n"
     ]
    }
   ],
   "source": [
    "print(train_df.shape)\n",
    "print(test_df.shape)"
   ]
  },
  {
   "cell_type": "code",
   "execution_count": 9,
   "metadata": {},
   "outputs": [
    {
     "name": "stdout",
     "output_type": "stream",
     "text": [
      "Checking target values for train data:\n",
      "\n",
      "NOTISSUE    1439\n",
      "ISSUE       1431\n",
      "Name: label, dtype: int64 \n",
      "\n",
      "Checking target values for test data:\n",
      "\n",
      "ISSUE       594\n",
      "NOTISSUE    591\n",
      "Name: label, dtype: int64\n"
     ]
    }
   ],
   "source": [
    "print('Checking target values for train data:\\n')\n",
    "print(train_df['label'].value_counts(),'\\n')\n",
    "print('Checking target values for test data:\\n')\n",
    "print(test_df['label'].value_counts())"
   ]
  },
  {
   "cell_type": "code",
   "execution_count": 10,
   "metadata": {},
   "outputs": [
    {
     "data": {
      "text/plain": [
       "NOTISSUE    1439\n",
       "ISSUE       1431\n",
       "Name: label, dtype: int64"
      ]
     },
     "execution_count": 10,
     "metadata": {},
     "output_type": "execute_result"
    }
   ],
   "source": [
    "train_df['label'].value_counts()\n"
   ]
  },
  {
   "cell_type": "code",
   "execution_count": 11,
   "metadata": {},
   "outputs": [],
   "source": [
    "x_train=train_df['text']\n",
    "y_train=train_df['label']\n",
    "x_test=test_df['text']\n",
    "y_test=test_df['label']"
   ]
  },
  {
   "cell_type": "markdown",
   "metadata": {},
   "source": [
    "### GLOVE EMBEDDING 300"
   ]
  },
  {
   "cell_type": "code",
   "execution_count": 12,
   "metadata": {},
   "outputs": [],
   "source": [
    "MAX_NB_WORDS = 20000\n",
    "MAX_SEQUENCE_LENGTH = 200\n",
    "maxlen = 120  # cut texts after this number of words (among top max_features most common words)\n",
    "batch_size = 32"
   ]
  },
  {
   "cell_type": "code",
   "execution_count": 13,
   "metadata": {},
   "outputs": [],
   "source": [
    "texts_train = x_train.astype(str)\n",
    "texts_test = x_test.astype(str)"
   ]
  },
  {
   "cell_type": "code",
   "execution_count": 14,
   "metadata": {},
   "outputs": [],
   "source": [
    "tokenizer = Tokenizer(nb_words=MAX_NB_WORDS, char_level=False)\n",
    "tokenizer.fit_on_texts(texts_train)\n",
    "sequences = tokenizer.texts_to_sequences(texts_train)\n",
    "sequences_test = tokenizer.texts_to_sequences(texts_test)"
   ]
  },
  {
   "cell_type": "code",
   "execution_count": 15,
   "metadata": {},
   "outputs": [],
   "source": [
    "data = pad_sequences(sequences, maxlen=MAX_SEQUENCE_LENGTH, \n",
    "                     padding=\"pre\", truncating=\"post\")\n",
    "test_data = pad_sequences(sequences_test, maxlen=MAX_SEQUENCE_LENGTH, padding=\"pre\",\n",
    "                          truncating=\"post\")"
   ]
  },
  {
   "cell_type": "code",
   "execution_count": 16,
   "metadata": {},
   "outputs": [
    {
     "name": "stdout",
     "output_type": "stream",
     "text": [
      "Shape of data tensor: (2870, 200)\n",
      "Shape of test_data tensor: (1185, 200)\n"
     ]
    }
   ],
   "source": [
    "print('Shape of data tensor:', data.shape)\n",
    "print('Shape of test_data tensor:', test_data.shape)"
   ]
  },
  {
   "cell_type": "code",
   "execution_count": 17,
   "metadata": {},
   "outputs": [],
   "source": [
    "#import pickle\n",
    "#file_tok = 'C:/Users/khmar/model_file/LSTM_token_glove_300d_DATA_without_text_processing.sav'\n",
    "#pickle.dump(tokenizer, open(file_tok, 'wb'))"
   ]
  },
  {
   "cell_type": "code",
   "execution_count": 18,
   "metadata": {},
   "outputs": [
    {
     "name": "stdout",
     "output_type": "stream",
     "text": [
      "Found 4210 unique tokens.\n"
     ]
    }
   ],
   "source": [
    "word_index = tokenizer.word_index\n",
    "print('Found %s unique tokens.' % len(word_index))"
   ]
  },
  {
   "cell_type": "code",
   "execution_count": 19,
   "metadata": {},
   "outputs": [
    {
     "name": "stdout",
     "output_type": "stream",
     "text": [
      "Shape of data tensor: (2870, 200)\n",
      "Shape of data test tensor: (1185, 200)\n"
     ]
    }
   ],
   "source": [
    "#pad sequences are used to bring all sentences to same size.\n",
    "# pad sequences with 0s\n",
    "x_train = pad_sequences(sequences, maxlen=MAX_SEQUENCE_LENGTH)\n",
    "x_test = pad_sequences(sequences_test, maxlen=MAX_SEQUENCE_LENGTH)\n",
    "print('Shape of data tensor:', x_train.shape)\n",
    "print('Shape of data test tensor:', x_test.shape)"
   ]
  },
  {
   "cell_type": "code",
   "execution_count": 20,
   "metadata": {},
   "outputs": [],
   "source": [
    "y_train = y_train.map({\"NOTISSUE\": 1, \"ISSUE\" : 0 })\n",
    "y_test = y_test.map({\"NOTISSUE\": 1, \"ISSUE\" : 0 })"
   ]
  },
  {
   "cell_type": "code",
   "execution_count": 21,
   "metadata": {},
   "outputs": [
    {
     "name": "stdout",
     "output_type": "stream",
     "text": [
      "Loaded 400000 word vectors.\n"
     ]
    }
   ],
   "source": [
    "# load the whole embedding into memory\n",
    "embeddings_index = {}\n",
    "f = open('C:/Users/khmar/Desktop/GLOVE/glove.6B.300d.txt', encoding=\"utf8\")\n",
    "for line in f:\n",
    "    values = line.split()\n",
    "    word = values[0]\n",
    "    coefs = np.asarray(values[1:], dtype='float32')\n",
    "    embeddings_index[word] = coefs\n",
    "f.close()\n",
    "print('Loaded %s word vectors.' % len(embeddings_index))"
   ]
  },
  {
   "cell_type": "code",
   "execution_count": 22,
   "metadata": {},
   "outputs": [],
   "source": [
    "embedding_matrix = np.zeros((len(word_index) + 1, 300))\n",
    "#Found 1489 unique tokens : word_index\n",
    "#print(len(word_index) + 1) #### 1490 \n",
    "#print(word_index.items()) ### unique tokens : words :word_index\n",
    "#print('embedding_matrix',embedding_matrix)\n",
    "out_of_vocab={}\n",
    "for word, i in word_index.items():\n",
    "    #print(i)\n",
    "    embedding_vector = embeddings_index.get(word)\n",
    "    #print('embedding_vector' ,embedding_vector )\n",
    "    if embedding_vector is not None:\n",
    "        # words not found in embedding index will be all-zeros.\n",
    "        #print('word: ', word)\n",
    "        embedding_matrix[i] = embedding_vector\n",
    "        #print('embedding_matrix :',embedding_matrix[i] )\n",
    "        # words not found in embedding index will be all-zeros.\n",
    "    if embedding_vector is  None:\n",
    "        #print('word not found :',word)\n",
    "        out_of_vocab[i] = word\n",
    "            "
   ]
  },
  {
   "cell_type": "code",
   "execution_count": 23,
   "metadata": {},
   "outputs": [
    {
     "data": {
      "text/plain": [
       "'There are 252 out of vocab '"
      ]
     },
     "execution_count": 23,
     "metadata": {},
     "output_type": "execute_result"
    }
   ],
   "source": [
    "f'There are {len(out_of_vocab)} out of vocab '"
   ]
  },
  {
   "cell_type": "code",
   "execution_count": 24,
   "metadata": {},
   "outputs": [
    {
     "name": "stdout",
     "output_type": "stream",
     "text": [
      "WARNING:tensorflow:From C:\\Users\\khmar\\ana\\lib\\site-packages\\tensorflow\\python\\framework\\op_def_library.py:263: colocate_with (from tensorflow.python.framework.ops) is deprecated and will be removed in a future version.\n",
      "Instructions for updating:\n",
      "Colocations handled automatically by placer.\n",
      "WARNING:tensorflow:From C:\\Users\\khmar\\ana\\lib\\site-packages\\keras\\backend\\tensorflow_backend.py:3445: calling dropout (from tensorflow.python.ops.nn_ops) with keep_prob is deprecated and will be removed in a future version.\n",
      "Instructions for updating:\n",
      "Please use `rate` instead of `keep_prob`. Rate should be set to `rate = 1 - keep_prob`.\n"
     ]
    }
   ],
   "source": [
    "model_glove= Sequential()\n",
    "model_glove.add(Embedding(len(word_index) + 1,\n",
    "                            300,\n",
    "                            weights=[embedding_matrix],\n",
    "                            input_length=MAX_SEQUENCE_LENGTH,\n",
    "                            trainable=False))\n",
    "model_glove.add(LSTM(128, dropout=0.2, recurrent_dropout=0.2,input_shape=(1,)))\n",
    "model_glove.add(Dense(1, activation='sigmoid'))"
   ]
  },
  {
   "cell_type": "code",
   "execution_count": 25,
   "metadata": {},
   "outputs": [],
   "source": [
    "model_glove.compile(loss='binary_crossentropy',\n",
    "              optimizer='adam',\n",
    "              metrics=['accuracy'])"
   ]
  },
  {
   "cell_type": "code",
   "execution_count": 26,
   "metadata": {},
   "outputs": [
    {
     "name": "stdout",
     "output_type": "stream",
     "text": [
      "WARNING:tensorflow:From C:\\Users\\khmar\\ana\\lib\\site-packages\\tensorflow\\python\\ops\\math_ops.py:3066: to_int32 (from tensorflow.python.ops.math_ops) is deprecated and will be removed in a future version.\n",
      "Instructions for updating:\n",
      "Use tf.cast instead.\n",
      "Train on 2870 samples, validate on 1185 samples\n",
      "Epoch 1/2\n",
      "2870/2870 [==============================] - 36s 13ms/step - loss: 0.5633 - acc: 0.7105 - val_loss: 0.5039 - val_acc: 0.7620\n",
      "Epoch 2/2\n",
      "2870/2870 [==============================] - 30s 11ms/step - loss: 0.4364 - acc: 0.8098 - val_loss: 0.4411 - val_acc: 0.7949\n"
     ]
    },
    {
     "data": {
      "text/plain": [
       "<keras.callbacks.History at 0x1b33d973208>"
      ]
     },
     "execution_count": 26,
     "metadata": {},
     "output_type": "execute_result"
    }
   ],
   "source": [
    "model_glove.fit(data, y_train,\n",
    "          batch_size=batch_size,\n",
    "          epochs=2,\n",
    "          validation_data=(test_data, y_test))"
   ]
  },
  {
   "cell_type": "code",
   "execution_count": 54,
   "metadata": {},
   "outputs": [
    {
     "name": "stdout",
     "output_type": "stream",
     "text": [
      "1236/1236 [==============================] - 3s 2ms/step\n",
      "loss: 45.20%\n",
      "acc: 79.21%\n"
     ]
    }
   ],
   "source": [
    "scores = model_glove.evaluate(x_test, y_test,\n",
    "                            batch_size=batch_size)\n",
    "print(\"%s: %.2f%%\" % (model_glove.metrics_names[0], scores[0] * 100))\n",
    "print(\"%s: %.2f%%\" % (model_glove.metrics_names[1], scores[1] * 100))"
   ]
  },
  {
   "cell_type": "code",
   "execution_count": 36,
   "metadata": {},
   "outputs": [],
   "source": [
    "#file_tok = 'C:/Users/khmar/model_file/LSTM_token_glove_300d_DATA.sav'\n",
    "#pickle.dump(tokenizer, open(file_tok, 'wb'))"
   ]
  },
  {
   "cell_type": "code",
   "execution_count": 37,
   "metadata": {},
   "outputs": [],
   "source": [
    "# Save the model\n",
    "#model_glove.save('lstm_model_glove_300_DATA_without_text_processing.sav')"
   ]
  },
  {
   "cell_type": "markdown",
   "metadata": {},
   "source": [
    "### Prediction"
   ]
  },
  {
   "cell_type": "code",
   "execution_count": 111,
   "metadata": {},
   "outputs": [],
   "source": [
    "#import pickle\n",
    "#model_file='lstm_model_glove_300_DATA_without_text_processing.sav'\n",
    "#token_file='C:/Users/khmar/model_file/LSTM_token_glove_300d_DATA.sav'\n",
    "#model = pickle.load(open(model_file,'rb'))\n",
    "#token = pickle.load(open(token_file,'rb'))\n",
    "\n",
    "#import numpy as np \n",
    "#from keras.models import load_model # To save and load model\n",
    "\n",
    "# Load the model\n",
    "#my_model = load_model(model_file)\n",
    "#my_model= model_glove"
   ]
  },
  {
   "cell_type": "code",
   "execution_count": null,
   "metadata": {},
   "outputs": [],
   "source": [
    "def prediction(input_file,output_file,model,token):\n",
    "    df= pd.DataFrame(columns=['label', 'text'])\n",
    "    data = pd.read_csv(input_file,delimiter=';')\n",
    "    inputt=data.text\n",
    "    x_input = inputt.values\n",
    "    for i in x_input:\n",
    "        seq = tokenizer.texts_to_sequences(i)\n",
    "        seqs = pad_sequences(seq, maxlen=MAX_SEQUENCE_LENGTH)\n",
    "        yhat = model_glove.predict(seqs)\n",
    "        class_pred = model_glove.predict_classes(seqs)\n",
    "        classe1 = prediction_classe1(class_pred[0])\n",
    "        df=df.append({'label':classe1,'text':i},ignore_index=True)\n",
    "    df.to_csv(output_file,sep=';')\n",
    "    return data,df"
   ]
  },
  {
   "cell_type": "code",
   "execution_count": null,
   "metadata": {},
   "outputs": [],
   "source": [
    "def prediction_classe1(class_pred):\n",
    "    if class_pred == 1:\n",
    "        x = 'ISSUE'\n",
    "    if class_pred== 0:\n",
    "        x = 'NOTISSUE'\n",
    "    return x"
   ]
  },
  {
   "cell_type": "code",
   "execution_count": 48,
   "metadata": {},
   "outputs": [],
   "source": [
    "def prediction_classe(prob):\n",
    "    x=\"\"\n",
    "    if prob > 0.5:\n",
    "          x = 'NOTISSUE'\n",
    "    if prob <= 0.7:\n",
    "          x = 'ISSUE'\n",
    "    return x"
   ]
  },
  {
   "cell_type": "code",
   "execution_count": 49,
   "metadata": {},
   "outputs": [],
   "source": [
    "#seq= tokenizer.texts_to_sequences(\"mediocre product\")\n",
    "#seqs = pad_sequences(seq, maxlen=MAX_SEQUENCE_LENGTH)\n",
    "#class_pred = model_glove.predict_classes(seqs)\n",
    "#print(class_pred)\n",
    "#y = model_glove.predict(seqs)\n",
    "#print(y)\n",
    "#classe1 = prediction_classe1(class_pred[0][0])\n",
    "#print(class_pred[0])\n",
    "#print(classe1)"
   ]
  },
  {
   "cell_type": "code",
   "execution_count": 50,
   "metadata": {},
   "outputs": [],
   "source": [
    "## prediction of one word"
   ]
  },
  {
   "cell_type": "code",
   "execution_count": 51,
   "metadata": {},
   "outputs": [],
   "source": [
    "#token = tokenizer\n",
    "#seq= token.texts_to_sequences(\"good service\")\n",
    "#seqs = pad_sequences(seq, maxlen=MAX_SEQUENCE_LENGTH)\n",
    "#y = model_glove.predict(seqs)\n",
    "#class_pred = model_glove.predict_classes(seqs)\n",
    "#print(prediction_classe(y[0]))"
   ]
  },
  {
   "cell_type": "code",
   "execution_count": 84,
   "metadata": {},
   "outputs": [],
   "source": [
    "def prediction_classe2(prediction):\n",
    "    x=\"\"\n",
    "    if prediction > 0.6:\n",
    "          x = 'NOTISSUE'\n",
    "    else :\n",
    "          x = 'ISSUE'\n",
    "    return x"
   ]
  },
  {
   "cell_type": "code",
   "execution_count": 85,
   "metadata": {},
   "outputs": [
    {
     "data": {
      "text/plain": [
       "'NOTISSUE'"
      ]
     },
     "execution_count": 85,
     "metadata": {},
     "output_type": "execute_result"
    }
   ],
   "source": [
    "text = np.array(['good movie'])\n",
    "#sequences = tokenizer.texts_to_sequences(text)\n",
    "#sequences_matrix = pad_sequences(sequences,maxlen=num_max)\n",
    "seq= tokenizer.texts_to_sequences(text)\n",
    "sequences_matrix = pad_sequences(seq, maxlen=MAX_SEQUENCE_LENGTH)\n",
    "prediction =model_glove.predict(sequences_matrix)\n",
    "prediction_classe2(prediction)"
   ]
  },
  {
   "cell_type": "code",
   "execution_count": 86,
   "metadata": {},
   "outputs": [],
   "source": [
    "### prediction of all data"
   ]
  },
  {
   "cell_type": "code",
   "execution_count": 87,
   "metadata": {},
   "outputs": [],
   "source": [
    "def prediction2(input_file,output_file):\n",
    "    df= pd.DataFrame(columns=['label', 'text'])\n",
    "    data = pd.read_csv(input_file,delimiter=';')\n",
    "    inputt=data.text\n",
    "    x_input = inputt.values\n",
    "    for i in x_input:\n",
    "        text = np.array(i)\n",
    "        seq= tokenizer.texts_to_sequences(str(text))\n",
    "        sequences_matrix = pad_sequences(seq, maxlen=MAX_SEQUENCE_LENGTH)\n",
    "        prediction =model_glove.predict(sequences_matrix)\n",
    "        pred_l=prediction_classe2(prediction[0][0])\n",
    "        df=df.append({'text':i,'label':pred_l},ignore_index=True)\n",
    "    df.to_csv(output_file,sep=';')\n",
    "    return data,df"
   ]
  },
  {
   "cell_type": "code",
   "execution_count": 88,
   "metadata": {},
   "outputs": [
    {
     "data": {
      "text/plain": [
       "(                                                   text     label\n",
       " 0     I had ordered a data cable, got a very well fi...  NOTISSUE\n",
       " 1                                      Love This Phone.  NOTISSUE\n",
       " 2                   I get a very well finished product.  NOTISSUE\n",
       " 3                               I could not be happier.  NOTISSUE\n",
       " 4     I was looking for this headset for a long time...  NOTISSUE\n",
       " 5              my headset starts ringing for no reason.     ISSUE\n",
       " 6     Display is excellent and camera is as good as ...  NOTISSUE\n",
       " 7                           Battery life is also great!  NOTISSUE\n",
       " 8     The worst phone I have ever had.... Only had i...     ISSUE\n",
       " 9     Not a good item.. It worked for a while then s...     ISSUE\n",
       " 10    This is so embarassing and also my ears hurt i...     ISSUE\n",
       " 11                     Protects the phone on all sides.  NOTISSUE\n",
       " 12    This is a VERY average phone with bad battery ...     ISSUE\n",
       " 13    Clear Skype Calls, Long Battery Life, Long Range.  NOTISSUE\n",
       " 14                               Soyo technology sucks.     ISSUE\n",
       " 15                             Great Hands Free Device.  NOTISSUE\n",
       " 16    you can even take self portraits with the outs...  NOTISSUE\n",
       " 17               Same problem as others have mentioned.     ISSUE\n",
       " 18    After trying many many handsfree gadgets this ...  NOTISSUE\n",
       " 19                                        Magical Help.  NOTISSUE\n",
       " 20    The worst piece of crap ever along with the Ve...     ISSUE\n",
       " 21                                  Poor sound quality.     ISSUE\n",
       " 22                         The best phone in market :).  NOTISSUE\n",
       " 23                                 It worked very well.  NOTISSUE\n",
       " 24    The company shipped my product very promptly a...  NOTISSUE\n",
       " 25                               Exactly what I wanted.  NOTISSUE\n",
       " 26    The picture resolution is far below what other...     ISSUE\n",
       " 27                                This is a great deal.  NOTISSUE\n",
       " 28    Excellent product, I am very satisfied with th...  NOTISSUE\n",
       " 29    I highly recommend these and encourage people ...  NOTISSUE\n",
       " ...                                                 ...       ...\n",
       " 4025       The flair bartenders are absolutely amazing!  NOTISSUE\n",
       " 4026  Their frozen margaritas are WAY too sugary for...     ISSUE\n",
       " 4027          These were so good we ordered them twice.  NOTISSUE\n",
       " 4028  So in a nutshell: 1) The restaraunt smells lik...     ISSUE\n",
       " 4029                My girlfriend is veal was very bad.     ISSUE\n",
       " 4030                    Unfortunately, it was not good.     ISSUE\n",
       " 4031               I had a pretty satifying experience.  NOTISSUE\n",
       " 4032    Join the club and get awesome offers via email.  NOTISSUE\n",
       " 4033  Perfect for someone (me) who only likes beer i...  NOTISSUE\n",
       " 4034  Bland and flavorless is a good way of describi...     ISSUE\n",
       " 4035  The chains, which I am no fan of, beat this pl...     ISSUE\n",
       " 4036                        The nachos are a MUST HAVE!  NOTISSUE\n",
       " 4037                        We will not be coming back.     ISSUE\n",
       " 4038  I do nothave very many words to say about this...  NOTISSUE\n",
       " 4039  The staff is super nice and very quick even wi...  NOTISSUE\n",
       " 4040       Great atmosphere, friendly and fast service.  NOTISSUE\n",
       " 4041  When I received my Pita it was huge it did hav...  NOTISSUE\n",
       " 4042                  Once your food arrives it is meh.     ISSUE\n",
       " 4043  Paying $7.85 for a hot dog and fries that look...     ISSUE\n",
       " 4044      The classic Maine Lobster Roll was fantastic.  NOTISSUE\n",
       " 4045  My brother in law who works at the mall ate he...     ISSUE\n",
       " 4046  So good I am going to have to review this plac...  NOTISSUE\n",
       " 4047  The chips and salsa were really good, the sals...  NOTISSUE\n",
       " 4048                  This place is great!!!!!!!!!!!!!!  NOTISSUE\n",
       " 4049                                     Mediocre food.     ISSUE\n",
       " 4050  Once you get inside you will be impressed with...  NOTISSUE\n",
       " 4051                    And service was super friendly.  NOTISSUE\n",
       " 4052  Why are these sad little vegetables so overcoo...     ISSUE\n",
       " 4053               This place was such a nice surprise!  NOTISSUE\n",
       " 4054                     The live music  totally blows.  NOTISSUE\n",
       " \n",
       " [4055 rows x 2 columns],\n",
       "       label                                               text\n",
       " 0     ISSUE  I had ordered a data cable, got a very well fi...\n",
       " 1     ISSUE                                   Love This Phone.\n",
       " 2     ISSUE                I get a very well finished product.\n",
       " 3     ISSUE                            I could not be happier.\n",
       " 4     ISSUE  I was looking for this headset for a long time...\n",
       " 5     ISSUE           my headset starts ringing for no reason.\n",
       " 6     ISSUE  Display is excellent and camera is as good as ...\n",
       " 7     ISSUE                        Battery life is also great!\n",
       " 8     ISSUE  The worst phone I have ever had.... Only had i...\n",
       " 9     ISSUE  Not a good item.. It worked for a while then s...\n",
       " 10    ISSUE  This is so embarassing and also my ears hurt i...\n",
       " 11    ISSUE                   Protects the phone on all sides.\n",
       " 12    ISSUE  This is a VERY average phone with bad battery ...\n",
       " 13    ISSUE  Clear Skype Calls, Long Battery Life, Long Range.\n",
       " 14    ISSUE                             Soyo technology sucks.\n",
       " 15    ISSUE                           Great Hands Free Device.\n",
       " 16    ISSUE  you can even take self portraits with the outs...\n",
       " 17    ISSUE             Same problem as others have mentioned.\n",
       " 18    ISSUE  After trying many many handsfree gadgets this ...\n",
       " 19    ISSUE                                      Magical Help.\n",
       " 20    ISSUE  The worst piece of crap ever along with the Ve...\n",
       " 21    ISSUE                                Poor sound quality.\n",
       " 22    ISSUE                       The best phone in market :).\n",
       " 23    ISSUE                               It worked very well.\n",
       " 24    ISSUE  The company shipped my product very promptly a...\n",
       " 25    ISSUE                             Exactly what I wanted.\n",
       " 26    ISSUE  The picture resolution is far below what other...\n",
       " 27    ISSUE                              This is a great deal.\n",
       " 28    ISSUE  Excellent product, I am very satisfied with th...\n",
       " 29    ISSUE  I highly recommend these and encourage people ...\n",
       " ...     ...                                                ...\n",
       " 4025  ISSUE       The flair bartenders are absolutely amazing!\n",
       " 4026  ISSUE  Their frozen margaritas are WAY too sugary for...\n",
       " 4027  ISSUE          These were so good we ordered them twice.\n",
       " 4028  ISSUE  So in a nutshell: 1) The restaraunt smells lik...\n",
       " 4029  ISSUE                My girlfriend is veal was very bad.\n",
       " 4030  ISSUE                    Unfortunately, it was not good.\n",
       " 4031  ISSUE               I had a pretty satifying experience.\n",
       " 4032  ISSUE    Join the club and get awesome offers via email.\n",
       " 4033  ISSUE  Perfect for someone (me) who only likes beer i...\n",
       " 4034  ISSUE  Bland and flavorless is a good way of describi...\n",
       " 4035  ISSUE  The chains, which I am no fan of, beat this pl...\n",
       " 4036  ISSUE                        The nachos are a MUST HAVE!\n",
       " 4037  ISSUE                        We will not be coming back.\n",
       " 4038  ISSUE  I do nothave very many words to say about this...\n",
       " 4039  ISSUE  The staff is super nice and very quick even wi...\n",
       " 4040  ISSUE       Great atmosphere, friendly and fast service.\n",
       " 4041  ISSUE  When I received my Pita it was huge it did hav...\n",
       " 4042  ISSUE                  Once your food arrives it is meh.\n",
       " 4043  ISSUE  Paying $7.85 for a hot dog and fries that look...\n",
       " 4044  ISSUE      The classic Maine Lobster Roll was fantastic.\n",
       " 4045  ISSUE  My brother in law who works at the mall ate he...\n",
       " 4046  ISSUE  So good I am going to have to review this plac...\n",
       " 4047  ISSUE  The chips and salsa were really good, the sals...\n",
       " 4048  ISSUE                  This place is great!!!!!!!!!!!!!!\n",
       " 4049  ISSUE                                     Mediocre food.\n",
       " 4050  ISSUE  Once you get inside you will be impressed with...\n",
       " 4051  ISSUE                    And service was super friendly.\n",
       " 4052  ISSUE  Why are these sad little vegetables so overcoo...\n",
       " 4053  ISSUE               This place was such a nice surprise!\n",
       " 4054  ISSUE                     The live music  totally blows.\n",
       " \n",
       " [4055 rows x 2 columns])"
      ]
     },
     "execution_count": 88,
     "metadata": {},
     "output_type": "execute_result"
    }
   ],
   "source": [
    "input_file ='C:/Users/khmar/Desktop/ISSUE/dataset/CSV/data_ameliorate/data.csv'\n",
    "output_file ='C:/Users/khmar/Desktop/ISSUE/dataset/CSV/LSTM_pred_glove_300.csv'\n",
    "prediction2(input_file,output_file)"
   ]
  },
  {
   "cell_type": "code",
   "execution_count": 89,
   "metadata": {},
   "outputs": [
    {
     "name": "stdout",
     "output_type": "stream",
     "text": [
      "                                                text     label\n",
      "0  I had ordered a data cable, got a very well fi...  NOTISSUE\n",
      "1                                   Love This Phone.  NOTISSUE\n",
      "2                I get a very well finished product.  NOTISSUE\n",
      "3                            I could not be happier.  NOTISSUE\n",
      "4  I was looking for this headset for a long time...  NOTISSUE\n"
     ]
    }
   ],
   "source": [
    "data_predict= pd.read_csv(output_file ,delimiter=';',encoding='latin-1')\n",
    "print(df.head())"
   ]
  },
  {
   "cell_type": "code",
   "execution_count": 90,
   "metadata": {},
   "outputs": [
    {
     "data": {
      "text/plain": [
       "ISSUE    4055\n",
       "Name: label, dtype: int64"
      ]
     },
     "execution_count": 90,
     "metadata": {},
     "output_type": "execute_result"
    }
   ],
   "source": [
    "data_predict['label'].value_counts() #"
   ]
  },
  {
   "cell_type": "code",
   "execution_count": 91,
   "metadata": {},
   "outputs": [],
   "source": [
    "### confessin matrix"
   ]
  },
  {
   "cell_type": "code",
   "execution_count": 92,
   "metadata": {},
   "outputs": [
    {
     "name": "stdout",
     "output_type": "stream",
     "text": [
      "[[2025    0]\n",
      " [2030    0]]\n"
     ]
    }
   ],
   "source": [
    "from sklearn.metrics import confusion_matrix\n",
    "cm=confusion_matrix(df.label,data_predict.label)\n",
    "print(cm)"
   ]
  },
  {
   "cell_type": "code",
   "execution_count": 61,
   "metadata": {},
   "outputs": [
    {
     "name": "stdout",
     "output_type": "stream",
     "text": [
      "[[1307  718]\n",
      " [1290  740]]\n"
     ]
    }
   ],
   "source": [
    "from sklearn.metrics import confusion_matrix\n",
    "cm=confusion_matrix(df.label,data_predict.label)\n",
    "print(cm)"
   ]
  },
  {
   "cell_type": "code",
   "execution_count": 64,
   "metadata": {},
   "outputs": [],
   "source": [
    "from sklearn.metrics import confusion_matrix\n",
    "import matplotlib.pyplot as plt\n",
    "import itertools\n",
    "# This utility function is from the sklearn docs: http://scikit-learn.org/stable/auto_examples/model_selection/plot_confusion_matrix.html\n",
    "def plot_confusion_matrix(cm, classes,\n",
    "                          title='Confusion matrix',\n",
    "                          cmap=plt.cm.Blues):\n",
    "    \n",
    "    #This function prints and plots the confusion matrix.\n",
    "    #Normalization can be applied by setting `normalize=True`.\n",
    "\n",
    "    cm = cm.astype('float') / cm.sum(axis=1)[:, np.newaxis]\n",
    "\n",
    "    plt.imshow(cm, interpolation='nearest', cmap=cmap)\n",
    "    plt.title(title, fontsize=30)\n",
    "    plt.colorbar()\n",
    "    tick_marks = np.arange(len(classes))\n",
    "    plt.xticks(tick_marks, classes, rotation=45, fontsize=22)\n",
    "    plt.yticks(tick_marks, classes, fontsize=22)\n",
    "\n",
    "    fmt = '.2f'\n",
    "    thresh = cm.max() / 2.\n",
    "    for i, j in itertools.product(range(cm.shape[0]), range(cm.shape[1])):\n",
    "        plt.text(j, i, format(cm[i, j], fmt),\n",
    "                 horizontalalignment=\"center\",\n",
    "                 color=\"black\" if cm[i, j] > thresh else \"white\")\n",
    "\n",
    "    plt.ylabel('True label', fontsize=25)\n",
    "    plt.xlabel('Predicted label', fontsize=25)\n"
   ]
  },
  {
   "cell_type": "code",
   "execution_count": 65,
   "metadata": {},
   "outputs": [
    {
     "data": {
      "image/png": "[encoded data removed]",
      "text/plain": [
       "<Figure size 1728x1440 with 2 Axes>"
      ]
     },
     "metadata": {
      "needs_background": "light"
     },
     "output_type": "display_data"
    }
   ],
   "source": [
    "cnf_matrix = confusion_matrix(df.label, data_predict.label)\n",
    "plt.figure(figsize=(24,20))\n",
    "plot_confusion_matrix(cnf_matrix, classes=['ISSUE','NOTISSUE'], title=\"Confusion matrix\")\n",
    "plt.show()"
   ]
  },
  {
   "cell_type": "code",
   "execution_count": 67,
   "metadata": {},
   "outputs": [
    {
     "name": "stdout",
     "output_type": "stream",
     "text": [
      "[[1307  718]\n",
      " [1290  740]]\n"
     ]
    }
   ],
   "source": [
    "from sklearn.metrics import confusion_matrix\n",
    "cf = confusion_matrix(y_true = df.label, y_pred = data_predict.label)\n",
    "print(cf)"
   ]
  },
  {
   "cell_type": "code",
   "execution_count": 68,
   "metadata": {},
   "outputs": [],
   "source": [
    "#import json\n",
    "#print(json.dumps(cf.tolist(), indent=2))"
   ]
  },
  {
   "cell_type": "code",
   "execution_count": 75,
   "metadata": {},
   "outputs": [],
   "source": [
    "import seaborn as sns\n",
    "import matplotlib.pyplot as plt\n",
    "%matplotlib inline"
   ]
  },
  {
   "cell_type": "code",
   "execution_count": 76,
   "metadata": {},
   "outputs": [
    {
     "data": {
      "image/png": "[encoded data removed]",
      "text/plain": [
       "<Figure size 1440x720 with 2 Axes>"
      ]
     },
     "metadata": {
      "needs_background": "light"
     },
     "output_type": "display_data"
    }
   ],
   "source": [
    "plt.figure(figsize=(20,10))\n",
    "ax = sns.heatmap(cf, annot=True, fmt=\"d\",linewidths=.5, center = 90, vmax = 200)\n"
   ]
  },
  {
   "cell_type": "code",
   "execution_count": 72,
   "metadata": {},
   "outputs": [],
   "source": [
    "def false_pos_neg(input_file,output_file,falses_file):\n",
    "    diff= pd.DataFrame(columns=['true_label','pred_label', 'Text'])\n",
    "    data = pd.read_csv(input_file,delimiter=';')\n",
    "    data_pred = pd.read_csv(output_file,delimiter=';')\n",
    "    input1 = data.label\n",
    "    input2 = data_pred.label\n",
    "    x=data.text.values\n",
    "    x_input1 = input1.values\n",
    "    x_input2 = input2.values\n",
    "    for i in range(len(x_input1)):\n",
    "        if x_input1[i]!=x_input2[i]:\n",
    "            diff = diff.append({'true_label':x_input1[i],'pred_label':x_input2[i], 'Text':x[i]},ignore_index=True)\n",
    "    diff.to_csv(falses_file,sep=';')\n",
    "    return diff"
   ]
  },
  {
   "cell_type": "code",
   "execution_count": 73,
   "metadata": {},
   "outputs": [
    {
     "name": "stdout",
     "output_type": "stream",
     "text": [
      "     true_label pred_label                                               Text\n",
      "0      NOTISSUE      ISSUE                                   Love This Phone.\n",
      "1         ISSUE   NOTISSUE           my headset starts ringing for no reason.\n",
      "2      NOTISSUE      ISSUE  Display is excellent and camera is as good as ...\n",
      "3      NOTISSUE      ISSUE                   Protects the phone on all sides.\n",
      "4      NOTISSUE      ISSUE  Clear Skype Calls, Long Battery Life, Long Range.\n",
      "5      NOTISSUE      ISSUE                           Great Hands Free Device.\n",
      "6      NOTISSUE      ISSUE  you can even take self portraits with the outs...\n",
      "7      NOTISSUE      ISSUE  After trying many many handsfree gadgets this ...\n",
      "8      NOTISSUE      ISSUE                       The best phone in market :).\n",
      "9      NOTISSUE      ISSUE  The company shipped my product very promptly a...\n",
      "10     NOTISSUE      ISSUE                             Exactly what I wanted.\n",
      "11     NOTISSUE      ISSUE                              This is a great deal.\n",
      "12     NOTISSUE      ISSUE  Excellent product, I am very satisfied with th...\n",
      "13     NOTISSUE      ISSUE                           Great product and price.\n",
      "14     NOTISSUE      ISSUE  Sounds good reasonably priced and effective, I...\n",
      "15     NOTISSUE      ISSUE                   Excellent product for the price.\n",
      "16        ISSUE   NOTISSUE  It is so stupid to have to keep buying new cha...\n",
      "17     NOTISSUE      ISSUE                                       Works great.\n",
      "18     NOTISSUE      ISSUE                Plantronics Bluetooth Excelent Buy.\n",
      "19        ISSUE   NOTISSUE  I came over from Verizon because cingulair has...\n",
      "20     NOTISSUE      ISSUE                An Awesome New Look For Fall 2000!.\n",
      "21     NOTISSUE      ISSUE  This is the first phone I have had that has be...\n",
      "22     NOTISSUE      ISSUE                                 Price is good too.\n",
      "23     NOTISSUE      ISSUE                Do not make the same mistake I did.\n",
      "24        ISSUE   NOTISSUE  Oh and I forgot to also mention the weird colo...\n",
      "25     NOTISSUE      ISSUE  every thing on phone work perfectly, she like it.\n",
      "26        ISSUE   NOTISSUE  I wish I could return the unit and get back my...\n",
      "27     NOTISSUE      ISSUE                       Awsome Device Works Great!!.\n",
      "28        ISSUE   NOTISSUE  I used to talk on it for 1 - 1 1/2 hours and t...\n",
      "29        ISSUE   NOTISSUE                                   Very Displeased.\n",
      "...         ...        ...                                                ...\n",
      "1978   NOTISSUE      ISSUE  When I am on this side of town, this will defi...\n",
      "1979      ISSUE   NOTISSUE  I had to wait over 30 minutes to get my drink ...\n",
      "1980   NOTISSUE      ISSUE                      This is a GREAT place to eat!\n",
      "1981   NOTISSUE      ISSUE                  The jalapeno bacon is soooo good.\n",
      "1982   NOTISSUE      ISSUE                                  Prices were good.\n",
      "1983   NOTISSUE      ISSUE                                  Prices were good.\n",
      "1984   NOTISSUE      ISSUE                                  service was good.\n",
      "1985   NOTISSUE      ISSUE                             The block was amazing.\n",
      "1986      ISSUE   NOTISSUE  My sashimi was poor quality being soggy and ta...\n",
      "1987   NOTISSUE      ISSUE      Great time - family dinner on a Sunday night.\n",
      "1988   NOTISSUE      ISSUE       The flair bartenders are absolutely amazing!\n",
      "1989   NOTISSUE      ISSUE          These were so good we ordered them twice.\n",
      "1990      ISSUE   NOTISSUE                My girlfriend is veal was very bad.\n",
      "1991   NOTISSUE      ISSUE    Join the club and get awesome offers via email.\n",
      "1992   NOTISSUE      ISSUE  Perfect for someone (me) who only likes beer i...\n",
      "1993      ISSUE   NOTISSUE  Bland and flavorless is a good way of describi...\n",
      "1994   NOTISSUE      ISSUE                        The nachos are a MUST HAVE!\n",
      "1995   NOTISSUE      ISSUE  The staff is super nice and very quick even wi...\n",
      "1996   NOTISSUE      ISSUE       Great atmosphere, friendly and fast service.\n",
      "1997   NOTISSUE      ISSUE  When I received my Pita it was huge it did hav...\n",
      "1998      ISSUE   NOTISSUE                  Once your food arrives it is meh.\n",
      "1999   NOTISSUE      ISSUE      The classic Maine Lobster Roll was fantastic.\n",
      "2000      ISSUE   NOTISSUE  My brother in law who works at the mall ate he...\n",
      "2001   NOTISSUE      ISSUE  So good I am going to have to review this plac...\n",
      "2002   NOTISSUE      ISSUE  The chips and salsa were really good, the sals...\n",
      "2003   NOTISSUE      ISSUE                  This place is great!!!!!!!!!!!!!!\n",
      "2004      ISSUE   NOTISSUE                                     Mediocre food.\n",
      "2005   NOTISSUE      ISSUE                    And service was super friendly.\n",
      "2006   NOTISSUE      ISSUE               This place was such a nice surprise!\n",
      "2007   NOTISSUE      ISSUE                     The live music  totally blows.\n",
      "\n",
      "[2008 rows x 3 columns]\n"
     ]
    }
   ],
   "source": [
    "falses_file='C:/Users/khmar/Desktop/ISSUE/dataset/CSV/data_ameliorate/false_pred_glove_300.csv'\n",
    "diff=false_pos_neg(input_file,output_file,falses_file)\n",
    "print(diff)\n"
   ]
  },
  {
   "cell_type": "code",
   "execution_count": 74,
   "metadata": {},
   "outputs": [
    {
     "ename": "ValueError",
     "evalue": "Classification metrics can't handle a mix of binary and continuous targets",
     "output_type": "error",
     "traceback": [
      "\u001b[1;31m---------------------------------------------------------------------------\u001b[0m",
      "\u001b[1;31mValueError\u001b[0m                                Traceback (most recent call last)",
      "\u001b[1;32m<ipython-input-74-0fbd4d91d011>\u001b[0m in \u001b[0;36m<module>\u001b[1;34m\u001b[0m\n\u001b[0;32m      1\u001b[0m \u001b[1;32mfrom\u001b[0m \u001b[0msklearn\u001b[0m\u001b[1;33m.\u001b[0m\u001b[0mmetrics\u001b[0m \u001b[1;32mimport\u001b[0m \u001b[0mconfusion_matrix\u001b[0m\u001b[1;33m,\u001b[0m\u001b[0mclassification_report\u001b[0m\u001b[1;33m\u001b[0m\u001b[1;33m\u001b[0m\u001b[0m\n\u001b[1;32m----> 2\u001b[1;33m \u001b[0mprint\u001b[0m\u001b[1;33m(\u001b[0m\u001b[1;34m'\\n*Classification LSTM glove 300:\\n'\u001b[0m\u001b[1;33m,\u001b[0m \u001b[0mclassification_report\u001b[0m\u001b[1;33m(\u001b[0m\u001b[0my_test\u001b[0m\u001b[1;33m,\u001b[0m \u001b[0mmodel_glove\u001b[0m\u001b[1;33m.\u001b[0m\u001b[0mpredict\u001b[0m\u001b[1;33m(\u001b[0m\u001b[0mx_test\u001b[0m\u001b[1;33m)\u001b[0m\u001b[1;33m)\u001b[0m\u001b[1;33m)\u001b[0m\u001b[1;33m\u001b[0m\u001b[1;33m\u001b[0m\u001b[0m\n\u001b[0m",
      "\u001b[1;32m~\\ana\\lib\\site-packages\\sklearn\\metrics\\classification.py\u001b[0m in \u001b[0;36mclassification_report\u001b[1;34m(y_true, y_pred, labels, target_names, sample_weight, digits, output_dict)\u001b[0m\n\u001b[0;32m   1522\u001b[0m     \"\"\"\n\u001b[0;32m   1523\u001b[0m \u001b[1;33m\u001b[0m\u001b[0m\n\u001b[1;32m-> 1524\u001b[1;33m     \u001b[0my_type\u001b[0m\u001b[1;33m,\u001b[0m \u001b[0my_true\u001b[0m\u001b[1;33m,\u001b[0m \u001b[0my_pred\u001b[0m \u001b[1;33m=\u001b[0m \u001b[0m_check_targets\u001b[0m\u001b[1;33m(\u001b[0m\u001b[0my_true\u001b[0m\u001b[1;33m,\u001b[0m \u001b[0my_pred\u001b[0m\u001b[1;33m)\u001b[0m\u001b[1;33m\u001b[0m\u001b[1;33m\u001b[0m\u001b[0m\n\u001b[0m\u001b[0;32m   1525\u001b[0m \u001b[1;33m\u001b[0m\u001b[0m\n\u001b[0;32m   1526\u001b[0m     \u001b[0mlabels_given\u001b[0m \u001b[1;33m=\u001b[0m \u001b[1;32mTrue\u001b[0m\u001b[1;33m\u001b[0m\u001b[1;33m\u001b[0m\u001b[0m\n",
      "\u001b[1;32m~\\ana\\lib\\site-packages\\sklearn\\metrics\\classification.py\u001b[0m in \u001b[0;36m_check_targets\u001b[1;34m(y_true, y_pred)\u001b[0m\n\u001b[0;32m     79\u001b[0m     \u001b[1;32mif\u001b[0m \u001b[0mlen\u001b[0m\u001b[1;33m(\u001b[0m\u001b[0my_type\u001b[0m\u001b[1;33m)\u001b[0m \u001b[1;33m>\u001b[0m \u001b[1;36m1\u001b[0m\u001b[1;33m:\u001b[0m\u001b[1;33m\u001b[0m\u001b[1;33m\u001b[0m\u001b[0m\n\u001b[0;32m     80\u001b[0m         raise ValueError(\"Classification metrics can't handle a mix of {0} \"\n\u001b[1;32m---> 81\u001b[1;33m                          \"and {1} targets\".format(type_true, type_pred))\n\u001b[0m\u001b[0;32m     82\u001b[0m \u001b[1;33m\u001b[0m\u001b[0m\n\u001b[0;32m     83\u001b[0m     \u001b[1;31m# We can't have more than one value on y_type => The set is no more needed\u001b[0m\u001b[1;33m\u001b[0m\u001b[1;33m\u001b[0m\u001b[1;33m\u001b[0m\u001b[0m\n",
      "\u001b[1;31mValueError\u001b[0m: Classification metrics can't handle a mix of binary and continuous targets"
     ]
    }
   ],
   "source": [
    "#from sklearn.metrics import confusion_matrix,classification_report\n",
    "#print('\\n*Classification LSTM glove 300:\\n', classification_report(y_test, model_glove.prediction2(x_test)))"
   ]
  },
  {
   "cell_type": "code",
   "execution_count": null,
   "metadata": {},
   "outputs": [],
   "source": [
    "from sklearn.metrics import classification_report, accuracy_score\n",
    "\n",
    "print('accuracy %s' % accuracy_score(data_predict.label, df.label))\n",
    "print(classification_report(df.label, data_predict.label,target_names=['ISSUE','NOTISSUE']))"
   ]
  },
  {
   "cell_type": "code",
   "execution_count": null,
   "metadata": {},
   "outputs": [],
   "source": []
  }
 ],
 "metadata": {
  "kernelspec": {
   "display_name": "Python 3",
   "language": "python",
   "name": "python3"
  },
  "language_info": {
   "codemirror_mode": {
    "name": "ipython",
    "version": 3
   },
   "file_extension": ".py",
   "mimetype": "text/x-python",
   "name": "python",
   "nbconvert_exporter": "python",
   "pygments_lexer": "ipython3",
   "version": "3.6.8"
  }
 },
 "nbformat": 4,
 "nbformat_minor": 2
}
