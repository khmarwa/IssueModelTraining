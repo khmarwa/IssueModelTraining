{
 "cells": [
  {
   "cell_type": "code",
   "execution_count": 1,
   "metadata": {},
   "outputs": [
    {
     "name": "stderr",
     "output_type": "stream",
     "text": [
      "Using TensorFlow backend.\n"
     ]
    },
    {
     "name": "stdout",
     "output_type": "stream",
     "text": [
      "import done\n"
     ]
    }
   ],
   "source": [
    "import os\n",
    "import pandas as pd\n",
    "import numpy as np\n",
    "import warnings\n",
    "warnings.filterwarnings('ignore')\n",
    "from keras.preprocessing.text import Tokenizer\n",
    "from keras.preprocessing.sequence import pad_sequences\n",
    "from keras.models import Sequential\n",
    "from keras.layers import Dense, Embedding, LSTM\n",
    "from keras.utils.np_utils import to_categorical\n",
    "from keras.callbacks import ModelCheckpoint\n",
    "from keras.models import load_model\n",
    "from keras.optimizers import Adam\n",
    "import pickle\n",
    "print(\"import done\")"
   ]
  },
  {
   "cell_type": "code",
   "execution_count": 2,
   "metadata": {},
   "outputs": [],
   "source": [
    "#https://github.com/debadridtt/A-Review-of-Different-Word-Embeddings-for-Sentiment-Classification-using-Deep-Learning/blob/master/LSTM%20Experiment.ipynb"
   ]
  },
  {
   "cell_type": "code",
   "execution_count": 3,
   "metadata": {},
   "outputs": [
    {
     "name": "stdout",
     "output_type": "stream",
     "text": [
      "                                                text     label\n",
      "0  I had ordered a data cable, got a very well fi...  NOTISSUE\n",
      "1                                   Love This Phone.  NOTISSUE\n",
      "2                I get a very well finished product.  NOTISSUE\n",
      "3                            I could not be happier.  NOTISSUE\n",
      "4  I was looking for this headset for a long time...  NOTISSUE\n"
     ]
    }
   ],
   "source": [
    "DATA_FILE = 'C:/Users/khmar/Desktop/ISSUE/dataset/CSV/data_ameliorate/data.csv'\n",
    "df = pd.read_csv(DATA_FILE,delimiter=';',encoding='UTF-8')\n",
    "print(df.head())"
   ]
  },
  {
   "cell_type": "code",
   "execution_count": 4,
   "metadata": {},
   "outputs": [
    {
     "data": {
      "text/plain": [
       "NOTISSUE    2030\n",
       "ISSUE       2025\n",
       "Name: label, dtype: int64"
      ]
     },
     "execution_count": 4,
     "metadata": {},
     "output_type": "execute_result"
    }
   ],
   "source": [
    "df['label'].value_counts() #imbalanced Dataset\n"
   ]
  },
  {
   "cell_type": "code",
   "execution_count": 5,
   "metadata": {},
   "outputs": [
    {
     "data": {
      "text/plain": [
       "(4055, 2)"
      ]
     },
     "execution_count": 5,
     "metadata": {},
     "output_type": "execute_result"
    }
   ],
   "source": [
    "df.shape"
   ]
  },
  {
   "cell_type": "code",
   "execution_count": 6,
   "metadata": {},
   "outputs": [],
   "source": [
    "msk = np.random.rand(len(df)) < 0.7 # Splitting into train(70%) and test(30%) randomly"
   ]
  },
  {
   "cell_type": "code",
   "execution_count": 7,
   "metadata": {},
   "outputs": [],
   "source": [
    "train_df=df[msk]\n",
    "test_df=df[~msk]"
   ]
  },
  {
   "cell_type": "code",
   "execution_count": 8,
   "metadata": {},
   "outputs": [
    {
     "name": "stdout",
     "output_type": "stream",
     "text": [
      "(2842, 2)\n",
      "(1213, 2)\n"
     ]
    }
   ],
   "source": [
    "print(train_df.shape)\n",
    "print(test_df.shape)"
   ]
  },
  {
   "cell_type": "code",
   "execution_count": 9,
   "metadata": {},
   "outputs": [
    {
     "name": "stdout",
     "output_type": "stream",
     "text": [
      "Checking target values for train data:\n",
      "\n",
      "ISSUE       1438\n",
      "NOTISSUE    1404\n",
      "Name: label, dtype: int64 \n",
      "\n",
      "Checking target values for test data:\n",
      "\n",
      "NOTISSUE    626\n",
      "ISSUE       587\n",
      "Name: label, dtype: int64\n"
     ]
    }
   ],
   "source": [
    "print('Checking target values for train data:\\n')\n",
    "print(train_df['label'].value_counts(),'\\n')\n",
    "print('Checking target values for test data:\\n')\n",
    "print(test_df['label'].value_counts())"
   ]
  },
  {
   "cell_type": "code",
   "execution_count": 10,
   "metadata": {},
   "outputs": [
    {
     "data": {
      "text/plain": [
       "ISSUE       1438\n",
       "NOTISSUE    1404\n",
       "Name: label, dtype: int64"
      ]
     },
     "execution_count": 10,
     "metadata": {},
     "output_type": "execute_result"
    }
   ],
   "source": [
    "train_df['label'].value_counts()\n"
   ]
  },
  {
   "cell_type": "code",
   "execution_count": 11,
   "metadata": {},
   "outputs": [],
   "source": [
    "x_train=train_df['text']\n",
    "y_train=train_df['label']\n",
    "x_test=test_df['text']\n",
    "y_test=test_df['label']"
   ]
  },
  {
   "cell_type": "code",
   "execution_count": 12,
   "metadata": {},
   "outputs": [],
   "source": [
    "texts_train = x_train.astype(str)\n",
    "texts_test = x_test.astype(str)"
   ]
  },
  {
   "cell_type": "code",
   "execution_count": 13,
   "metadata": {},
   "outputs": [],
   "source": [
    "MAX_NB_WORDS = 20000\n",
    "maxlen = 120  # cut texts after this number of words (among top max_features most common words)\n",
    "batch_size = 32"
   ]
  },
  {
   "cell_type": "markdown",
   "metadata": {},
   "source": [
    "### GLoVe Embedding 200 "
   ]
  },
  {
   "cell_type": "code",
   "execution_count": 14,
   "metadata": {},
   "outputs": [],
   "source": [
    "x_train=train_df['text']\n",
    "y_train=train_df['label']\n",
    "x_test=test_df['text']\n",
    "y_test=test_df['label']"
   ]
  },
  {
   "cell_type": "code",
   "execution_count": 15,
   "metadata": {},
   "outputs": [],
   "source": [
    "MAX_NB_WORDS = 20000\n",
    "maxlen = 120  # cut texts after this number of words (among top max_features most common words)\n",
    "batch_size = 32"
   ]
  },
  {
   "cell_type": "code",
   "execution_count": 16,
   "metadata": {},
   "outputs": [],
   "source": [
    "texts_train = x_train.astype(str)\n",
    "texts_test = x_test.astype(str)"
   ]
  },
  {
   "cell_type": "code",
   "execution_count": 17,
   "metadata": {},
   "outputs": [],
   "source": [
    "tokenizer = Tokenizer(nb_words=MAX_NB_WORDS, char_level=False)\n",
    "tokenizer.fit_on_texts(texts_train)\n",
    "sequences = tokenizer.texts_to_sequences(texts_train)\n",
    "sequences_test = tokenizer.texts_to_sequences(texts_test)"
   ]
  },
  {
   "cell_type": "code",
   "execution_count": 18,
   "metadata": {},
   "outputs": [],
   "source": [
    "file_tok = 'C:/Users/khmar/model_file/LSTM_token_glove_200.sav'\n",
    "pickle.dump(tokenizer, open(file_tok, 'wb'))"
   ]
  },
  {
   "cell_type": "code",
   "execution_count": 30,
   "metadata": {},
   "outputs": [],
   "source": [
    "data = pad_sequences(sequences, maxlen=MAX_SEQUENCE_LENGTH, \n",
    "                     padding=\"pre\", truncating=\"post\")\n",
    "test_data = pad_sequences(sequences_test, maxlen=MAX_SEQUENCE_LENGTH, padding=\"pre\",\n",
    "                          truncating=\"post\")"
   ]
  },
  {
   "cell_type": "code",
   "execution_count": 19,
   "metadata": {},
   "outputs": [
    {
     "name": "stdout",
     "output_type": "stream",
     "text": [
      "Found 4100 unique tokens.\n"
     ]
    }
   ],
   "source": [
    "word_index = tokenizer.word_index\n",
    "print('Found %s unique tokens.' % len(word_index))"
   ]
  },
  {
   "cell_type": "code",
   "execution_count": 20,
   "metadata": {},
   "outputs": [
    {
     "name": "stdout",
     "output_type": "stream",
     "text": [
      "Shape of data tensor: (2842, 200)\n",
      "Shape of data test tensor: (1213, 200)\n"
     ]
    }
   ],
   "source": [
    "MAX_SEQUENCE_LENGTH = 200\n",
    "#pad sequences are used to bring all sentences to same size.\n",
    "# pad sequences with 0s\n",
    "x_train = pad_sequences(sequences, maxlen=MAX_SEQUENCE_LENGTH)\n",
    "x_test = pad_sequences(sequences_test, maxlen=MAX_SEQUENCE_LENGTH)\n",
    "print('Shape of data tensor:', x_train.shape)\n",
    "print('Shape of data test tensor:', x_test.shape)"
   ]
  },
  {
   "cell_type": "code",
   "execution_count": 21,
   "metadata": {},
   "outputs": [],
   "source": [
    "y_train = y_train.map({\"NOTISSUE\": 1, \"ISSUE\" : 0 })\n",
    "y_test = y_test.map({\"NOTISSUE\": 1, \"ISSUE\" : 0 })"
   ]
  },
  {
   "cell_type": "code",
   "execution_count": 22,
   "metadata": {},
   "outputs": [
    {
     "name": "stdout",
     "output_type": "stream",
     "text": [
      "Loaded 400000 word vectors.\n"
     ]
    }
   ],
   "source": [
    "# load the whole embedding into memory\n",
    "embeddings_index = {}\n",
    "f = open('C:/Users/khmar/Desktop/GLoVE/glove.6B.200d.txt', encoding=\"utf8\")\n",
    "for line in f:\n",
    "    values = line.split()\n",
    "    word = values[0]\n",
    "    coefs = np.asarray(values[1:], dtype='float32')\n",
    "    embeddings_index[word] = coefs\n",
    "f.close()\n",
    "print('Loaded %s word vectors.' % len(embeddings_index))"
   ]
  },
  {
   "cell_type": "code",
   "execution_count": 23,
   "metadata": {},
   "outputs": [],
   "source": [
    "embedding_matrix = np.zeros((len(word_index) + 1, 200))\n",
    "#Found 1489 unique tokens : word_index\n",
    "#print(len(word_index) + 1) #### 1490 \n",
    "#print(word_index.items()) ### unique tokens : words :word_index\n",
    "#print('embedding_matrix',embedding_matrix)\n",
    "out_of_vocab={}\n",
    "for word, i in word_index.items():\n",
    "    #print(i)\n",
    "    embedding_vector = embeddings_index.get(word)\n",
    "    #print('embedding_vector' ,embedding_vector )\n",
    "    if embedding_vector is not None:\n",
    "        # words not found in embedding index will be all-zeros.\n",
    "        #print('word: ', word)\n",
    "        embedding_matrix[i] = embedding_vector\n",
    "        #print('embedding_matrix :',embedding_matrix[i] )\n",
    "        # words not found in embedding index will be all-zeros.\n",
    "    if embedding_vector is  None:\n",
    "        #print('word not found :',word)\n",
    "        out_of_vocab[i] = word"
   ]
  },
  {
   "cell_type": "code",
   "execution_count": 24,
   "metadata": {},
   "outputs": [],
   "source": [
    "#file_output= \"C:/Users/khmar/Desktop/out_of_vocab_glove_200_without_text_processing.txt\"\n",
    "#with open(file_output, \"w\") as f1:\n",
    "    #for word, i in out_of_vocab.items():\n",
    "        #print(out_of_vocab.get(word))\n",
    "        #f1.write(out_of_vocab.get(word))"
   ]
  },
  {
   "cell_type": "code",
   "execution_count": 25,
   "metadata": {},
   "outputs": [
    {
     "data": {
      "text/plain": [
       "'There are 258 out of vocab '"
      ]
     },
     "execution_count": 25,
     "metadata": {},
     "output_type": "execute_result"
    }
   ],
   "source": [
    "f'There are {len(out_of_vocab)} out of vocab '"
   ]
  },
  {
   "cell_type": "code",
   "execution_count": 26,
   "metadata": {},
   "outputs": [
    {
     "name": "stdout",
     "output_type": "stream",
     "text": [
      "WARNING:tensorflow:From C:\\Users\\khmar\\ana\\lib\\site-packages\\tensorflow\\python\\framework\\op_def_library.py:263: colocate_with (from tensorflow.python.framework.ops) is deprecated and will be removed in a future version.\n",
      "Instructions for updating:\n",
      "Colocations handled automatically by placer.\n",
      "WARNING:tensorflow:From C:\\Users\\khmar\\ana\\lib\\site-packages\\keras\\backend\\tensorflow_backend.py:3445: calling dropout (from tensorflow.python.ops.nn_ops) with keep_prob is deprecated and will be removed in a future version.\n",
      "Instructions for updating:\n",
      "Please use `rate` instead of `keep_prob`. Rate should be set to `rate = 1 - keep_prob`.\n"
     ]
    }
   ],
   "source": [
    "model_glove= Sequential()\n",
    "model_glove.add(Embedding(len(word_index) + 1,\n",
    "                            200,\n",
    "                            weights=[embedding_matrix],\n",
    "                            input_length=MAX_SEQUENCE_LENGTH,\n",
    "                            trainable=False))\n",
    "model_glove.add(LSTM(128, dropout=0.2, recurrent_dropout=0.2,input_shape=(1,)))\n",
    "model_glove.add(Dense(1, activation='sigmoid'))"
   ]
  },
  {
   "cell_type": "code",
   "execution_count": 27,
   "metadata": {},
   "outputs": [],
   "source": [
    "model_glove.compile(loss='binary_crossentropy',\n",
    "              optimizer='adam',\n",
    "              metrics=['accuracy'])"
   ]
  },
  {
   "cell_type": "code",
   "execution_count": 31,
   "metadata": {},
   "outputs": [
    {
     "name": "stdout",
     "output_type": "stream",
     "text": [
      "WARNING:tensorflow:From C:\\Users\\khmar\\ana\\lib\\site-packages\\tensorflow\\python\\ops\\math_ops.py:3066: to_int32 (from tensorflow.python.ops.math_ops) is deprecated and will be removed in a future version.\n",
      "Instructions for updating:\n",
      "Use tf.cast instead.\n",
      "Train on 2842 samples, validate on 1213 samples\n",
      "Epoch 1/2\n",
      "2842/2842 [==============================] - 26s 9ms/step - loss: 0.5845 - acc: 0.6890 - val_loss: 0.5119 - val_acc: 0.7601\n",
      "Epoch 2/2\n",
      "2842/2842 [==============================] - 23s 8ms/step - loss: 0.4696 - acc: 0.7850 - val_loss: 0.4695 - val_acc: 0.7782\n",
      "Wall time: 50.4 s\n"
     ]
    },
    {
     "data": {
      "text/plain": [
       "<keras.callbacks.History at 0x25b1dec0ba8>"
      ]
     },
     "execution_count": 31,
     "metadata": {},
     "output_type": "execute_result"
    }
   ],
   "source": [
    "%%time\n",
    "model_glove.fit(data, y_train,\n",
    "          batch_size=batch_size,\n",
    "          epochs=2,\n",
    "          validation_data=(test_data, y_test))"
   ]
  },
  {
   "cell_type": "code",
   "execution_count": 32,
   "metadata": {},
   "outputs": [
    {
     "name": "stdout",
     "output_type": "stream",
     "text": [
      "1213/1213 [==============================] - 3s 2ms/step\n",
      "loss: 46.95%\n",
      "acc: 77.82%\n"
     ]
    }
   ],
   "source": [
    "scores = model_glove.evaluate(x_test, y_test,\n",
    "                            batch_size=batch_size)\n",
    "print(\"%s: %.2f%%\" % (model_glove.metrics_names[0], scores[0] * 100))\n",
    "print(\"%s: %.2f%%\" % (model_glove.metrics_names[1], scores[1] * 100))"
   ]
  },
  {
   "cell_type": "code",
   "execution_count": 33,
   "metadata": {},
   "outputs": [],
   "source": [
    "file_model = 'C:/Users/khmar/model_file/LSTM_model_glove_200.sav'\n",
    "pickle.dump(model_glove, open(file_model, 'wb'))"
   ]
  },
  {
   "cell_type": "code",
   "execution_count": 34,
   "metadata": {},
   "outputs": [],
   "source": [
    "# Save the model\n",
    "model_glove.save('lstm_model_glove_200_DATA_without_text_processing.sav')"
   ]
  },
  {
   "cell_type": "markdown",
   "metadata": {},
   "source": [
    "### Prediction"
   ]
  },
  {
   "cell_type": "code",
   "execution_count": 35,
   "metadata": {},
   "outputs": [],
   "source": [
    "#model_file='lstm_model_glove_200_DATA_without_text_processing.sav'\n",
    "#token_file='C:/Users/khmar/model_file/LSTM_token_glove_200d_DATA.sav'\n",
    "#model = pickle.load(open(model_file,'rb'))\n",
    "#token = pickle.load(open(token_file,'rb'))\n",
    "\n",
    "#import numpy as np \n",
    "#from keras.models import load_model # To save and load model\n",
    "\n",
    "# Load the model\n",
    "#my_model = load_model(model_file)\n",
    "#my_model= model_glove"
   ]
  },
  {
   "cell_type": "code",
   "execution_count": 42,
   "metadata": {},
   "outputs": [],
   "source": [
    "def prediction(input_file,output_file):\n",
    "    df= pd.DataFrame(columns=['label', 'text'])\n",
    "    data = pd.read_csv(input_file,delimiter=';')\n",
    "    inputt=data.text\n",
    "    x_input = inputt.values\n",
    "    for i in x_input:\n",
    "        seq = tokenizer.texts_to_sequences(i)\n",
    "        seqs = pad_sequences(seq, maxlen=MAX_SEQUENCE_LENGTH)\n",
    "        yhat = model_glove.predict(seqs)\n",
    "        class_pred = model_glove.predict_classes(seqs)\n",
    "        classe1 = prediction_classe1(class_pred[0][0])\n",
    "        df=df.append({'label':classe1,'text':i},ignore_index=True)\n",
    "    df.to_csv(output_file,sep=';')\n",
    "    return data,df"
   ]
  },
  {
   "cell_type": "code",
   "execution_count": 43,
   "metadata": {},
   "outputs": [],
   "source": [
    "def prediction_classe(prob):\n",
    "    x=\"\"\n",
    "    if prob > 0.7:\n",
    "          x = 'NOTISSUE'\n",
    "    if prob <= 0.7:\n",
    "          x = 'ISSUE'\n",
    "    return x"
   ]
  },
  {
   "cell_type": "code",
   "execution_count": 44,
   "metadata": {},
   "outputs": [],
   "source": [
    "def prediction_classe1(class_pred):\n",
    "    if class_pred == 1:\n",
    "        x = 'ISSUE'\n",
    "    if class_pred== 0:\n",
    "        x = 'NOTISSUE'\n",
    "    return x"
   ]
  },
  {
   "cell_type": "code",
   "execution_count": 39,
   "metadata": {},
   "outputs": [],
   "source": [
    "## prediction of one word"
   ]
  },
  {
   "cell_type": "code",
   "execution_count": 46,
   "metadata": {},
   "outputs": [
    {
     "name": "stdout",
     "output_type": "stream",
     "text": [
      "ISSUE\n"
     ]
    }
   ],
   "source": [
    "seq= tokenizer.texts_to_sequences(\"mediocre product\")\n",
    "seqs = pad_sequences(seq, maxlen=MAX_SEQUENCE_LENGTH)\n",
    "class_pred = model_glove.predict_classes(seqs)\n",
    "#print(class_pred)\n",
    "y = model_glove.predict(seqs)\n",
    "#print(y)\n",
    "classe1 = prediction_classe1(class_pred[0][0])\n",
    "#print(class_pred[0])\n",
    "print(classe1)"
   ]
  },
  {
   "cell_type": "code",
   "execution_count": 47,
   "metadata": {},
   "outputs": [],
   "source": [
    "### prediction of all data"
   ]
  },
  {
   "cell_type": "code",
   "execution_count": 49,
   "metadata": {},
   "outputs": [
    {
     "data": {
      "text/plain": [
       "(                                                   text     label\n",
       " 0     I had ordered a data cable, got a very well fi...  NOTISSUE\n",
       " 1                                      Love This Phone.  NOTISSUE\n",
       " 2                   I get a very well finished product.  NOTISSUE\n",
       " 3                               I could not be happier.  NOTISSUE\n",
       " 4     I was looking for this headset for a long time...  NOTISSUE\n",
       " 5              my headset starts ringing for no reason.     ISSUE\n",
       " 6     Display is excellent and camera is as good as ...  NOTISSUE\n",
       " 7                           Battery life is also great!  NOTISSUE\n",
       " 8     The worst phone I have ever had.... Only had i...     ISSUE\n",
       " 9     Not a good item.. It worked for a while then s...     ISSUE\n",
       " 10    This is so embarassing and also my ears hurt i...     ISSUE\n",
       " 11                     Protects the phone on all sides.  NOTISSUE\n",
       " 12    This is a VERY average phone with bad battery ...     ISSUE\n",
       " 13    Clear Skype Calls, Long Battery Life, Long Range.  NOTISSUE\n",
       " 14                               Soyo technology sucks.     ISSUE\n",
       " 15                             Great Hands Free Device.  NOTISSUE\n",
       " 16    you can even take self portraits with the outs...  NOTISSUE\n",
       " 17               Same problem as others have mentioned.     ISSUE\n",
       " 18    After trying many many handsfree gadgets this ...  NOTISSUE\n",
       " 19                                        Magical Help.  NOTISSUE\n",
       " 20    The worst piece of crap ever along with the Ve...     ISSUE\n",
       " 21                                  Poor sound quality.     ISSUE\n",
       " 22                         The best phone in market :).  NOTISSUE\n",
       " 23                                 It worked very well.  NOTISSUE\n",
       " 24    The company shipped my product very promptly a...  NOTISSUE\n",
       " 25                               Exactly what I wanted.  NOTISSUE\n",
       " 26    The picture resolution is far below what other...     ISSUE\n",
       " 27                                This is a great deal.  NOTISSUE\n",
       " 28    Excellent product, I am very satisfied with th...  NOTISSUE\n",
       " 29    I highly recommend these and encourage people ...  NOTISSUE\n",
       " ...                                                 ...       ...\n",
       " 4025       The flair bartenders are absolutely amazing!  NOTISSUE\n",
       " 4026  Their frozen margaritas are WAY too sugary for...     ISSUE\n",
       " 4027          These were so good we ordered them twice.  NOTISSUE\n",
       " 4028  So in a nutshell: 1) The restaraunt smells lik...     ISSUE\n",
       " 4029                My girlfriend is veal was very bad.     ISSUE\n",
       " 4030                    Unfortunately, it was not good.     ISSUE\n",
       " 4031               I had a pretty satifying experience.  NOTISSUE\n",
       " 4032    Join the club and get awesome offers via email.  NOTISSUE\n",
       " 4033  Perfect for someone (me) who only likes beer i...  NOTISSUE\n",
       " 4034  Bland and flavorless is a good way of describi...     ISSUE\n",
       " 4035  The chains, which I am no fan of, beat this pl...     ISSUE\n",
       " 4036                        The nachos are a MUST HAVE!  NOTISSUE\n",
       " 4037                        We will not be coming back.     ISSUE\n",
       " 4038  I do nothave very many words to say about this...  NOTISSUE\n",
       " 4039  The staff is super nice and very quick even wi...  NOTISSUE\n",
       " 4040       Great atmosphere, friendly and fast service.  NOTISSUE\n",
       " 4041  When I received my Pita it was huge it did hav...  NOTISSUE\n",
       " 4042                  Once your food arrives it is meh.     ISSUE\n",
       " 4043  Paying $7.85 for a hot dog and fries that look...     ISSUE\n",
       " 4044      The classic Maine Lobster Roll was fantastic.  NOTISSUE\n",
       " 4045  My brother in law who works at the mall ate he...     ISSUE\n",
       " 4046  So good I am going to have to review this plac...  NOTISSUE\n",
       " 4047  The chips and salsa were really good, the sals...  NOTISSUE\n",
       " 4048                  This place is great!!!!!!!!!!!!!!  NOTISSUE\n",
       " 4049                                     Mediocre food.     ISSUE\n",
       " 4050  Once you get inside you will be impressed with...  NOTISSUE\n",
       " 4051                    And service was super friendly.  NOTISSUE\n",
       " 4052  Why are these sad little vegetables so overcoo...     ISSUE\n",
       " 4053               This place was such a nice surprise!  NOTISSUE\n",
       " 4054                     The live music  totally blows.  NOTISSUE\n",
       " \n",
       " [4055 rows x 2 columns],\n",
       "          label                                               text\n",
       " 0        ISSUE  I had ordered a data cable, got a very well fi...\n",
       " 1     NOTISSUE                                   Love This Phone.\n",
       " 2        ISSUE                I get a very well finished product.\n",
       " 3        ISSUE                            I could not be happier.\n",
       " 4        ISSUE  I was looking for this headset for a long time...\n",
       " 5        ISSUE           my headset starts ringing for no reason.\n",
       " 6     NOTISSUE  Display is excellent and camera is as good as ...\n",
       " 7        ISSUE                        Battery life is also great!\n",
       " 8        ISSUE  The worst phone I have ever had.... Only had i...\n",
       " 9     NOTISSUE  Not a good item.. It worked for a while then s...\n",
       " 10       ISSUE  This is so embarassing and also my ears hurt i...\n",
       " 11    NOTISSUE                   Protects the phone on all sides.\n",
       " 12       ISSUE  This is a VERY average phone with bad battery ...\n",
       " 13    NOTISSUE  Clear Skype Calls, Long Battery Life, Long Range.\n",
       " 14       ISSUE                             Soyo technology sucks.\n",
       " 15    NOTISSUE                           Great Hands Free Device.\n",
       " 16    NOTISSUE  you can even take self portraits with the outs...\n",
       " 17       ISSUE             Same problem as others have mentioned.\n",
       " 18       ISSUE  After trying many many handsfree gadgets this ...\n",
       " 19       ISSUE                                      Magical Help.\n",
       " 20       ISSUE  The worst piece of crap ever along with the Ve...\n",
       " 21    NOTISSUE                                Poor sound quality.\n",
       " 22       ISSUE                       The best phone in market :).\n",
       " 23       ISSUE                               It worked very well.\n",
       " 24       ISSUE  The company shipped my product very promptly a...\n",
       " 25       ISSUE                             Exactly what I wanted.\n",
       " 26       ISSUE  The picture resolution is far below what other...\n",
       " 27       ISSUE                              This is a great deal.\n",
       " 28       ISSUE  Excellent product, I am very satisfied with th...\n",
       " 29       ISSUE  I highly recommend these and encourage people ...\n",
       " ...        ...                                                ...\n",
       " 4025     ISSUE       The flair bartenders are absolutely amazing!\n",
       " 4026     ISSUE  Their frozen margaritas are WAY too sugary for...\n",
       " 4027     ISSUE          These were so good we ordered them twice.\n",
       " 4028     ISSUE  So in a nutshell: 1) The restaraunt smells lik...\n",
       " 4029     ISSUE                My girlfriend is veal was very bad.\n",
       " 4030     ISSUE                    Unfortunately, it was not good.\n",
       " 4031     ISSUE               I had a pretty satifying experience.\n",
       " 4032  NOTISSUE    Join the club and get awesome offers via email.\n",
       " 4033  NOTISSUE  Perfect for someone (me) who only likes beer i...\n",
       " 4034     ISSUE  Bland and flavorless is a good way of describi...\n",
       " 4035     ISSUE  The chains, which I am no fan of, beat this pl...\n",
       " 4036     ISSUE                        The nachos are a MUST HAVE!\n",
       " 4037  NOTISSUE                        We will not be coming back.\n",
       " 4038     ISSUE  I do nothave very many words to say about this...\n",
       " 4039     ISSUE  The staff is super nice and very quick even wi...\n",
       " 4040  NOTISSUE       Great atmosphere, friendly and fast service.\n",
       " 4041  NOTISSUE  When I received my Pita it was huge it did hav...\n",
       " 4042     ISSUE                  Once your food arrives it is meh.\n",
       " 4043  NOTISSUE  Paying $7.85 for a hot dog and fries that look...\n",
       " 4044     ISSUE      The classic Maine Lobster Roll was fantastic.\n",
       " 4045     ISSUE  My brother in law who works at the mall ate he...\n",
       " 4046     ISSUE  So good I am going to have to review this plac...\n",
       " 4047     ISSUE  The chips and salsa were really good, the sals...\n",
       " 4048     ISSUE                  This place is great!!!!!!!!!!!!!!\n",
       " 4049     ISSUE                                     Mediocre food.\n",
       " 4050     ISSUE  Once you get inside you will be impressed with...\n",
       " 4051     ISSUE                    And service was super friendly.\n",
       " 4052  NOTISSUE  Why are these sad little vegetables so overcoo...\n",
       " 4053     ISSUE               This place was such a nice surprise!\n",
       " 4054     ISSUE                     The live music  totally blows.\n",
       " \n",
       " [4055 rows x 2 columns])"
      ]
     },
     "execution_count": 49,
     "metadata": {},
     "output_type": "execute_result"
    }
   ],
   "source": [
    "input_file ='C:/Users/khmar/Desktop/ISSUE/dataset/CSV/data_ameliorate/data.csv'\n",
    "output_file ='C:/Users/khmar/Desktop/ISSUE/dataset/CSV/data_ameliorate/DATA_pred_glove_200.csv'\n",
    "prediction(input_file,output_file)"
   ]
  },
  {
   "cell_type": "code",
   "execution_count": 50,
   "metadata": {},
   "outputs": [
    {
     "name": "stdout",
     "output_type": "stream",
     "text": [
      "   Unnamed: 0     label                                               text\n",
      "0           0     ISSUE  I had ordered a data cable, got a very well fi...\n",
      "1           1  NOTISSUE                                   Love This Phone.\n",
      "2           2     ISSUE                I get a very well finished product.\n",
      "3           3     ISSUE                            I could not be happier.\n",
      "4           4     ISSUE  I was looking for this headset for a long time...\n"
     ]
    }
   ],
   "source": [
    "data_predict= pd.read_csv(output_file ,delimiter=';',encoding='latin-1')\n",
    "print(data_predict.head())"
   ]
  },
  {
   "cell_type": "code",
   "execution_count": 51,
   "metadata": {},
   "outputs": [
    {
     "data": {
      "text/plain": [
       "ISSUE       2854\n",
       "NOTISSUE    1201\n",
       "Name: label, dtype: int64"
      ]
     },
     "execution_count": 51,
     "metadata": {},
     "output_type": "execute_result"
    }
   ],
   "source": [
    "data_predict['label'].value_counts() "
   ]
  },
  {
   "cell_type": "code",
   "execution_count": 52,
   "metadata": {},
   "outputs": [],
   "source": [
    "### confessin matrix"
   ]
  },
  {
   "cell_type": "code",
   "execution_count": 53,
   "metadata": {},
   "outputs": [
    {
     "name": "stdout",
     "output_type": "stream",
     "text": [
      "[[1411  614]\n",
      " [1443  587]]\n"
     ]
    }
   ],
   "source": [
    "from sklearn.metrics import confusion_matrix\n",
    "cm=confusion_matrix(df.label,data_predict.label)\n",
    "print(cm)"
   ]
  },
  {
   "cell_type": "code",
   "execution_count": 54,
   "metadata": {},
   "outputs": [],
   "source": [
    "from sklearn.metrics import confusion_matrix\n",
    "import matplotlib.pyplot as plt\n",
    "import itertools\n",
    "# This utility function is from the sklearn docs: http://scikit-learn.org/stable/auto_examples/model_selection/plot_confusion_matrix.html\n",
    "def plot_confusion_matrix(cm, classes,\n",
    "                          title='Confusion matrix',\n",
    "                          cmap=plt.cm.Blues):\n",
    "    \"\"\"\n",
    "    This function prints and plots the confusion matrix.\n",
    "    Normalization can be applied by setting `normalize=True`.\n",
    "    \"\"\"\n",
    "\n",
    "    cm = cm.astype('float') / cm.sum(axis=1)[:, np.newaxis]\n",
    "\n",
    "    plt.imshow(cm, interpolation='nearest', cmap=cmap)\n",
    "    plt.title(title, fontsize=30)\n",
    "    plt.colorbar()\n",
    "    tick_marks = np.arange(len(classes))\n",
    "    plt.xticks(tick_marks, classes, rotation=45, fontsize=22)\n",
    "    plt.yticks(tick_marks, classes, fontsize=22)\n",
    "\n",
    "    fmt = '.2f'\n",
    "    thresh = cm.max() / 2.\n",
    "    for i, j in itertools.product(range(cm.shape[0]), range(cm.shape[1])):\n",
    "        plt.text(j, i, format(cm[i, j], fmt),\n",
    "                 horizontalalignment=\"center\",\n",
    "                 color=\"white\" if cm[i, j] > thresh else \"black\")\n",
    "\n",
    "    plt.ylabel('True label', fontsize=25)\n",
    "    plt.xlabel('Predicted label', fontsize=25)"
   ]
  },
  {
   "cell_type": "code",
   "execution_count": 55,
   "metadata": {},
   "outputs": [
    {
     "data": {
      "image/png": "[encoded data removed]",
      "text/plain": [
       "<Figure size 1728x1440 with 2 Axes>"
      ]
     },
     "metadata": {
      "needs_background": "light"
     },
     "output_type": "display_data"
    }
   ],
   "source": [
    "cnf_matrix = confusion_matrix(df.label, data_predict.label)\n",
    "plt.figure(figsize=(24,20))\n",
    "plot_confusion_matrix(cnf_matrix, classes=['ISSUE','NOTISSUE'], title=\"Confusion matrix\")\n",
    "plt.show()"
   ]
  },
  {
   "cell_type": "code",
   "execution_count": 56,
   "metadata": {},
   "outputs": [],
   "source": [
    "#######"
   ]
  },
  {
   "cell_type": "code",
   "execution_count": 57,
   "metadata": {},
   "outputs": [],
   "source": [
    "########"
   ]
  },
  {
   "cell_type": "code",
   "execution_count": 58,
   "metadata": {},
   "outputs": [],
   "source": [
    "from sklearn.metrics import confusion_matrix\n",
    "cf = confusion_matrix(y_true = df.label, y_pred = data_predict.label)"
   ]
  },
  {
   "cell_type": "code",
   "execution_count": 59,
   "metadata": {},
   "outputs": [
    {
     "name": "stdout",
     "output_type": "stream",
     "text": [
      "[\n",
      "  [\n",
      "    1411,\n",
      "    614\n",
      "  ],\n",
      "  [\n",
      "    1443,\n",
      "    587\n",
      "  ]\n",
      "]\n"
     ]
    }
   ],
   "source": [
    "import json\n",
    "print(json.dumps(cf.tolist(), indent=2))"
   ]
  },
  {
   "cell_type": "code",
   "execution_count": 60,
   "metadata": {},
   "outputs": [],
   "source": [
    "import seaborn as sns\n",
    "import matplotlib.pyplot as plt\n",
    "%matplotlib inline"
   ]
  },
  {
   "cell_type": "code",
   "execution_count": 61,
   "metadata": {},
   "outputs": [
    {
     "data": {
      "image/png": "[encoded data removed]",
      "text/plain": [
       "<Figure size 1440x720 with 2 Axes>"
      ]
     },
     "metadata": {
      "needs_background": "light"
     },
     "output_type": "display_data"
    }
   ],
   "source": [
    "plt.figure(figsize=(20,10))\n",
    "ax = sns.heatmap(cf, annot=True, fmt=\"d\",linewidths=.5, center = 90, vmax = 200)"
   ]
  },
  {
   "cell_type": "code",
   "execution_count": 62,
   "metadata": {},
   "outputs": [
    {
     "name": "stdout",
     "output_type": "stream",
     "text": [
      "accuracy 0.49272503082614055\n",
      "              precision    recall  f1-score   support\n",
      "\n",
      "       ISSUE       0.49      0.70      0.58      2025\n",
      "    NOTISSUE       0.49      0.29      0.36      2030\n",
      "\n",
      "   micro avg       0.49      0.49      0.49      4055\n",
      "   macro avg       0.49      0.49      0.47      4055\n",
      "weighted avg       0.49      0.49      0.47      4055\n",
      "\n"
     ]
    }
   ],
   "source": [
    "from sklearn.metrics import classification_report, accuracy_score\n",
    "\n",
    "print('accuracy %s' % accuracy_score(data_predict.label, df.label))\n",
    "print(classification_report(df.label, data_predict.label,target_names=['ISSUE','NOTISSUE']))"
   ]
  },
  {
   "cell_type": "code",
   "execution_count": 63,
   "metadata": {},
   "outputs": [],
   "source": [
    "def false(input_file,output_file,falses_file):\n",
    "    diff= pd.DataFrame(columns=['true_label','pred_label', 'Text'])\n",
    "    data = pd.read_csv(input_file,delimiter=';')\n",
    "    data_pred = pd.read_csv(output_file,delimiter=';')\n",
    "    input1 = data.label\n",
    "    input2 = data_pred.label\n",
    "    x=data.text.values\n",
    "    x_input1 = input1.values\n",
    "    x_input2 = input2.values\n",
    "    for i in range(len(x_input1)):\n",
    "        if x_input1[i]!=x_input2[i]:\n",
    "            diff = diff.append({'true_label':x_input1[i],'pred_label':x_input2[i], 'Text':x[i]},ignore_index=True)\n",
    "    diff.to_csv(falses_file,sep=';')\n",
    "    return diff"
   ]
  },
  {
   "cell_type": "code",
   "execution_count": 64,
   "metadata": {},
   "outputs": [
    {
     "name": "stdout",
     "output_type": "stream",
     "text": [
      "     true_label pred_label                                               Text\n",
      "0      NOTISSUE      ISSUE  I had ordered a data cable, got a very well fi...\n",
      "1      NOTISSUE      ISSUE                I get a very well finished product.\n",
      "2      NOTISSUE      ISSUE                            I could not be happier.\n",
      "3      NOTISSUE      ISSUE  I was looking for this headset for a long time...\n",
      "4      NOTISSUE      ISSUE                        Battery life is also great!\n",
      "5         ISSUE   NOTISSUE  Not a good item.. It worked for a while then s...\n",
      "6      NOTISSUE      ISSUE  After trying many many handsfree gadgets this ...\n",
      "7      NOTISSUE      ISSUE                                      Magical Help.\n",
      "8         ISSUE   NOTISSUE                                Poor sound quality.\n",
      "9      NOTISSUE      ISSUE                       The best phone in market :).\n",
      "10     NOTISSUE      ISSUE                               It worked very well.\n",
      "11     NOTISSUE      ISSUE  The company shipped my product very promptly a...\n",
      "12     NOTISSUE      ISSUE                             Exactly what I wanted.\n",
      "13     NOTISSUE      ISSUE                              This is a great deal.\n",
      "14     NOTISSUE      ISSUE  Excellent product, I am very satisfied with th...\n",
      "15     NOTISSUE      ISSUE  I highly recommend these and encourage people ...\n",
      "16     NOTISSUE      ISSUE                          Better than you'd expect.\n",
      "17     NOTISSUE      ISSUE  Sounds good reasonably priced and effective, I...\n",
      "18        ISSUE   NOTISSUE                              what a disappointment\n",
      "19     NOTISSUE      ISSUE                   Excellent product for the price.\n",
      "20        ISSUE   NOTISSUE                  do not waste your money and time.\n",
      "21     NOTISSUE      ISSUE           I especially love the long battery life.\n",
      "22     NOTISSUE      ISSUE              I will be looking for a new earpiece.\n",
      "23     NOTISSUE      ISSUE  I will be looking for a new earpiece.Jawbone E...\n",
      "24        ISSUE   NOTISSUE  We received a WHITE colored battery that goes ...\n",
      "25     NOTISSUE      ISSUE  I have used several phone in two years, but th...\n",
      "26     NOTISSUE      ISSUE                An Awesome New Look For Fall 2000!.\n",
      "27     NOTISSUE      ISSUE  This is the first phone I have had that has be...\n",
      "28     NOTISSUE      ISSUE  I'm using it with an iriver SPINN (with case) ...\n",
      "29     NOTISSUE      ISSUE  Overall, I am psyched to have a phone which ha...\n",
      "...         ...        ...                                                ...\n",
      "2027   NOTISSUE      ISSUE  An extensive menu provides lots of options for...\n",
      "2028   NOTISSUE      ISSUE  I always order from the vegetarian menu during...\n",
      "2029   NOTISSUE      ISSUE  I got to enjoy the seafood salad, with a fabul...\n",
      "2030   NOTISSUE      ISSUE  The wontons were thin, not thick and chewy, al...\n",
      "2031   NOTISSUE      ISSUE                      This is a GREAT place to eat!\n",
      "2032   NOTISSUE      ISSUE                  The jalapeno bacon is soooo good.\n",
      "2033   NOTISSUE      ISSUE                                  service was good.\n",
      "2034   NOTISSUE      ISSUE                       I am so happy to be here!!!\"\n",
      "2035   NOTISSUE      ISSUE  One of the few places in Phoenix that I would ...\n",
      "2036   NOTISSUE      ISSUE                             The block was amazing.\n",
      "2037   NOTISSUE      ISSUE  It is close to my house, it is low-key, non-fa...\n",
      "2038   NOTISSUE      ISSUE  Both the Hot & Sour & the Egg Flower Soups wer...\n",
      "2039      ISSUE   NOTISSUE          What did bother me, was the slow service.\n",
      "2040   NOTISSUE      ISSUE       The flair bartenders are absolutely amazing!\n",
      "2041   NOTISSUE      ISSUE          These were so good we ordered them twice.\n",
      "2042   NOTISSUE      ISSUE               I had a pretty satifying experience.\n",
      "2043   NOTISSUE      ISSUE                        The nachos are a MUST HAVE!\n",
      "2044      ISSUE   NOTISSUE                        We will not be coming back.\n",
      "2045   NOTISSUE      ISSUE  I do nothave very many words to say about this...\n",
      "2046   NOTISSUE      ISSUE  The staff is super nice and very quick even wi...\n",
      "2047      ISSUE   NOTISSUE  Paying $7.85 for a hot dog and fries that look...\n",
      "2048   NOTISSUE      ISSUE      The classic Maine Lobster Roll was fantastic.\n",
      "2049   NOTISSUE      ISSUE  So good I am going to have to review this plac...\n",
      "2050   NOTISSUE      ISSUE  The chips and salsa were really good, the sals...\n",
      "2051   NOTISSUE      ISSUE                  This place is great!!!!!!!!!!!!!!\n",
      "2052   NOTISSUE      ISSUE  Once you get inside you will be impressed with...\n",
      "2053   NOTISSUE      ISSUE                    And service was super friendly.\n",
      "2054      ISSUE   NOTISSUE  Why are these sad little vegetables so overcoo...\n",
      "2055   NOTISSUE      ISSUE               This place was such a nice surprise!\n",
      "2056   NOTISSUE      ISSUE                     The live music  totally blows.\n",
      "\n",
      "[2057 rows x 3 columns]\n"
     ]
    }
   ],
   "source": [
    "falses_file='C:/Users/khmar/Desktop/ISSUE/dataset/CSV/DATA_pred_glove_200.csv'\n",
    "diff=false(input_file,output_file,falses_file)\n",
    "print(diff)"
   ]
  },
  {
   "cell_type": "code",
   "execution_count": 65,
   "metadata": {},
   "outputs": [],
   "source": [
    "#from sklearn.metrics import confusion_matrix,classification_report\n",
    "#print('\\n*Classification LSTM Word2Vec:\\n', classification_report(y_test, model_glove.predict(x_test)))"
   ]
  },
  {
   "cell_type": "code",
   "execution_count": null,
   "metadata": {},
   "outputs": [],
   "source": []
  }
 ],
 "metadata": {
  "kernelspec": {
   "display_name": "Python 3",
   "language": "python",
   "name": "python3"
  },
  "language_info": {
   "codemirror_mode": {
    "name": "ipython",
    "version": 3
   },
   "file_extension": ".py",
   "mimetype": "text/x-python",
   "name": "python",
   "nbconvert_exporter": "python",
   "pygments_lexer": "ipython3",
   "version": "3.6.8"
  }
 },
 "nbformat": 4,
 "nbformat_minor": 2
}
